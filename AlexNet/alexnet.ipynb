{
 "cells": [
  {
   "cell_type": "code",
   "execution_count": null,
   "metadata": {
    "execution": {
     "iopub.execute_input": "2025-02-18T17:12:44.442834Z",
     "iopub.status.busy": "2025-02-18T17:12:44.442528Z",
     "iopub.status.idle": "2025-02-18T17:12:44.750658Z",
     "shell.execute_reply": "2025-02-18T17:12:44.750013Z",
     "shell.execute_reply.started": "2025-02-18T17:12:44.442812Z"
    },
    "trusted": true
   },
   "outputs": [
    {
     "name": "stdout",
     "output_type": "stream",
     "text": [
      "segmented\n",
      "grayscale\n",
      "plantvillage dataset\n",
      "color\n"
     ]
    }
   ],
   "source": [
    "from pathlib import Path\n",
    "\n",
    "import pandas as pd\n",
    "from tqdm import tqdm\n",
    "\n",
    "\n",
    "def data(dataset_path):\n",
    "    images = []\n",
    "    labels = []\n",
    "    dataset_path = Path(dataset_path)\n",
    "    \n",
    "    for subfolder in tqdm(dataset_path.iterdir(), desc=\"Processing Subfolders\"):\n",
    "        if subfolder.is_dir():\n",
    "            for image_file in subfolder.iterdir():\n",
    "                if image_file.is_file():\n",
    "                    images.append(str(image_file))\n",
    "                    labels.append(subfolder.name)\n",
    "    \n",
    "    df = pd.DataFrame({'image': images, 'label': labels})\n",
    "    return df"
   ]
  },
  {
   "cell_type": "code",
   "execution_count": 3,
   "metadata": {
    "execution": {
     "iopub.execute_input": "2025-02-18T17:12:58.332467Z",
     "iopub.status.busy": "2025-02-18T17:12:58.331992Z",
     "iopub.status.idle": "2025-02-18T17:14:44.101146Z",
     "shell.execute_reply": "2025-02-18T17:14:44.100306Z",
     "shell.execute_reply.started": "2025-02-18T17:12:58.332440Z"
    },
    "trusted": true
   },
   "outputs": [
    {
     "name": "stderr",
     "output_type": "stream",
     "text": [
      "Processing Subfolders: 38it [01:45,  2.78s/it]"
     ]
    },
    {
     "name": "stdout",
     "output_type": "stream",
     "text": [
      "(54306, 2)\n",
      "Number of classes: 38\n"
     ]
    },
    {
     "name": "stderr",
     "output_type": "stream",
     "text": [
      "\n"
     ]
    }
   ],
   "source": [
    "segmented_path = '/kaggle/input/plantvillage-dataset/segmented'\n",
    "segmented = data(segmented_path)\n",
    "print(train_segmented.shape)\n",
    "segmented.label.value_counts().to_frame()\n",
    "num_classes = segmented['label'].nunique()\n",
    "print(f\"Number of classes: {num_classes}\")"
   ]
  },
  {
   "cell_type": "code",
   "execution_count": 6,
   "metadata": {
    "execution": {
     "iopub.execute_input": "2025-02-18T17:18:49.428436Z",
     "iopub.status.busy": "2025-02-18T17:18:49.428137Z",
     "iopub.status.idle": "2025-02-18T17:18:49.438551Z",
     "shell.execute_reply": "2025-02-18T17:18:49.437574Z",
     "shell.execute_reply.started": "2025-02-18T17:18:49.428413Z"
    },
    "trusted": true
   },
   "outputs": [
    {
     "data": {
      "text/plain": [
       "label\n",
       "Orange___Haunglongbing_(Citrus_greening)              5507\n",
       "Tomato___Tomato_Yellow_Leaf_Curl_Virus                5357\n",
       "Soybean___healthy                                     5090\n",
       "Peach___Bacterial_spot                                2297\n",
       "Tomato___Bacterial_spot                               2127\n",
       "Tomato___Late_blight                                  1909\n",
       "Squash___Powdery_mildew                               1835\n",
       "Tomato___Septoria_leaf_spot                           1771\n",
       "Tomato___Spider_mites Two-spotted_spider_mite         1676\n",
       "Apple___healthy                                       1645\n",
       "Tomato___healthy                                      1591\n",
       "Blueberry___healthy                                   1502\n",
       "Pepper,_bell___healthy                                1478\n",
       "Tomato___Target_Spot                                  1404\n",
       "Grape___Esca_(Black_Measles)                          1384\n",
       "Corn_(maize)___Common_rust_                           1192\n",
       "Grape___Black_rot                                     1180\n",
       "Corn_(maize)___healthy                                1162\n",
       "Strawberry___Leaf_scorch                              1109\n",
       "Grape___Leaf_blight_(Isariopsis_Leaf_Spot)            1076\n",
       "Cherry_(including_sour)___Powdery_mildew              1052\n",
       "Potato___Late_blight                                  1000\n",
       "Tomato___Early_blight                                 1000\n",
       "Potato___Early_blight                                 1000\n",
       "Pepper,_bell___Bacterial_spot                          997\n",
       "Corn_(maize)___Northern_Leaf_Blight                    985\n",
       "Tomato___Leaf_Mold                                     952\n",
       "Cherry_(including_sour)___healthy                      854\n",
       "Apple___Apple_scab                                     630\n",
       "Apple___Black_rot                                      621\n",
       "Corn_(maize)___Cercospora_leaf_spot Gray_leaf_spot     513\n",
       "Strawberry___healthy                                   456\n",
       "Grape___healthy                                        423\n",
       "Tomato___Tomato_mosaic_virus                           373\n",
       "Raspberry___healthy                                    371\n",
       "Peach___healthy                                        360\n",
       "Apple___Cedar_apple_rust                               275\n",
       "Potato___healthy                                       152\n",
       "Name: count, dtype: int64"
      ]
     },
     "execution_count": 6,
     "metadata": {},
     "output_type": "execute_result"
    }
   ],
   "source": [
    "train_segmented['label'].value_counts()"
   ]
  },
  {
   "cell_type": "code",
   "execution_count": 46,
   "metadata": {
    "execution": {
     "iopub.execute_input": "2025-02-18T17:57:18.097885Z",
     "iopub.status.busy": "2025-02-18T17:57:18.097506Z",
     "iopub.status.idle": "2025-02-18T17:57:18.110521Z",
     "shell.execute_reply": "2025-02-18T17:57:18.109813Z",
     "shell.execute_reply.started": "2025-02-18T17:57:18.097858Z"
    },
    "trusted": true
   },
   "outputs": [],
   "source": [
    "df = train_segmented\n",
    "unique_labels = sorted(df[\"label\"].unique())\n",
    "label_mapping = {label: idx for idx, label in enumerate(unique_labels)}\n",
    "df[\"label\"] = df[\"label\"].map(label_mapping)\n"
   ]
  },
  {
   "cell_type": "code",
   "execution_count": null,
   "metadata": {
    "execution": {
     "iopub.execute_input": "2025-02-18T17:19:56.715080Z",
     "iopub.status.busy": "2025-02-18T17:19:56.714801Z",
     "iopub.status.idle": "2025-02-18T17:20:01.959128Z",
     "shell.execute_reply": "2025-02-18T17:20:01.958429Z",
     "shell.execute_reply.started": "2025-02-18T17:19:56.715059Z"
    },
    "trusted": true
   },
   "outputs": [],
   "source": [
    "import torch\n",
    "import torch.nn as nn"
   ]
  },
  {
   "cell_type": "code",
   "execution_count": null,
   "metadata": {
    "execution": {
     "iopub.execute_input": "2025-02-18T18:15:59.789292Z",
     "iopub.status.busy": "2025-02-18T18:15:59.788988Z",
     "iopub.status.idle": "2025-02-18T18:15:59.798271Z",
     "shell.execute_reply": "2025-02-18T18:15:59.797251Z",
     "shell.execute_reply.started": "2025-02-18T18:15:59.789269Z"
    },
    "trusted": true
   },
   "outputs": [],
   "source": [
    "class AlexNet(nn.Module):\n",
    "    def __init__(self, num_classes=10):\n",
    "        super(AlexNet, self).__init__()\n",
    "        self.layer1 = nn.Sequential(\n",
    "            nn.Conv2d(3, 96, kernel_size=11, stride=4, padding=0),\n",
    "            nn.BatchNorm2d(96),\n",
    "            nn.ReLU(),\n",
    "            nn.MaxPool2d(kernel_size = 3, stride = 2))\n",
    "        self.layer2 = nn.Sequential(\n",
    "            nn.Conv2d(96, 256, kernel_size=5, stride=1, padding=2),\n",
    "            nn.BatchNorm2d(256),\n",
    "            nn.ReLU(),\n",
    "            nn.MaxPool2d(kernel_size = 3, stride = 2))\n",
    "        self.layer3 = nn.Sequential(\n",
    "            nn.Conv2d(256, 384, kernel_size=3, stride=1, padding=1),\n",
    "            nn.BatchNorm2d(384),\n",
    "            nn.ReLU())\n",
    "        self.layer4 = nn.Sequential(\n",
    "            nn.Conv2d(384, 384, kernel_size=3, stride=1, padding=1),\n",
    "            nn.BatchNorm2d(384),\n",
    "            nn.ReLU())\n",
    "        self.layer5 = nn.Sequential(\n",
    "            nn.Conv2d(384, 256, kernel_size=3, stride=1, padding=1),\n",
    "            nn.BatchNorm2d(256),\n",
    "            nn.ReLU(),\n",
    "            nn.MaxPool2d(kernel_size = 3, stride = 2))\n",
    "        self.avgpool = nn.AdaptiveAvgPool2d((6, 6))\n",
    "        self.fc = nn.Sequential(\n",
    "            nn.Dropout(0.5),\n",
    "            nn.Linear(6*6*256, 4096),\n",
    "            nn.ReLU())\n",
    "        self.fc1 = nn.Sequential(\n",
    "            nn.Dropout(0.5),\n",
    "            nn.Linear(4096, 4096),\n",
    "            nn.ReLU())\n",
    "        self.fc2= nn.Sequential(\n",
    "            nn.Linear(4096, num_classes))\n",
    "\n",
    "    def forward(self, x):\n",
    "        out = self.layer1(x)\n",
    "        out = self.layer2(out)\n",
    "        out = self.layer3(out)\n",
    "        out = self.layer4(out)\n",
    "        out = self.layer5(out)\n",
    "        out = self.avgpool(out)\n",
    "        out = torch.flatten(out, 1)\n",
    "        out = self.fc(out)\n",
    "        out = self.fc1(out)\n",
    "        out = self.fc2(out)\n",
    "        return out"
   ]
  },
  {
   "cell_type": "code",
   "execution_count": null,
   "metadata": {
    "execution": {
     "iopub.execute_input": "2025-02-18T18:16:02.239487Z",
     "iopub.status.busy": "2025-02-18T18:16:02.239165Z",
     "iopub.status.idle": "2025-02-18T18:16:02.804764Z",
     "shell.execute_reply": "2025-02-18T18:16:02.803860Z",
     "shell.execute_reply.started": "2025-02-18T18:16:02.239461Z"
    },
    "trusted": true
   },
   "outputs": [
    {
     "data": {
      "text/plain": [
       "==========================================================================================\n",
       "Layer (type:depth-idx)                   Output Shape              Param #\n",
       "==========================================================================================\n",
       "AlexNet                                  [1, 38]                   --\n",
       "├─Sequential: 1-1                        [1, 96, 26, 26]           --\n",
       "│    └─Conv2d: 2-1                       [1, 96, 54, 54]           34,944\n",
       "│    └─BatchNorm2d: 2-2                  [1, 96, 54, 54]           192\n",
       "│    └─ReLU: 2-3                         [1, 96, 54, 54]           --\n",
       "│    └─MaxPool2d: 2-4                    [1, 96, 26, 26]           --\n",
       "├─Sequential: 1-2                        [1, 256, 12, 12]          --\n",
       "│    └─Conv2d: 2-5                       [1, 256, 26, 26]          614,656\n",
       "│    └─BatchNorm2d: 2-6                  [1, 256, 26, 26]          512\n",
       "│    └─ReLU: 2-7                         [1, 256, 26, 26]          --\n",
       "│    └─MaxPool2d: 2-8                    [1, 256, 12, 12]          --\n",
       "├─Sequential: 1-3                        [1, 384, 12, 12]          --\n",
       "│    └─Conv2d: 2-9                       [1, 384, 12, 12]          885,120\n",
       "│    └─BatchNorm2d: 2-10                 [1, 384, 12, 12]          768\n",
       "│    └─ReLU: 2-11                        [1, 384, 12, 12]          --\n",
       "├─Sequential: 1-4                        [1, 384, 12, 12]          --\n",
       "│    └─Conv2d: 2-12                      [1, 384, 12, 12]          1,327,488\n",
       "│    └─BatchNorm2d: 2-13                 [1, 384, 12, 12]          768\n",
       "│    └─ReLU: 2-14                        [1, 384, 12, 12]          --\n",
       "├─Sequential: 1-5                        [1, 256, 5, 5]            --\n",
       "│    └─Conv2d: 2-15                      [1, 256, 12, 12]          884,992\n",
       "│    └─BatchNorm2d: 2-16                 [1, 256, 12, 12]          512\n",
       "│    └─ReLU: 2-17                        [1, 256, 12, 12]          --\n",
       "│    └─MaxPool2d: 2-18                   [1, 256, 5, 5]            --\n",
       "├─AdaptiveAvgPool2d: 1-6                 [1, 256, 6, 6]            --\n",
       "├─Sequential: 1-7                        [1, 4096]                 --\n",
       "│    └─Dropout: 2-19                     [1, 9216]                 --\n",
       "│    └─Linear: 2-20                      [1, 4096]                 37,752,832\n",
       "│    └─ReLU: 2-21                        [1, 4096]                 --\n",
       "├─Sequential: 1-8                        [1, 4096]                 --\n",
       "│    └─Dropout: 2-22                     [1, 4096]                 --\n",
       "│    └─Linear: 2-23                      [1, 4096]                 16,781,312\n",
       "│    └─ReLU: 2-24                        [1, 4096]                 --\n",
       "├─Sequential: 1-9                        [1, 38]                   --\n",
       "│    └─Linear: 2-25                      [1, 38]                   155,686\n",
       "==========================================================================================\n",
       "Total params: 58,439,782\n",
       "Trainable params: 58,439,782\n",
       "Non-trainable params: 0\n",
       "Total mult-adds (G): 1.02\n",
       "==========================================================================================\n",
       "Input size (MB): 0.60\n",
       "Forward/backward pass size (MB): 9.67\n",
       "Params size (MB): 233.76\n",
       "Estimated Total Size (MB): 244.03\n",
       "=========================================================================================="
      ]
     },
     "execution_count": 59,
     "metadata": {},
     "output_type": "execute_result"
    }
   ],
   "source": [
    "from torchinfo import summary\n",
    "\n",
    "model = AlexNet(num_classes=38)\n",
    "\n",
    "summary(model, input_size=(1, 3, 224, 224))  # Batch size of 1, 3 color channels, 224x224 image\n"
   ]
  },
  {
   "cell_type": "code",
   "execution_count": null,
   "metadata": {
    "execution": {
     "iopub.execute_input": "2025-02-18T17:58:03.999910Z",
     "iopub.status.busy": "2025-02-18T17:58:03.999563Z",
     "iopub.status.idle": "2025-02-18T17:58:04.054270Z",
     "shell.execute_reply": "2025-02-18T17:58:04.053507Z",
     "shell.execute_reply.started": "2025-02-18T17:58:03.999886Z"
    },
    "trusted": true
   },
   "outputs": [],
   "source": [
    "from PIL import Image\n",
    "from sklearn.model_selection import train_test_split\n",
    "from torch.utils.data import DataLoader, Dataset\n",
    "from torchvision import transforms\n",
    "\n",
    "train_df, test_df = train_test_split(df, test_size=0.2, stratify=df[\"label\"], random_state=42)\n",
    "train_df, val_df = train_test_split(train_df, test_size=0.1, stratify=train_df[\"label\"], random_state=42)\n",
    "\n",
    "class Dataset(Dataset):\n",
    "    def __init__(self, dataframe, transform=None):\n",
    "        self.dataframe = dataframe\n",
    "        self.transform = transform\n",
    "\n",
    "    def __len__(self):\n",
    "        return len(self.dataframe)\n",
    "\n",
    "    def __getitem__(self, idx):\n",
    "        img_path = self.dataframe.iloc[idx, 0]\n",
    "        label = self.dataframe.iloc[idx, 1]\n",
    "        \n",
    "        image = Image.open(img_path).convert(\"RGB\") \n",
    "        if self.transform:\n",
    "            image = self.transform(image)\n",
    "\n",
    "        return image, label\n",
    "\n",
    "transform = transforms.Compose([\n",
    "    transforms.Resize((224, 224)), \n",
    "    transforms.ToTensor(),\n",
    "    transforms.Normalize(mean=[0.485, 0.456, 0.406], std=[0.229, 0.224, 0.225])  \n",
    "])\n",
    "\n",
    "train_dataset = Dataset(train_df, transform=transform)\n",
    "val_dataset = Dataset(val_df, transform=transform)\n",
    "test_dataset = Dataset(test_df, transform=transform)\n",
    "\n",
    "batch_size = 32\n",
    "\n",
    "train_loader = DataLoader(train_dataset, batch_size=batch_size, shuffle=True, num_workers=2)\n",
    "val_loader = DataLoader(val_dataset, batch_size=batch_size, shuffle=False, num_workers=2)\n",
    "test_loader = DataLoader(test_dataset, batch_size=batch_size, shuffle=False, num_workers=2)"
   ]
  },
  {
   "cell_type": "code",
   "execution_count": 50,
   "metadata": {
    "execution": {
     "iopub.execute_input": "2025-02-18T17:58:25.086542Z",
     "iopub.status.busy": "2025-02-18T17:58:25.086228Z",
     "iopub.status.idle": "2025-02-18T17:58:26.079269Z",
     "shell.execute_reply": "2025-02-18T17:58:26.078226Z",
     "shell.execute_reply.started": "2025-02-18T17:58:25.086519Z"
    },
    "trusted": true
   },
   "outputs": [
    {
     "name": "stdout",
     "output_type": "stream",
     "text": [
      "torch.Size([32, 3, 224, 224]) torch.Size([32])\n"
     ]
    }
   ],
   "source": [
    "for images, labels in train_loader:\n",
    "    print(images.shape, labels.shape)\n",
    "    break"
   ]
  },
  {
   "cell_type": "code",
   "execution_count": null,
   "metadata": {
    "execution": {
     "iopub.execute_input": "2025-02-18T18:16:15.412362Z",
     "iopub.status.busy": "2025-02-18T18:16:15.412063Z",
     "iopub.status.idle": "2025-02-18T18:16:15.427297Z",
     "shell.execute_reply": "2025-02-18T18:16:15.426233Z",
     "shell.execute_reply.started": "2025-02-18T18:16:15.412340Z"
    },
    "trusted": true
   },
   "outputs": [],
   "source": [
    "import torch.nn as nn\n",
    "import torch.optim as optim\n",
    "from sklearn.metrics import accuracy_score, precision_recall_fscore_support\n",
    "\n",
    "\n",
    "class Trainer:\n",
    "    def __init__(self, model, train_loader, val_loader, test_loader, lr=1e-3, num_epochs=10):\n",
    "        self.device = torch.device(\"cuda\" if torch.cuda.is_available() else \"cpu\")\n",
    "        self.model = model.to(self.device)\n",
    "        self.train_loader = train_loader\n",
    "        self.val_loader = val_loader\n",
    "        self.test_loader = test_loader\n",
    "        self.num_epochs = num_epochs\n",
    "        self.lr = lr\n",
    "\n",
    "        self.optimizer = optim.Adam(model.parameters(), lr=self.lr)\n",
    "        self.criterion = nn.CrossEntropyLoss()\n",
    "\n",
    "        self.best_val_loss = float(\"inf\")\n",
    "        self.best_model_state = None\n",
    "\n",
    "    def train_epoch(self, epoch):\n",
    "        self.model.train()\n",
    "        total_loss = 0\n",
    "\n",
    "        pbar = tqdm(self.train_loader, desc=f\"Epoch {epoch + 1}/{self.num_epochs}\")\n",
    "\n",
    "        for images, labels in pbar:\n",
    "            images = images.float().to(self.device)\n",
    "            labels = labels.long().to(self.device)  # CrossEntropyLoss expects long dtype\n",
    "\n",
    "            self.optimizer.zero_grad()\n",
    "            outputs = self.model(images)\n",
    "            loss = self.criterion(outputs, labels)\n",
    "            loss.backward()\n",
    "            self.optimizer.step()\n",
    "\n",
    "            total_loss += loss.item()\n",
    "            pbar.set_postfix(loss=f\"{loss.item():.4f}\")\n",
    "\n",
    "        return total_loss / len(self.train_loader)\n",
    "\n",
    "    def validate(self):\n",
    "        self.model.eval()\n",
    "        total_loss = 0\n",
    "        all_preds, all_labels = [], []\n",
    "\n",
    "        with torch.no_grad():\n",
    "            for images, labels in self.val_loader:\n",
    "                images = images.float().to(self.device)\n",
    "                labels = labels.long().to(self.device)\n",
    "\n",
    "                outputs = self.model(images)\n",
    "                loss = self.criterion(outputs, labels)\n",
    "\n",
    "                total_loss += loss.item() * labels.size(0)\n",
    "\n",
    "                preds = torch.argmax(outputs, dim=1).cpu().numpy()\n",
    "                all_preds.extend(preds)\n",
    "                all_labels.extend(labels.cpu().numpy())\n",
    "\n",
    "        avg_loss = total_loss / len(self.val_loader.dataset)\n",
    "        metrics = self.calculate_metrics(all_preds, all_labels)\n",
    "\n",
    "        return avg_loss, metrics\n",
    "\n",
    "    @staticmethod\n",
    "    def calculate_metrics(predictions, labels):\n",
    "        accuracy = accuracy_score(labels, predictions)\n",
    "        precision, recall, f1, _ = precision_recall_fscore_support(\n",
    "            labels, predictions, average=\"weighted\", zero_division=0\n",
    "        )\n",
    "\n",
    "        return {\"accuracy\": accuracy, \"precision\": precision, \"recall\": recall, \"f1\": f1}\n",
    "\n",
    "    @staticmethod\n",
    "    def print_metrics(metrics, phase):\n",
    "        print(f\"\\n{phase} Metrics:\")\n",
    "        print(\"-\" * 50)\n",
    "        for metric, value in metrics.items():\n",
    "            print(f\"{metric.capitalize()}: {value:.4f}\")\n",
    "        print(\"-\" * 50)\n",
    "\n",
    "    def train(self):\n",
    "        for epoch in range(self.num_epochs):\n",
    "            train_loss = self.train_epoch(epoch)\n",
    "            val_loss, val_metrics = self.validate()\n",
    "\n",
    "            print(f\"\\nEpoch {epoch + 1}: Train Loss = {train_loss:.4f} | Val Loss = {val_loss:.4f}\")\n",
    "            self.print_metrics(val_metrics, \"Validation\")\n",
    "\n",
    "            # Save best model\n",
    "            if val_loss < self.best_val_loss:\n",
    "                self.best_val_loss = val_loss\n",
    "                self.best_model_state = self.model.state_dict()\n",
    "\n",
    "    def test(self):\n",
    "        self.model.load_state_dict(self.best_model_state)\n",
    "        test_loss, test_metrics = self.validate()\n",
    "        print(\"\\nBest Model Performance on Test Set:\")\n",
    "        self.print_metrics(test_metrics, \"Test\")\n"
   ]
  },
  {
   "cell_type": "code",
   "execution_count": 61,
   "metadata": {
    "execution": {
     "iopub.execute_input": "2025-02-18T18:16:17.045845Z",
     "iopub.status.busy": "2025-02-18T18:16:17.045519Z",
     "iopub.status.idle": "2025-02-18T18:16:17.050648Z",
     "shell.execute_reply": "2025-02-18T18:16:17.050015Z",
     "shell.execute_reply.started": "2025-02-18T18:16:17.045821Z"
    },
    "trusted": true
   },
   "outputs": [],
   "source": [
    "trainer = Trainer(model, train_loader, test_loader, val_loader)"
   ]
  },
  {
   "cell_type": "code",
   "execution_count": 62,
   "metadata": {
    "execution": {
     "iopub.execute_input": "2025-02-18T18:16:19.175210Z",
     "iopub.status.busy": "2025-02-18T18:16:19.174932Z",
     "iopub.status.idle": "2025-02-18T18:39:41.042183Z",
     "shell.execute_reply": "2025-02-18T18:39:41.040917Z",
     "shell.execute_reply.started": "2025-02-18T18:16:19.175189Z"
    },
    "trusted": true
   },
   "outputs": [
    {
     "name": "stderr",
     "output_type": "stream",
     "text": [
      "Epoch 1/10: 100%|██████████| 1222/1222 [03:34<00:00,  5.70it/s, loss=1.8286]\n"
     ]
    },
    {
     "name": "stdout",
     "output_type": "stream",
     "text": [
      "\n",
      "Epoch 1: Train Loss = 2.5599 | Val Loss = 1.7110\n",
      "\n",
      "Validation Metrics:\n",
      "--------------------------------------------------\n",
      "Accuracy: 0.4911\n",
      "Precision: 0.4300\n",
      "Recall: 0.4911\n",
      "F1: 0.4124\n",
      "--------------------------------------------------\n"
     ]
    },
    {
     "name": "stderr",
     "output_type": "stream",
     "text": [
      "Epoch 2/10: 100%|██████████| 1222/1222 [01:39<00:00, 12.34it/s, loss=1.2560]\n"
     ]
    },
    {
     "name": "stdout",
     "output_type": "stream",
     "text": [
      "\n",
      "Epoch 2: Train Loss = 1.6464 | Val Loss = 1.2823\n",
      "\n",
      "Validation Metrics:\n",
      "--------------------------------------------------\n",
      "Accuracy: 0.6309\n",
      "Precision: 0.6636\n",
      "Recall: 0.6309\n",
      "F1: 0.6062\n",
      "--------------------------------------------------\n"
     ]
    },
    {
     "name": "stderr",
     "output_type": "stream",
     "text": [
      "Epoch 3/10: 100%|██████████| 1222/1222 [01:37<00:00, 12.48it/s, loss=0.8803]\n"
     ]
    },
    {
     "name": "stdout",
     "output_type": "stream",
     "text": [
      "\n",
      "Epoch 3: Train Loss = 1.1783 | Val Loss = 0.7614\n",
      "\n",
      "Validation Metrics:\n",
      "--------------------------------------------------\n",
      "Accuracy: 0.7775\n",
      "Precision: 0.7859\n",
      "Recall: 0.7775\n",
      "F1: 0.7674\n",
      "--------------------------------------------------\n"
     ]
    },
    {
     "name": "stderr",
     "output_type": "stream",
     "text": [
      "Epoch 4/10: 100%|██████████| 1222/1222 [01:39<00:00, 12.32it/s, loss=0.6723]\n"
     ]
    },
    {
     "name": "stdout",
     "output_type": "stream",
     "text": [
      "\n",
      "Epoch 4: Train Loss = 0.8634 | Val Loss = 0.6546\n",
      "\n",
      "Validation Metrics:\n",
      "--------------------------------------------------\n",
      "Accuracy: 0.8042\n",
      "Precision: 0.8319\n",
      "Recall: 0.8042\n",
      "F1: 0.8035\n",
      "--------------------------------------------------\n"
     ]
    },
    {
     "name": "stderr",
     "output_type": "stream",
     "text": [
      "Epoch 5/10: 100%|██████████| 1222/1222 [01:36<00:00, 12.63it/s, loss=0.5795]\n"
     ]
    },
    {
     "name": "stdout",
     "output_type": "stream",
     "text": [
      "\n",
      "Epoch 5: Train Loss = 0.6526 | Val Loss = 0.4439\n",
      "\n",
      "Validation Metrics:\n",
      "--------------------------------------------------\n",
      "Accuracy: 0.8690\n",
      "Precision: 0.8746\n",
      "Recall: 0.8690\n",
      "F1: 0.8667\n",
      "--------------------------------------------------\n"
     ]
    },
    {
     "name": "stderr",
     "output_type": "stream",
     "text": [
      "Epoch 6/10:  20%|██        | 247/1222 [00:19<01:17, 12.61it/s, loss=0.3982]"
     ]
    },
    {
     "name": "stdout",
     "output_type": "stream",
     "text": [
      "\n",
      "Epoch 6: Train Loss = 0.5208 | Val Loss = 0.4028\n",
      "\n",
      "Validation Metrics:\n",
      "--------------------------------------------------\n",
      "Accuracy: 0.8886\n",
      "Precision: 0.8929\n",
      "Recall: 0.8886\n",
      "F1: 0.8866\n",
      "--------------------------------------------------\n"
     ]
    },
    {
     "name": "stderr",
     "output_type": "stream",
     "text": [
      "Epoch 7/10: 100%|██████████| 1222/1222 [01:39<00:00, 12.32it/s, loss=0.2862]\n"
     ]
    },
    {
     "name": "stdout",
     "output_type": "stream",
     "text": [
      "\n",
      "Epoch 7: Train Loss = 0.4291 | Val Loss = 0.3141\n",
      "\n",
      "Validation Metrics:\n",
      "--------------------------------------------------\n",
      "Accuracy: 0.9034\n",
      "Precision: 0.9102\n",
      "Recall: 0.9034\n",
      "F1: 0.9032\n",
      "--------------------------------------------------\n"
     ]
    },
    {
     "name": "stderr",
     "output_type": "stream",
     "text": [
      "Epoch 8/10: 100%|██████████| 1222/1222 [01:39<00:00, 12.32it/s, loss=0.2482]\n"
     ]
    },
    {
     "name": "stdout",
     "output_type": "stream",
     "text": [
      "\n",
      "Epoch 8: Train Loss = 0.3731 | Val Loss = 0.3666\n",
      "\n",
      "Validation Metrics:\n",
      "--------------------------------------------------\n",
      "Accuracy: 0.8925\n",
      "Precision: 0.8998\n",
      "Recall: 0.8925\n",
      "F1: 0.8903\n",
      "--------------------------------------------------\n"
     ]
    },
    {
     "name": "stderr",
     "output_type": "stream",
     "text": [
      "Epoch 9/10: 100%|██████████| 1222/1222 [01:39<00:00, 12.30it/s, loss=0.2191]\n"
     ]
    },
    {
     "name": "stdout",
     "output_type": "stream",
     "text": [
      "\n",
      "Epoch 9: Train Loss = 0.3140 | Val Loss = 0.2765\n",
      "\n",
      "Validation Metrics:\n",
      "--------------------------------------------------\n",
      "Accuracy: 0.9266\n",
      "Precision: 0.9299\n",
      "Recall: 0.9266\n",
      "F1: 0.9269\n",
      "--------------------------------------------------\n"
     ]
    },
    {
     "name": "stderr",
     "output_type": "stream",
     "text": [
      "Epoch 10/10:  92%|█████████▏| 1123/1222 [01:34<00:07, 12.65it/s, loss=0.2141]"
     ]
    },
    {
     "name": "stdout",
     "output_type": "stream",
     "text": [
      "\n",
      "Epoch 10: Train Loss = 0.2889 | Val Loss = 0.2427\n",
      "\n",
      "Validation Metrics:\n",
      "--------------------------------------------------\n",
      "Accuracy: 0.9283\n",
      "Precision: 0.9319\n",
      "Recall: 0.9283\n",
      "F1: 0.9285\n",
      "--------------------------------------------------\n"
     ]
    }
   ],
   "source": [
    "trainer.train()"
   ]
  },
  {
   "cell_type": "code",
   "execution_count": 64,
   "metadata": {
    "execution": {
     "iopub.execute_input": "2025-02-18T18:56:45.024464Z",
     "iopub.status.busy": "2025-02-18T18:56:45.024138Z",
     "iopub.status.idle": "2025-02-18T18:56:45.529952Z",
     "shell.execute_reply": "2025-02-18T18:56:45.529268Z",
     "shell.execute_reply.started": "2025-02-18T18:56:45.024438Z"
    },
    "trusted": true
   },
   "outputs": [],
   "source": [
    "torch.save(trainer.model.state_dict, 'model.pth')"
   ]
  }
 ],
 "metadata": {
  "kaggle": {
   "accelerator": "nvidiaTeslaT4",
   "dataSources": [
    {
     "datasetId": 277323,
     "sourceId": 658267,
     "sourceType": "datasetVersion"
    }
   ],
   "dockerImageVersionId": 30887,
   "isGpuEnabled": true,
   "isInternetEnabled": true,
   "language": "python",
   "sourceType": "notebook"
  },
  "kernelspec": {
   "display_name": ".venv",
   "language": "python",
   "name": "python3"
  },
  "language_info": {
   "codemirror_mode": {
    "name": "ipython",
    "version": 3
   },
   "file_extension": ".py",
   "mimetype": "text/x-python",
   "name": "python",
   "nbconvert_exporter": "python",
   "pygments_lexer": "ipython3",
   "version": "3.11.9"
  }
 },
 "nbformat": 4,
 "nbformat_minor": 4
}
