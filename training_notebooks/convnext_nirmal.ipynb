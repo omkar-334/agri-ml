{
 "cells": [
  {
   "cell_type": "code",
   "execution_count": 1,
   "id": "79260035-0d31-4364-9111-7eda18fee48b",
   "metadata": {},
   "outputs": [],
   "source": [
    "from dataset import get_dataloaders\n",
    "train_loader_labeled, val_loader_labeled, train_loader_unlabeled = get_dataloaders('data', 16)"
   ]
  },
  {
   "cell_type": "code",
   "execution_count": 2,
   "id": "1f2be036-3f51-4e18-8b72-e7a7b464f302",
   "metadata": {},
   "outputs": [],
   "source": [
    "from convnext import Autoencoder\n",
    "import torch\n",
    "import torch.nn as nn\n",
    "import torch.optim as optim\n",
    "\n",
    "\n",
    "DEVICE = torch.device(\"cuda\" if torch.cuda.is_available() else \"cpu\")\n",
    "\n",
    "model = Autoencoder(5).to(DEVICE)"
   ]
  },
  {
   "cell_type": "code",
   "execution_count": 3,
   "id": "ef1b3cd2-7082-40cb-94ac-a018f39a8463",
   "metadata": {},
   "outputs": [
    {
     "name": "stderr",
     "output_type": "stream",
     "text": [
      "                                                             "
     ]
    },
    {
     "name": "stdout",
     "output_type": "stream",
     "text": [
      "Epoch [1/35], Total Loss: 213.1205, Reconstruction Loss: 10.6567, Classification Loss: 202.4638, Accuracy: 0.2059\n"
     ]
    },
    {
     "name": "stderr",
     "output_type": "stream",
     "text": [
      "                                                             "
     ]
    },
    {
     "name": "stdout",
     "output_type": "stream",
     "text": [
      "Epoch [2/35], Total Loss: 208.8350, Reconstruction Loss: 10.2917, Classification Loss: 198.5434, Accuracy: 0.2743\n"
     ]
    },
    {
     "name": "stderr",
     "output_type": "stream",
     "text": [
      "                                                             "
     ]
    },
    {
     "name": "stdout",
     "output_type": "stream",
     "text": [
      "Epoch [3/35], Total Loss: 205.0161, Reconstruction Loss: 10.1941, Classification Loss: 194.8219, Accuracy: 0.2688\n"
     ]
    },
    {
     "name": "stderr",
     "output_type": "stream",
     "text": [
      "                                                             "
     ]
    },
    {
     "name": "stdout",
     "output_type": "stream",
     "text": [
      "Epoch [4/35], Total Loss: 203.7507, Reconstruction Loss: 10.1796, Classification Loss: 193.5711, Accuracy: 0.2922\n"
     ]
    },
    {
     "name": "stderr",
     "output_type": "stream",
     "text": [
      "                                                             "
     ]
    },
    {
     "name": "stdout",
     "output_type": "stream",
     "text": [
      "Epoch [5/35], Total Loss: 193.6924, Reconstruction Loss: 10.1398, Classification Loss: 183.5526, Accuracy: 0.3671\n"
     ]
    },
    {
     "name": "stderr",
     "output_type": "stream",
     "text": [
      "                                                             "
     ]
    },
    {
     "name": "stdout",
     "output_type": "stream",
     "text": [
      "Epoch [6/35], Total Loss: 184.7349, Reconstruction Loss: 10.1218, Classification Loss: 174.6131, Accuracy: 0.4092\n"
     ]
    },
    {
     "name": "stderr",
     "output_type": "stream",
     "text": [
      "                                                             "
     ]
    },
    {
     "name": "stdout",
     "output_type": "stream",
     "text": [
      "Epoch [7/35], Total Loss: 162.0849, Reconstruction Loss: 10.1151, Classification Loss: 151.9698, Accuracy: 0.5184\n"
     ]
    },
    {
     "name": "stderr",
     "output_type": "stream",
     "text": [
      "                                                             "
     ]
    },
    {
     "name": "stdout",
     "output_type": "stream",
     "text": [
      "Epoch [8/35], Total Loss: 109.5058, Reconstruction Loss: 10.0918, Classification Loss: 99.4141, Accuracy: 0.7054\n"
     ]
    },
    {
     "name": "stderr",
     "output_type": "stream",
     "text": [
      "                                                             "
     ]
    },
    {
     "name": "stdout",
     "output_type": "stream",
     "text": [
      "Epoch [9/35], Total Loss: 45.8431, Reconstruction Loss: 10.0881, Classification Loss: 35.7550, Accuracy: 0.9038\n"
     ]
    },
    {
     "name": "stderr",
     "output_type": "stream",
     "text": [
      "                                                              "
     ]
    },
    {
     "name": "stdout",
     "output_type": "stream",
     "text": [
      "Epoch [10/35], Total Loss: 13.4580, Reconstruction Loss: 10.0567, Classification Loss: 3.4013, Accuracy: 0.9960\n"
     ]
    },
    {
     "name": "stderr",
     "output_type": "stream",
     "text": [
      "                                                              "
     ]
    },
    {
     "name": "stdout",
     "output_type": "stream",
     "text": [
      "Epoch [11/35], Total Loss: 10.3651, Reconstruction Loss: 10.0483, Classification Loss: 0.3168, Accuracy: 1.0000\n"
     ]
    },
    {
     "name": "stderr",
     "output_type": "stream",
     "text": [
      "                                                              "
     ]
    },
    {
     "name": "stdout",
     "output_type": "stream",
     "text": [
      "Epoch [12/35], Total Loss: 10.1923, Reconstruction Loss: 10.0331, Classification Loss: 0.1592, Accuracy: 1.0000\n"
     ]
    },
    {
     "name": "stderr",
     "output_type": "stream",
     "text": [
      "                                                              "
     ]
    },
    {
     "name": "stdout",
     "output_type": "stream",
     "text": [
      "Epoch [13/35], Total Loss: 10.1152, Reconstruction Loss: 10.0151, Classification Loss: 0.1001, Accuracy: 1.0000\n"
     ]
    },
    {
     "name": "stderr",
     "output_type": "stream",
     "text": [
      "                                                              "
     ]
    },
    {
     "name": "stdout",
     "output_type": "stream",
     "text": [
      "Epoch [14/35], Total Loss: 10.0658, Reconstruction Loss: 9.9951, Classification Loss: 0.0708, Accuracy: 1.0000\n"
     ]
    },
    {
     "name": "stderr",
     "output_type": "stream",
     "text": [
      "                                                              "
     ]
    },
    {
     "name": "stdout",
     "output_type": "stream",
     "text": [
      "Epoch [15/35], Total Loss: 10.0438, Reconstruction Loss: 9.9916, Classification Loss: 0.0522, Accuracy: 1.0000\n"
     ]
    },
    {
     "name": "stderr",
     "output_type": "stream",
     "text": [
      "                                                              "
     ]
    },
    {
     "name": "stdout",
     "output_type": "stream",
     "text": [
      "Epoch [16/35], Total Loss: 10.0259, Reconstruction Loss: 9.9846, Classification Loss: 0.0413, Accuracy: 1.0000\n"
     ]
    },
    {
     "name": "stderr",
     "output_type": "stream",
     "text": [
      "                                                              "
     ]
    },
    {
     "name": "stdout",
     "output_type": "stream",
     "text": [
      "Epoch [17/35], Total Loss: 9.9934, Reconstruction Loss: 9.9631, Classification Loss: 0.0303, Accuracy: 1.0000\n"
     ]
    },
    {
     "name": "stderr",
     "output_type": "stream",
     "text": [
      "                                                              "
     ]
    },
    {
     "name": "stdout",
     "output_type": "stream",
     "text": [
      "Epoch [18/35], Total Loss: 9.9877, Reconstruction Loss: 9.9628, Classification Loss: 0.0249, Accuracy: 1.0000\n"
     ]
    },
    {
     "name": "stderr",
     "output_type": "stream",
     "text": [
      "                                                              "
     ]
    },
    {
     "name": "stdout",
     "output_type": "stream",
     "text": [
      "Epoch [19/35], Total Loss: 9.9775, Reconstruction Loss: 9.9563, Classification Loss: 0.0212, Accuracy: 1.0000\n"
     ]
    },
    {
     "name": "stderr",
     "output_type": "stream",
     "text": [
      "                                                              "
     ]
    },
    {
     "name": "stdout",
     "output_type": "stream",
     "text": [
      "Epoch [20/35], Total Loss: 9.9564, Reconstruction Loss: 9.9392, Classification Loss: 0.0172, Accuracy: 1.0000\n"
     ]
    },
    {
     "name": "stderr",
     "output_type": "stream",
     "text": [
      "                                                              "
     ]
    },
    {
     "name": "stdout",
     "output_type": "stream",
     "text": [
      "Epoch [21/35], Total Loss: 9.9527, Reconstruction Loss: 9.9380, Classification Loss: 0.0147, Accuracy: 1.0000\n"
     ]
    },
    {
     "name": "stderr",
     "output_type": "stream",
     "text": [
      "                                                              "
     ]
    },
    {
     "name": "stdout",
     "output_type": "stream",
     "text": [
      "Epoch [22/35], Total Loss: 9.9432, Reconstruction Loss: 9.9302, Classification Loss: 0.0130, Accuracy: 1.0000\n"
     ]
    },
    {
     "name": "stderr",
     "output_type": "stream",
     "text": [
      "                                                              "
     ]
    },
    {
     "name": "stdout",
     "output_type": "stream",
     "text": [
      "Epoch [23/35], Total Loss: 9.9487, Reconstruction Loss: 9.9376, Classification Loss: 0.0111, Accuracy: 1.0000\n"
     ]
    },
    {
     "name": "stderr",
     "output_type": "stream",
     "text": [
      "                                                              "
     ]
    },
    {
     "name": "stdout",
     "output_type": "stream",
     "text": [
      "Epoch [24/35], Total Loss: 9.9341, Reconstruction Loss: 9.9251, Classification Loss: 0.0090, Accuracy: 1.0000\n"
     ]
    },
    {
     "name": "stderr",
     "output_type": "stream",
     "text": [
      "                                                              "
     ]
    },
    {
     "name": "stdout",
     "output_type": "stream",
     "text": [
      "Epoch [25/35], Total Loss: 9.9326, Reconstruction Loss: 9.9246, Classification Loss: 0.0080, Accuracy: 1.0000\n"
     ]
    },
    {
     "name": "stderr",
     "output_type": "stream",
     "text": [
      "                                                              "
     ]
    },
    {
     "name": "stdout",
     "output_type": "stream",
     "text": [
      "Epoch [26/35], Total Loss: 9.9298, Reconstruction Loss: 9.9227, Classification Loss: 0.0071, Accuracy: 1.0000\n"
     ]
    },
    {
     "name": "stderr",
     "output_type": "stream",
     "text": [
      "                                                              "
     ]
    },
    {
     "name": "stdout",
     "output_type": "stream",
     "text": [
      "Epoch [27/35], Total Loss: 9.9283, Reconstruction Loss: 9.9215, Classification Loss: 0.0069, Accuracy: 1.0000\n"
     ]
    },
    {
     "name": "stderr",
     "output_type": "stream",
     "text": [
      "                                                              "
     ]
    },
    {
     "name": "stdout",
     "output_type": "stream",
     "text": [
      "Epoch [28/35], Total Loss: 9.9231, Reconstruction Loss: 9.9172, Classification Loss: 0.0060, Accuracy: 1.0000\n"
     ]
    },
    {
     "name": "stderr",
     "output_type": "stream",
     "text": [
      "                                                              "
     ]
    },
    {
     "name": "stdout",
     "output_type": "stream",
     "text": [
      "Epoch [29/35], Total Loss: 9.9229, Reconstruction Loss: 9.9178, Classification Loss: 0.0051, Accuracy: 1.0000\n"
     ]
    },
    {
     "name": "stderr",
     "output_type": "stream",
     "text": [
      "                                                              "
     ]
    },
    {
     "name": "stdout",
     "output_type": "stream",
     "text": [
      "Epoch [30/35], Total Loss: 9.9207, Reconstruction Loss: 9.9163, Classification Loss: 0.0043, Accuracy: 1.0000\n"
     ]
    },
    {
     "name": "stderr",
     "output_type": "stream",
     "text": [
      "                                                              "
     ]
    },
    {
     "name": "stdout",
     "output_type": "stream",
     "text": [
      "Epoch [31/35], Total Loss: 9.9232, Reconstruction Loss: 9.9187, Classification Loss: 0.0046, Accuracy: 1.0000\n"
     ]
    },
    {
     "name": "stderr",
     "output_type": "stream",
     "text": [
      "                                                              "
     ]
    },
    {
     "name": "stdout",
     "output_type": "stream",
     "text": [
      "Epoch [32/35], Total Loss: 9.9161, Reconstruction Loss: 9.9123, Classification Loss: 0.0038, Accuracy: 1.0000\n"
     ]
    },
    {
     "name": "stderr",
     "output_type": "stream",
     "text": [
      "                                                              "
     ]
    },
    {
     "name": "stdout",
     "output_type": "stream",
     "text": [
      "Epoch [33/35], Total Loss: 9.9031, Reconstruction Loss: 9.9000, Classification Loss: 0.0031, Accuracy: 1.0000\n"
     ]
    },
    {
     "name": "stderr",
     "output_type": "stream",
     "text": [
      "                                                              "
     ]
    },
    {
     "name": "stdout",
     "output_type": "stream",
     "text": [
      "Epoch [34/35], Total Loss: 9.9070, Reconstruction Loss: 9.9039, Classification Loss: 0.0032, Accuracy: 1.0000\n"
     ]
    },
    {
     "name": "stderr",
     "output_type": "stream",
     "text": [
      "                                                              "
     ]
    },
    {
     "name": "stdout",
     "output_type": "stream",
     "text": [
      "Epoch [35/35], Total Loss: 9.9020, Reconstruction Loss: 9.8994, Classification Loss: 0.0027, Accuracy: 1.0000\n"
     ]
    }
   ],
   "source": [
    "from train import train_model, validate_model\n",
    "\n",
    "model = train_model(\n",
    "    model,\n",
    "    train_loader_labeled,\n",
    "    train_loader_unlabeled,\n",
    "    lr=1e-4,\n",
    "    num_epochs=35,\n",
    ")"
   ]
  },
  {
   "cell_type": "code",
   "execution_count": 4,
   "id": "166635ba-574d-40a2-a451-b887d8f7b367",
   "metadata": {},
   "outputs": [],
   "source": [
    "torch.save(model.state_dict(), 'models/convnext_nirmal.pth')"
   ]
  },
  {
   "cell_type": "code",
   "execution_count": 5,
   "id": "4170e973-bee1-4ad7-83c0-e318bffd2cf3",
   "metadata": {},
   "outputs": [
    {
     "name": "stderr",
     "output_type": "stream",
     "text": [
      "                                                         "
     ]
    },
    {
     "name": "stdout",
     "output_type": "stream",
     "text": [
      "Validation Accuracy: 0.3168\n",
      "Validation Precision: 0.3385\n",
      "Validation Recall: 0.3103\n",
      "Validation F1 Score: 0.3211\n",
      "Number of samples validated on: 101\n"
     ]
    }
   ],
   "source": [
    "validate_model(model, val_loader_labeled, 5)\n",
    "# Validation Accuracy: 0.3125\n",
    "# Validation Precision: 0.3080\n",
    "# Validation Recall: 0.3060\n",
    "# Validation F1 Score: 0.3056\n",
    "# Number of samples validated on: 96"
   ]
  },
  {
   "cell_type": "code",
   "execution_count": 6,
   "id": "0d21958f-879a-4ecc-88d9-413dce056d72",
   "metadata": {},
   "outputs": [
    {
     "name": "stderr",
     "output_type": "stream",
     "text": [
      "/home/ubuntu/mykernel/lib/python3.10/site-packages/tqdm/auto.py:21: TqdmWarning: IProgress not found. Please update jupyter and ipywidgets. See https://ipywidgets.readthedocs.io/en/stable/user_install.html\n",
      "  from .autonotebook import tqdm as notebook_tqdm\n"
     ]
    }
   ],
   "source": [
    "from utils import upload"
   ]
  },
  {
   "cell_type": "code",
   "execution_count": 8,
   "id": "5eb1420e-f9a6-4056-957e-90d464c389cd",
   "metadata": {},
   "outputs": [
    {
     "name": "stdout",
     "output_type": "stream",
     "text": [
      "Uploading coreplant_pungliya.pth...\n"
     ]
    },
    {
     "name": "stderr",
     "output_type": "stream",
     "text": [
      "No files have been modified since last commit. Skipping to prevent empty commit.\n"
     ]
    },
    {
     "name": "stdout",
     "output_type": "stream",
     "text": [
      "Uploading convnext_nirmal.pth...\n"
     ]
    },
    {
     "name": "stderr",
     "output_type": "stream",
     "text": [
      "convnext_nirmal.pth: 100%|██████████| 114M/114M [00:03<00:00, 32.7MB/s] \n"
     ]
    },
    {
     "name": "stdout",
     "output_type": "stream",
     "text": [
      "Uploading coreplant_nirmal.pth...\n"
     ]
    },
    {
     "name": "stderr",
     "output_type": "stream",
     "text": [
      "No files have been modified since last commit. Skipping to prevent empty commit.\n"
     ]
    },
    {
     "name": "stdout",
     "output_type": "stream",
     "text": [
      "Uploading coreplant_mendeley.pth...\n"
     ]
    },
    {
     "name": "stderr",
     "output_type": "stream",
     "text": [
      "No files have been modified since last commit. Skipping to prevent empty commit.\n"
     ]
    },
    {
     "name": "stdout",
     "output_type": "stream",
     "text": [
      "Uploading convnext_mendeley.pth...\n"
     ]
    },
    {
     "name": "stderr",
     "output_type": "stream",
     "text": [
      "convnext_mendeley.pth: 100%|██████████| 114M/114M [00:02<00:00, 43.4MB/s] \n"
     ]
    },
    {
     "name": "stdout",
     "output_type": "stream",
     "text": [
      "Uploading convnext_pungliya.pth...\n"
     ]
    },
    {
     "name": "stderr",
     "output_type": "stream",
     "text": [
      "convnext_pungliya.pth: 100%|██████████| 114M/114M [00:02<00:00, 38.1MB/s] \n"
     ]
    },
    {
     "name": "stdout",
     "output_type": "stream",
     "text": [
      "✅ Upload complete.\n"
     ]
    }
   ],
   "source": [
    "import os\n",
    "models = ['coreplant_pungliya.pth',\n",
    " 'convnext_nirmal.pth',\n",
    " 'coreplant_nirmal.pth',\n",
    " 'coreplant_mendeley.pth',\n",
    " 'convnext_mendeley.pth',\n",
    " 'convnext_pungliya.pth']\n",
    "\n",
    "models = ['models/' + i for i in models]\n",
    "upload(models)"
   ]
  }
 ],
 "metadata": {
  "kernelspec": {
   "display_name": "Python (mykernel)",
   "language": "python",
   "name": "mykernel"
  },
  "language_info": {
   "codemirror_mode": {
    "name": "ipython",
    "version": 3
   },
   "file_extension": ".py",
   "mimetype": "text/x-python",
   "name": "python",
   "nbconvert_exporter": "python",
   "pygments_lexer": "ipython3",
   "version": "3.10.12"
  }
 },
 "nbformat": 4,
 "nbformat_minor": 5
}
