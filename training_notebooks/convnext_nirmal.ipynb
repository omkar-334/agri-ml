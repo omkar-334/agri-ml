{
 "cells": [
  {
   "cell_type": "code",
   "execution_count": 11,
   "id": "4be470de-020c-4e56-9b8d-1377e2b31e2c",
   "metadata": {},
   "outputs": [
    {
     "name": "stdout",
     "output_type": "stream",
     "text": [
      "Note: you may need to restart the kernel to use updated packages.\n"
     ]
    }
   ],
   "source": [
    "# %pip install torch pandas torchvision scikit-learn tqdm kaggle torchmetrics -q"
   ]
  },
  {
   "cell_type": "code",
   "execution_count": 1,
   "id": "e9a6d902-9fe8-47cd-8991-d75f749b6148",
   "metadata": {},
   "outputs": [],
   "source": [
    "# upload kaggle.json first.\n",
    "!mkdir -p ~/.kaggle\n",
    "!mv kaggle.json ~/.kaggle/\n",
    "!chmod 600 ~/.kaggle/kaggle.json"
   ]
  },
  {
   "cell_type": "code",
   "execution_count": 3,
   "id": "a71ff6d8-54a2-483b-aae2-fdf947305d4a",
   "metadata": {},
   "outputs": [
    {
     "name": "stdout",
     "output_type": "stream",
     "text": [
      "Dataset URL: https://www.kaggle.com/datasets/nirmalsankalana/sugarcane-leaf-disease-dataset\n",
      "License(s): CC0-1.0\n"
     ]
    }
   ],
   "source": [
    "# !apt update -qq\n",
    "# !apt install -qq unzip\n",
    "!kaggle datasets download nirmalsankalana/sugarcane-leaf-disease-dataset\n",
    "!unzip -q sugarcane-leaf-disease-dataset.zip -d data"
   ]
  },
  {
   "cell_type": "code",
   "execution_count": 4,
   "id": "e9a11f4d-c12d-4e5f-aa6e-d37668f4e409",
   "metadata": {},
   "outputs": [],
   "source": [
    "from dataset import get_dataloaders\n",
    "train_loader_labeled, val_loader_labeled, train_loader_unlabeled = get_dataloaders('data', 16)"
   ]
  },
  {
   "cell_type": "code",
   "execution_count": 18,
   "id": "1f2be036-3f51-4e18-8b72-e7a7b464f302",
   "metadata": {},
   "outputs": [],
   "source": [
    "from convnext import Autoencoder\n",
    "import torch\n",
    "import torch.nn as nn\n",
    "import torch.optim as optim\n",
    "\n",
    "\n",
    "DEVICE = torch.device(\"cuda\" if torch.cuda.is_available() else \"cpu\")\n",
    "\n",
    "model = Autoencoder(5).to(DEVICE)\n",
    "reconstruction_criterion = nn.MSELoss()  # Unsupervised Loss\n",
    "classification_criterion = nn.CrossEntropyLoss()  # Supervised Loss\n",
    "optimizer = optim.Adam(model.parameters(), lr=1e-4)"
   ]
  },
  {
   "cell_type": "code",
   "execution_count": 22,
   "id": "ef1b3cd2-7082-40cb-94ac-a018f39a8463",
   "metadata": {
    "scrolled": true
   },
   "outputs": [
    {
     "name": "stderr",
     "output_type": "stream",
     "text": [
      "                                                             "
     ]
    },
    {
     "name": "stdout",
     "output_type": "stream",
     "text": [
      "Epoch [1/35], Total Loss: 213.4516, Reconstruction Loss: 10.4199, Classification Loss: 203.0317, Accuracy: 0.2103\n"
     ]
    },
    {
     "name": "stderr",
     "output_type": "stream",
     "text": [
      "                                                             "
     ]
    },
    {
     "name": "stdout",
     "output_type": "stream",
     "text": [
      "Epoch [2/35], Total Loss: 210.9710, Reconstruction Loss: 10.0742, Classification Loss: 200.8968, Accuracy: 0.2560\n"
     ]
    },
    {
     "name": "stderr",
     "output_type": "stream",
     "text": [
      "                                                             "
     ]
    },
    {
     "name": "stdout",
     "output_type": "stream",
     "text": [
      "Epoch [3/35], Total Loss: 205.4424, Reconstruction Loss: 9.9926, Classification Loss: 195.4498, Accuracy: 0.3080\n"
     ]
    },
    {
     "name": "stderr",
     "output_type": "stream",
     "text": [
      "                                                             "
     ]
    },
    {
     "name": "stdout",
     "output_type": "stream",
     "text": [
      "Epoch [4/35], Total Loss: 196.0909, Reconstruction Loss: 9.9709, Classification Loss: 186.1200, Accuracy: 0.3765\n"
     ]
    },
    {
     "name": "stderr",
     "output_type": "stream",
     "text": [
      "                                                             "
     ]
    },
    {
     "name": "stdout",
     "output_type": "stream",
     "text": [
      "Epoch [5/35], Total Loss: 180.1328, Reconstruction Loss: 9.9518, Classification Loss: 170.1811, Accuracy: 0.4435\n"
     ]
    },
    {
     "name": "stderr",
     "output_type": "stream",
     "text": [
      "                                                             "
     ]
    },
    {
     "name": "stdout",
     "output_type": "stream",
     "text": [
      "Epoch [6/35], Total Loss: 155.3530, Reconstruction Loss: 9.9320, Classification Loss: 145.4210, Accuracy: 0.5248\n"
     ]
    },
    {
     "name": "stderr",
     "output_type": "stream",
     "text": [
      "                                                             "
     ]
    },
    {
     "name": "stdout",
     "output_type": "stream",
     "text": [
      "Epoch [7/35], Total Loss: 102.8908, Reconstruction Loss: 9.9174, Classification Loss: 92.9735, Accuracy: 0.7297\n"
     ]
    },
    {
     "name": "stderr",
     "output_type": "stream",
     "text": [
      "                                                             "
     ]
    },
    {
     "name": "stdout",
     "output_type": "stream",
     "text": [
      "Epoch [8/35], Total Loss: 39.8862, Reconstruction Loss: 9.9037, Classification Loss: 29.9825, Accuracy: 0.9246\n"
     ]
    },
    {
     "name": "stderr",
     "output_type": "stream",
     "text": [
      "                                                             "
     ]
    },
    {
     "name": "stdout",
     "output_type": "stream",
     "text": [
      "Epoch [9/35], Total Loss: 15.7761, Reconstruction Loss: 9.8908, Classification Loss: 5.8853, Accuracy: 0.9876\n"
     ]
    },
    {
     "name": "stderr",
     "output_type": "stream",
     "text": [
      "                                                              "
     ]
    },
    {
     "name": "stdout",
     "output_type": "stream",
     "text": [
      "Epoch [10/35], Total Loss: 10.1251, Reconstruction Loss: 9.8777, Classification Loss: 0.2475, Accuracy: 1.0000\n"
     ]
    },
    {
     "name": "stderr",
     "output_type": "stream",
     "text": [
      "                                                              "
     ]
    },
    {
     "name": "stdout",
     "output_type": "stream",
     "text": [
      "Epoch [11/35], Total Loss: 9.9759, Reconstruction Loss: 9.8620, Classification Loss: 0.1139, Accuracy: 1.0000\n"
     ]
    },
    {
     "name": "stderr",
     "output_type": "stream",
     "text": [
      "                                                              "
     ]
    },
    {
     "name": "stdout",
     "output_type": "stream",
     "text": [
      "Epoch [12/35], Total Loss: 9.9152, Reconstruction Loss: 9.8445, Classification Loss: 0.0708, Accuracy: 1.0000\n"
     ]
    },
    {
     "name": "stderr",
     "output_type": "stream",
     "text": [
      "                                                              "
     ]
    },
    {
     "name": "stdout",
     "output_type": "stream",
     "text": [
      "Epoch [13/35], Total Loss: 9.8879, Reconstruction Loss: 9.8417, Classification Loss: 0.0462, Accuracy: 1.0000\n"
     ]
    },
    {
     "name": "stderr",
     "output_type": "stream",
     "text": [
      "                                                              "
     ]
    },
    {
     "name": "stdout",
     "output_type": "stream",
     "text": [
      "Epoch [14/35], Total Loss: 9.8599, Reconstruction Loss: 9.8229, Classification Loss: 0.0370, Accuracy: 1.0000\n"
     ]
    },
    {
     "name": "stderr",
     "output_type": "stream",
     "text": [
      "                                                              "
     ]
    },
    {
     "name": "stdout",
     "output_type": "stream",
     "text": [
      "Epoch [15/35], Total Loss: 9.8416, Reconstruction Loss: 9.8129, Classification Loss: 0.0288, Accuracy: 1.0000\n"
     ]
    },
    {
     "name": "stderr",
     "output_type": "stream",
     "text": [
      "                                                              "
     ]
    },
    {
     "name": "stdout",
     "output_type": "stream",
     "text": [
      "Epoch [16/35], Total Loss: 9.8251, Reconstruction Loss: 9.8032, Classification Loss: 0.0219, Accuracy: 1.0000\n"
     ]
    },
    {
     "name": "stderr",
     "output_type": "stream",
     "text": [
      "                                                              "
     ]
    },
    {
     "name": "stdout",
     "output_type": "stream",
     "text": [
      "Epoch [17/35], Total Loss: 9.8148, Reconstruction Loss: 9.7961, Classification Loss: 0.0187, Accuracy: 1.0000\n"
     ]
    },
    {
     "name": "stderr",
     "output_type": "stream",
     "text": [
      "                                                              "
     ]
    },
    {
     "name": "stdout",
     "output_type": "stream",
     "text": [
      "Epoch [18/35], Total Loss: 9.8026, Reconstruction Loss: 9.7868, Classification Loss: 0.0158, Accuracy: 1.0000\n"
     ]
    },
    {
     "name": "stderr",
     "output_type": "stream",
     "text": [
      "                                                              "
     ]
    },
    {
     "name": "stdout",
     "output_type": "stream",
     "text": [
      "Epoch [19/35], Total Loss: 9.7872, Reconstruction Loss: 9.7736, Classification Loss: 0.0135, Accuracy: 1.0000\n"
     ]
    },
    {
     "name": "stderr",
     "output_type": "stream",
     "text": [
      "                                                              "
     ]
    },
    {
     "name": "stdout",
     "output_type": "stream",
     "text": [
      "Epoch [20/35], Total Loss: 9.7862, Reconstruction Loss: 9.7752, Classification Loss: 0.0110, Accuracy: 1.0000\n"
     ]
    },
    {
     "name": "stderr",
     "output_type": "stream",
     "text": [
      "                                                              "
     ]
    },
    {
     "name": "stdout",
     "output_type": "stream",
     "text": [
      "Epoch [21/35], Total Loss: 9.7735, Reconstruction Loss: 9.7639, Classification Loss: 0.0096, Accuracy: 1.0000\n"
     ]
    },
    {
     "name": "stderr",
     "output_type": "stream",
     "text": [
      "                                                              "
     ]
    },
    {
     "name": "stdout",
     "output_type": "stream",
     "text": [
      "Epoch [22/35], Total Loss: 9.7758, Reconstruction Loss: 9.7671, Classification Loss: 0.0087, Accuracy: 1.0000\n"
     ]
    },
    {
     "name": "stderr",
     "output_type": "stream",
     "text": [
      "                                                              "
     ]
    },
    {
     "name": "stdout",
     "output_type": "stream",
     "text": [
      "Epoch [23/35], Total Loss: 9.7791, Reconstruction Loss: 9.7714, Classification Loss: 0.0077, Accuracy: 1.0000\n"
     ]
    },
    {
     "name": "stderr",
     "output_type": "stream",
     "text": [
      "                                                              "
     ]
    },
    {
     "name": "stdout",
     "output_type": "stream",
     "text": [
      "Epoch [24/35], Total Loss: 9.7638, Reconstruction Loss: 9.7577, Classification Loss: 0.0061, Accuracy: 1.0000\n"
     ]
    },
    {
     "name": "stderr",
     "output_type": "stream",
     "text": [
      "                                                              "
     ]
    },
    {
     "name": "stdout",
     "output_type": "stream",
     "text": [
      "Epoch [25/35], Total Loss: 9.7571, Reconstruction Loss: 9.7521, Classification Loss: 0.0050, Accuracy: 1.0000\n"
     ]
    },
    {
     "name": "stderr",
     "output_type": "stream",
     "text": [
      "                                                              "
     ]
    },
    {
     "name": "stdout",
     "output_type": "stream",
     "text": [
      "Epoch [26/35], Total Loss: 9.7521, Reconstruction Loss: 9.7469, Classification Loss: 0.0052, Accuracy: 1.0000\n"
     ]
    },
    {
     "name": "stderr",
     "output_type": "stream",
     "text": [
      "                                                              "
     ]
    },
    {
     "name": "stdout",
     "output_type": "stream",
     "text": [
      "Epoch [27/35], Total Loss: 9.7485, Reconstruction Loss: 9.7441, Classification Loss: 0.0045, Accuracy: 1.0000\n"
     ]
    },
    {
     "name": "stderr",
     "output_type": "stream",
     "text": [
      "                                                              "
     ]
    },
    {
     "name": "stdout",
     "output_type": "stream",
     "text": [
      "Epoch [28/35], Total Loss: 9.7447, Reconstruction Loss: 9.7408, Classification Loss: 0.0038, Accuracy: 1.0000\n"
     ]
    },
    {
     "name": "stderr",
     "output_type": "stream",
     "text": [
      "                                                              "
     ]
    },
    {
     "name": "stdout",
     "output_type": "stream",
     "text": [
      "Epoch [29/35], Total Loss: 9.7462, Reconstruction Loss: 9.7428, Classification Loss: 0.0034, Accuracy: 1.0000\n"
     ]
    },
    {
     "name": "stderr",
     "output_type": "stream",
     "text": [
      "                                                              "
     ]
    },
    {
     "name": "stdout",
     "output_type": "stream",
     "text": [
      "Epoch [30/35], Total Loss: 9.7393, Reconstruction Loss: 9.7362, Classification Loss: 0.0031, Accuracy: 1.0000\n"
     ]
    },
    {
     "name": "stderr",
     "output_type": "stream",
     "text": [
      "                                                              "
     ]
    },
    {
     "name": "stdout",
     "output_type": "stream",
     "text": [
      "Epoch [31/35], Total Loss: 9.7362, Reconstruction Loss: 9.7335, Classification Loss: 0.0028, Accuracy: 1.0000\n"
     ]
    },
    {
     "name": "stderr",
     "output_type": "stream",
     "text": [
      "                                                              "
     ]
    },
    {
     "name": "stdout",
     "output_type": "stream",
     "text": [
      "Epoch [32/35], Total Loss: 9.7366, Reconstruction Loss: 9.7343, Classification Loss: 0.0024, Accuracy: 1.0000\n"
     ]
    },
    {
     "name": "stderr",
     "output_type": "stream",
     "text": [
      "                                                              "
     ]
    },
    {
     "name": "stdout",
     "output_type": "stream",
     "text": [
      "Epoch [33/35], Total Loss: 9.7315, Reconstruction Loss: 9.7292, Classification Loss: 0.0023, Accuracy: 1.0000\n"
     ]
    },
    {
     "name": "stderr",
     "output_type": "stream",
     "text": [
      "                                                              "
     ]
    },
    {
     "name": "stdout",
     "output_type": "stream",
     "text": [
      "Epoch [34/35], Total Loss: 9.7300, Reconstruction Loss: 9.7279, Classification Loss: 0.0021, Accuracy: 1.0000\n"
     ]
    },
    {
     "name": "stderr",
     "output_type": "stream",
     "text": [
      "                                                              "
     ]
    },
    {
     "name": "stdout",
     "output_type": "stream",
     "text": [
      "Epoch [35/35], Total Loss: 9.7209, Reconstruction Loss: 9.7191, Classification Loss: 0.0018, Accuracy: 1.0000\n"
     ]
    },
    {
     "name": "stderr",
     "output_type": "stream",
     "text": []
    }
   ],
   "source": [
    "from train import train_model, validate_model\n",
    "\n",
    "model = train_model(\n",
    "    model,\n",
    "    train_loader_labeled,\n",
    "    train_loader_unlabeled,\n",
    "    reconstruction_criterion,\n",
    "    classification_criterion,\n",
    "    optimizer,\n",
    "    num_epochs=35,\n",
    ")"
   ]
  },
  {
   "cell_type": "code",
   "execution_count": 24,
   "id": "166635ba-574d-40a2-a451-b887d8f7b367",
   "metadata": {},
   "outputs": [],
   "source": [
    "torch.save(model.state_dict(), 'models/convnext_nirmal.pth')"
   ]
  },
  {
   "cell_type": "code",
   "execution_count": 27,
   "id": "4170e973-bee1-4ad7-83c0-e318bffd2cf3",
   "metadata": {},
   "outputs": [
    {
     "name": "stderr",
     "output_type": "stream",
     "text": [
      "                                                         "
     ]
    },
    {
     "name": "stdout",
     "output_type": "stream",
     "text": [
      "Validation Accuracy: 0.3125\n",
      "Validation Precision: 0.3080\n",
      "Validation Recall: 0.3060\n",
      "Validation F1 Score: 0.3056\n",
      "Number of samples validated on: 96\n"
     ]
    },
    {
     "name": "stderr",
     "output_type": "stream",
     "text": []
    }
   ],
   "source": [
    "validate_model(model, val_loader_labeled, 5)"
   ]
  }
 ],
 "metadata": {
  "kernelspec": {
   "display_name": "Python 3 (ipykernel)",
   "language": "python",
   "name": "python3"
  },
  "language_info": {
   "codemirror_mode": {
    "name": "ipython",
    "version": 3
   },
   "file_extension": ".py",
   "mimetype": "text/x-python",
   "name": "python",
   "nbconvert_exporter": "python",
   "pygments_lexer": "ipython3",
   "version": "3.10.12"
  }
 },
 "nbformat": 4,
 "nbformat_minor": 5
}
