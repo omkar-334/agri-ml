{
 "cells": [
  {
   "cell_type": "code",
   "execution_count": 1,
   "id": "4477227e-0b6d-4593-bbc3-da028ad14f00",
   "metadata": {},
   "outputs": [
    {
     "name": "stderr",
     "output_type": "stream",
     "text": [
      "/home/ubuntu/mykernel/lib/python3.10/site-packages/tqdm/auto.py:21: TqdmWarning: IProgress not found. Please update jupyter and ipywidgets. See https://ipywidgets.readthedocs.io/en/stable/user_install.html\n",
      "  from .autonotebook import tqdm as notebook_tqdm\n"
     ]
    }
   ],
   "source": [
    "import pandas as pd\n",
    "from dataset import prepare_dataloaders, basic_transform\n",
    "train_loader, val_loader, test_loader =  prepare_dataloaders('data3/mendeley', basic_transform, batch_size=16, num_workers=4, val_split=0.1, test_split=0.1)"
   ]
  },
  {
   "cell_type": "code",
   "execution_count": 2,
   "id": "650ee9fc-d639-472f-879b-d6b3e1d17449",
   "metadata": {},
   "outputs": [
    {
     "name": "stderr",
     "output_type": "stream",
     "text": [
      "/home/ubuntu/mykernel/lib/python3.10/site-packages/timm/models/layers/__init__.py:48: FutureWarning: Importing from timm.models.layers is deprecated, please import via timm.layers\n",
      "  warnings.warn(f\"Importing from {__name__} is deprecated, please import via timm.layers\", FutureWarning)\n",
      "/home/ubuntu/mykernel/lib/python3.10/site-packages/torchvision/models/_utils.py:208: UserWarning: The parameter 'pretrained' is deprecated since 0.13 and may be removed in the future, please use 'weights' instead.\n",
      "  warnings.warn(\n",
      "/home/ubuntu/mykernel/lib/python3.10/site-packages/torchvision/models/_utils.py:223: UserWarning: Arguments other than a weight enum or `None` for 'weights' are deprecated since 0.13 and may be removed in the future. The current behavior is equivalent to passing `weights=VGG16_Weights.IMAGENET1K_V1`. You can also use `weights=VGG16_Weights.DEFAULT` to get the most up-to-date weights.\n",
      "  warnings.warn(msg)\n",
      "/home/ubuntu/mykernel/lib/python3.10/site-packages/torch/functional.py:554: UserWarning: torch.meshgrid: in an upcoming release, it will be required to pass the indexing argument. (Triggered internally at /pytorch/aten/src/ATen/native/TensorShape.cpp:4314.)\n",
      "  return _VF.meshgrid(tensors, **kwargs)  # type: ignore[attr-defined]\n"
     ]
    }
   ],
   "source": [
    "from soyatrans import SoyaTrans\n",
    "from train import Trainer\n",
    "\n",
    "batch_size = 16\n",
    "lr = 1e-4\n",
    "num_epochs = 35\n",
    "num_classes = 11\n",
    "\n",
    "model = SoyaTrans(num_classes)\n",
    "trainer = Trainer(model, train_loader, val_loader, test_loader, lr, num_epochs, batch_size=batch_size)"
   ]
  },
  {
   "cell_type": "code",
   "execution_count": 3,
   "id": "162e9ffc-492f-46b0-bb00-76231ba41fc4",
   "metadata": {},
   "outputs": [
    {
     "name": "stderr",
     "output_type": "stream",
     "text": [
      "Epoch 1/35: 100%|██████████| 337/337 [02:20<00:00,  2.41it/s, loss=2.1504]\n"
     ]
    },
    {
     "name": "stdout",
     "output_type": "stream",
     "text": [
      "\n",
      "Train Metrics:\n",
      "--------------------------------------------------\n",
      "Epoch: 0\n",
      "Train Loss: 2.1823\n",
      "Test Loss: 2.0779\n",
      "Accuracy: 0.4659\n",
      "Precision: 0.3776\n",
      "Recall: 0.4659\n",
      "F1: 0.3715\n",
      "--------------------------------------------------\n"
     ]
    },
    {
     "name": "stderr",
     "output_type": "stream",
     "text": [
      "Epoch 2/35: 100%|██████████| 337/337 [02:18<00:00,  2.43it/s, loss=1.9935]\n"
     ]
    },
    {
     "name": "stdout",
     "output_type": "stream",
     "text": [
      "\n",
      "Train Metrics:\n",
      "--------------------------------------------------\n",
      "Running experiment with batch_size=16, lr=0.0001\n",
      "Epoch: 1\n",
      "Train Loss: 2.0214\n",
      "Test Loss: 2.0399\n",
      "Accuracy: 0.5030\n",
      "Precision: 0.4078\n",
      "Recall: 0.5030\n",
      "F1: 0.4315\n",
      "--------------------------------------------------\n"
     ]
    },
    {
     "name": "stderr",
     "output_type": "stream",
     "text": [
      "Epoch 3/35: 100%|██████████| 337/337 [02:18<00:00,  2.43it/s, loss=1.8024]\n"
     ]
    },
    {
     "name": "stdout",
     "output_type": "stream",
     "text": [
      "\n",
      "Train Metrics:\n",
      "--------------------------------------------------\n",
      "Epoch: 2\n",
      "Train Loss: 1.9903\n",
      "Test Loss: 1.9999\n",
      "Accuracy: 0.5490\n",
      "Precision: 0.4098\n",
      "Recall: 0.5490\n",
      "F1: 0.4616\n",
      "--------------------------------------------------\n"
     ]
    },
    {
     "name": "stderr",
     "output_type": "stream",
     "text": [
      "Epoch 4/35: 100%|██████████| 337/337 [02:18<00:00,  2.43it/s, loss=1.9088]\n"
     ]
    },
    {
     "name": "stdout",
     "output_type": "stream",
     "text": [
      "\n",
      "Train Metrics:\n",
      "--------------------------------------------------\n",
      "Epoch: 3\n",
      "Train Loss: 1.9716\n",
      "Test Loss: 1.9895\n",
      "Accuracy: 0.5579\n",
      "Precision: 0.4152\n",
      "Recall: 0.5579\n",
      "F1: 0.4689\n",
      "--------------------------------------------------\n"
     ]
    },
    {
     "name": "stderr",
     "output_type": "stream",
     "text": [
      "Epoch 5/35: 100%|██████████| 337/337 [02:17<00:00,  2.44it/s, loss=1.9994]\n"
     ]
    },
    {
     "name": "stdout",
     "output_type": "stream",
     "text": [
      "\n",
      "Train Metrics:\n",
      "--------------------------------------------------\n",
      "Epoch: 4\n",
      "Train Loss: 1.9559\n",
      "Test Loss: 1.9882\n",
      "Accuracy: 0.5593\n",
      "Precision: 0.4392\n",
      "Recall: 0.5593\n",
      "F1: 0.4736\n",
      "--------------------------------------------------\n"
     ]
    },
    {
     "name": "stderr",
     "output_type": "stream",
     "text": [
      "Epoch 6/35: 100%|██████████| 337/337 [02:18<00:00,  2.43it/s, loss=2.1821]\n"
     ]
    },
    {
     "name": "stdout",
     "output_type": "stream",
     "text": [
      "\n",
      "Train Metrics:\n",
      "--------------------------------------------------\n",
      "Epoch: 5\n",
      "Train Loss: 1.9382\n",
      "Test Loss: 1.9538\n",
      "Accuracy: 0.5964\n",
      "Precision: 0.4785\n",
      "Recall: 0.5964\n",
      "F1: 0.5167\n",
      "--------------------------------------------------\n"
     ]
    },
    {
     "name": "stderr",
     "output_type": "stream",
     "text": [
      "Epoch 7/35: 100%|██████████| 337/337 [02:18<00:00,  2.43it/s, loss=1.7090]\n"
     ]
    },
    {
     "name": "stdout",
     "output_type": "stream",
     "text": [
      "\n",
      "Train Metrics:\n",
      "--------------------------------------------------\n",
      "Epoch: 6\n",
      "Train Loss: 1.9216\n",
      "Test Loss: 1.9418\n",
      "Accuracy: 0.6053\n",
      "Precision: 0.5226\n",
      "Recall: 0.6053\n",
      "F1: 0.5280\n",
      "--------------------------------------------------\n"
     ]
    },
    {
     "name": "stderr",
     "output_type": "stream",
     "text": [
      "Epoch 8/35: 100%|██████████| 337/337 [01:15<00:00,  4.45it/s, loss=1.8603]\n"
     ]
    },
    {
     "name": "stdout",
     "output_type": "stream",
     "text": [
      "\n",
      "Train Metrics:\n",
      "--------------------------------------------------\n",
      "Epoch: 7\n",
      "Train Loss: 1.9002\n",
      "Test Loss: 1.9250\n",
      "Accuracy: 0.6246\n",
      "Precision: 0.5344\n",
      "Recall: 0.6246\n",
      "F1: 0.5537\n",
      "--------------------------------------------------\n"
     ]
    },
    {
     "name": "stderr",
     "output_type": "stream",
     "text": [
      "Epoch 9/35: 100%|██████████| 337/337 [01:06<00:00,  5.05it/s, loss=2.0370]\n"
     ]
    },
    {
     "name": "stdout",
     "output_type": "stream",
     "text": [
      "\n",
      "Train Metrics:\n",
      "--------------------------------------------------\n",
      "Epoch: 8\n",
      "Train Loss: 1.8807\n",
      "Test Loss: 1.9045\n",
      "Accuracy: 0.6469\n",
      "Precision: 0.5523\n",
      "Recall: 0.6469\n",
      "F1: 0.5834\n",
      "--------------------------------------------------\n"
     ]
    },
    {
     "name": "stderr",
     "output_type": "stream",
     "text": [
      "Epoch 10/35: 100%|██████████| 337/337 [01:06<00:00,  5.05it/s, loss=1.7959]\n"
     ]
    },
    {
     "name": "stdout",
     "output_type": "stream",
     "text": [
      "\n",
      "Train Metrics:\n",
      "--------------------------------------------------\n",
      "Epoch: 9\n",
      "Train Loss: 1.8581\n",
      "Test Loss: 1.8927\n",
      "Accuracy: 0.6484\n",
      "Precision: 0.5508\n",
      "Recall: 0.6484\n",
      "F1: 0.5842\n",
      "--------------------------------------------------\n"
     ]
    },
    {
     "name": "stderr",
     "output_type": "stream",
     "text": [
      "Epoch 11/35: 100%|██████████| 337/337 [01:06<00:00,  5.05it/s, loss=1.8532]\n"
     ]
    },
    {
     "name": "stdout",
     "output_type": "stream",
     "text": [
      "\n",
      "Train Metrics:\n",
      "--------------------------------------------------\n",
      "Epoch: 10\n",
      "Train Loss: 1.8458\n",
      "Test Loss: 1.8786\n",
      "Accuracy: 0.6677\n",
      "Precision: 0.5639\n",
      "Recall: 0.6677\n",
      "F1: 0.6054\n",
      "--------------------------------------------------\n"
     ]
    },
    {
     "name": "stderr",
     "output_type": "stream",
     "text": [
      "Epoch 12/35: 100%|██████████| 337/337 [01:06<00:00,  5.05it/s, loss=1.7300]\n"
     ]
    },
    {
     "name": "stdout",
     "output_type": "stream",
     "text": [
      "\n",
      "Train Metrics:\n",
      "--------------------------------------------------\n",
      "Epoch: 11\n",
      "Train Loss: 1.8345\n",
      "Test Loss: 1.8729\n",
      "Accuracy: 0.6780\n",
      "Precision: 0.5745\n",
      "Recall: 0.6780\n",
      "F1: 0.6157\n",
      "--------------------------------------------------\n"
     ]
    },
    {
     "name": "stderr",
     "output_type": "stream",
     "text": [
      "Epoch 13/35: 100%|██████████| 337/337 [01:06<00:00,  5.05it/s, loss=1.7750]\n"
     ]
    },
    {
     "name": "stdout",
     "output_type": "stream",
     "text": [
      "\n",
      "Train Metrics:\n",
      "--------------------------------------------------\n",
      "Epoch: 12\n",
      "Train Loss: 1.8249\n",
      "Test Loss: 1.8664\n",
      "Accuracy: 0.6810\n",
      "Precision: 0.5766\n",
      "Recall: 0.6810\n",
      "F1: 0.6193\n",
      "--------------------------------------------------\n"
     ]
    },
    {
     "name": "stderr",
     "output_type": "stream",
     "text": [
      "Epoch 14/35: 100%|██████████| 337/337 [01:06<00:00,  5.05it/s, loss=1.7942]\n"
     ]
    },
    {
     "name": "stdout",
     "output_type": "stream",
     "text": [
      "\n",
      "Train Metrics:\n",
      "--------------------------------------------------\n",
      "Epoch: 13\n",
      "Train Loss: 1.8179\n",
      "Test Loss: 1.8570\n",
      "Accuracy: 0.6929\n",
      "Precision: 0.6527\n",
      "Recall: 0.6929\n",
      "F1: 0.6369\n",
      "--------------------------------------------------\n"
     ]
    },
    {
     "name": "stderr",
     "output_type": "stream",
     "text": [
      "Epoch 15/35: 100%|██████████| 337/337 [01:06<00:00,  5.05it/s, loss=1.6922]\n"
     ]
    },
    {
     "name": "stdout",
     "output_type": "stream",
     "text": [
      "\n",
      "Train Metrics:\n",
      "--------------------------------------------------\n",
      "Epoch: 14\n",
      "Train Loss: 1.8100\n",
      "Test Loss: 1.8549\n",
      "Accuracy: 0.6929\n",
      "Precision: 0.6484\n",
      "Recall: 0.6929\n",
      "F1: 0.6443\n",
      "--------------------------------------------------\n"
     ]
    },
    {
     "name": "stderr",
     "output_type": "stream",
     "text": [
      "Epoch 16/35: 100%|██████████| 337/337 [01:06<00:00,  5.05it/s, loss=1.8940]\n"
     ]
    },
    {
     "name": "stdout",
     "output_type": "stream",
     "text": [
      "\n",
      "Train Metrics:\n",
      "--------------------------------------------------\n",
      "Epoch: 15\n",
      "Train Loss: 1.8010\n",
      "Test Loss: 1.8399\n",
      "Accuracy: 0.7181\n",
      "Precision: 0.6998\n",
      "Recall: 0.7181\n",
      "F1: 0.6714\n",
      "--------------------------------------------------\n"
     ]
    },
    {
     "name": "stderr",
     "output_type": "stream",
     "text": [
      "Epoch 17/35: 100%|██████████| 337/337 [01:06<00:00,  5.05it/s, loss=1.7548]\n"
     ]
    },
    {
     "name": "stdout",
     "output_type": "stream",
     "text": [
      "\n",
      "Train Metrics:\n",
      "--------------------------------------------------\n",
      "Epoch: 16\n",
      "Train Loss: 1.7894\n",
      "Test Loss: 1.8267\n",
      "Accuracy: 0.7300\n",
      "Precision: 0.7678\n",
      "Recall: 0.7300\n",
      "F1: 0.6932\n",
      "--------------------------------------------------\n"
     ]
    },
    {
     "name": "stderr",
     "output_type": "stream",
     "text": [
      "Epoch 18/35: 100%|██████████| 337/337 [01:06<00:00,  5.04it/s, loss=1.8027]\n"
     ]
    },
    {
     "name": "stdout",
     "output_type": "stream",
     "text": [
      "\n",
      "Train Metrics:\n",
      "--------------------------------------------------\n",
      "Epoch: 17\n",
      "Train Loss: 1.7798\n",
      "Test Loss: 1.8233\n",
      "Accuracy: 0.7389\n",
      "Precision: 0.7622\n",
      "Recall: 0.7389\n",
      "F1: 0.7095\n",
      "--------------------------------------------------\n"
     ]
    },
    {
     "name": "stderr",
     "output_type": "stream",
     "text": [
      "Epoch 19/35: 100%|██████████| 337/337 [01:06<00:00,  5.06it/s, loss=1.6544]\n"
     ]
    },
    {
     "name": "stdout",
     "output_type": "stream",
     "text": [
      "\n",
      "Train Metrics:\n",
      "--------------------------------------------------\n",
      "Epoch: 18\n",
      "Train Loss: 1.7724\n",
      "Test Loss: 1.8155\n",
      "Accuracy: 0.7359\n",
      "Precision: 0.7733\n",
      "Recall: 0.7359\n",
      "F1: 0.7086\n",
      "--------------------------------------------------\n"
     ]
    },
    {
     "name": "stderr",
     "output_type": "stream",
     "text": [
      "Epoch 20/35: 100%|██████████| 337/337 [01:06<00:00,  5.05it/s, loss=1.7987]\n"
     ]
    },
    {
     "name": "stdout",
     "output_type": "stream",
     "text": [
      "\n",
      "Train Metrics:\n",
      "--------------------------------------------------\n",
      "Epoch: 19\n",
      "Train Loss: 1.7643\n",
      "Test Loss: 1.8010\n",
      "Accuracy: 0.7567\n",
      "Precision: 0.7747\n",
      "Recall: 0.7567\n",
      "F1: 0.7347\n",
      "--------------------------------------------------\n"
     ]
    },
    {
     "name": "stderr",
     "output_type": "stream",
     "text": [
      "Epoch 21/35: 100%|██████████| 337/337 [01:06<00:00,  5.06it/s, loss=1.7884]\n"
     ]
    },
    {
     "name": "stdout",
     "output_type": "stream",
     "text": [
      "\n",
      "Train Metrics:\n",
      "--------------------------------------------------\n",
      "Epoch: 20\n",
      "Train Loss: 1.7558\n",
      "Test Loss: 1.7909\n",
      "Accuracy: 0.7760\n",
      "Precision: 0.7887\n",
      "Recall: 0.7760\n",
      "F1: 0.7557\n",
      "--------------------------------------------------\n"
     ]
    },
    {
     "name": "stderr",
     "output_type": "stream",
     "text": [
      "Epoch 22/35: 100%|██████████| 337/337 [02:03<00:00,  2.73it/s, loss=1.7676]\n"
     ]
    },
    {
     "name": "stdout",
     "output_type": "stream",
     "text": [
      "\n",
      "Train Metrics:\n",
      "--------------------------------------------------\n",
      "Epoch: 21\n",
      "Train Loss: 1.7497\n",
      "Test Loss: 1.7849\n",
      "Accuracy: 0.7804\n",
      "Precision: 0.7859\n",
      "Recall: 0.7804\n",
      "F1: 0.7621\n",
      "--------------------------------------------------\n"
     ]
    },
    {
     "name": "stderr",
     "output_type": "stream",
     "text": [
      "Epoch 23/35: 100%|██████████| 337/337 [02:18<00:00,  2.43it/s, loss=1.6880]\n"
     ]
    },
    {
     "name": "stdout",
     "output_type": "stream",
     "text": [
      "\n",
      "Train Metrics:\n",
      "--------------------------------------------------\n",
      "Epoch: 22\n",
      "Train Loss: 1.7440\n",
      "Test Loss: 1.7793\n",
      "Accuracy: 0.7804\n",
      "Precision: 0.7890\n",
      "Recall: 0.7804\n",
      "F1: 0.7605\n",
      "--------------------------------------------------\n"
     ]
    },
    {
     "name": "stderr",
     "output_type": "stream",
     "text": [
      "Epoch 24/35: 100%|██████████| 337/337 [02:16<00:00,  2.46it/s, loss=1.7431]\n"
     ]
    },
    {
     "name": "stdout",
     "output_type": "stream",
     "text": [
      "\n",
      "Train Metrics:\n",
      "--------------------------------------------------\n",
      "Epoch: 23\n",
      "Train Loss: 1.7393\n",
      "Test Loss: 1.7746\n",
      "Accuracy: 0.7849\n",
      "Precision: 0.7903\n",
      "Recall: 0.7849\n",
      "F1: 0.7660\n",
      "--------------------------------------------------\n"
     ]
    },
    {
     "name": "stderr",
     "output_type": "stream",
     "text": [
      "Epoch 25/35: 100%|██████████| 337/337 [02:18<00:00,  2.43it/s, loss=1.7127]\n"
     ]
    },
    {
     "name": "stdout",
     "output_type": "stream",
     "text": [
      "\n",
      "Train Metrics:\n",
      "--------------------------------------------------\n",
      "Epoch: 24\n",
      "Train Loss: 1.7344\n",
      "Test Loss: 1.7686\n",
      "Accuracy: 0.7953\n",
      "Precision: 0.8002\n",
      "Recall: 0.7953\n",
      "F1: 0.7777\n",
      "--------------------------------------------------\n"
     ]
    },
    {
     "name": "stderr",
     "output_type": "stream",
     "text": [
      "Epoch 26/35: 100%|██████████| 337/337 [02:18<00:00,  2.43it/s, loss=1.8035]\n"
     ]
    },
    {
     "name": "stdout",
     "output_type": "stream",
     "text": [
      "\n",
      "Train Metrics:\n",
      "--------------------------------------------------\n",
      "Epoch: 25\n",
      "Train Loss: 1.7303\n",
      "Test Loss: 1.7643\n",
      "Accuracy: 0.7967\n",
      "Precision: 0.8043\n",
      "Recall: 0.7967\n",
      "F1: 0.7783\n",
      "--------------------------------------------------\n"
     ]
    },
    {
     "name": "stderr",
     "output_type": "stream",
     "text": [
      "Epoch 27/35: 100%|██████████| 337/337 [02:19<00:00,  2.42it/s, loss=1.7615]\n"
     ]
    },
    {
     "name": "stdout",
     "output_type": "stream",
     "text": [
      "\n",
      "Train Metrics:\n",
      "--------------------------------------------------\n",
      "Epoch: 26\n",
      "Train Loss: 1.7272\n",
      "Test Loss: 1.7621\n",
      "Accuracy: 0.8012\n",
      "Precision: 0.8054\n",
      "Recall: 0.8012\n",
      "F1: 0.7854\n",
      "--------------------------------------------------\n"
     ]
    },
    {
     "name": "stderr",
     "output_type": "stream",
     "text": [
      "Epoch 28/35: 100%|██████████| 337/337 [02:18<00:00,  2.43it/s, loss=1.9182]\n"
     ]
    },
    {
     "name": "stdout",
     "output_type": "stream",
     "text": [
      "\n",
      "Train Metrics:\n",
      "--------------------------------------------------\n",
      "Epoch: 27\n",
      "Train Loss: 1.7246\n",
      "Test Loss: 1.7596\n",
      "Accuracy: 0.8027\n",
      "Precision: 0.8106\n",
      "Recall: 0.8027\n",
      "F1: 0.7855\n",
      "--------------------------------------------------\n"
     ]
    },
    {
     "name": "stderr",
     "output_type": "stream",
     "text": [
      "Epoch 29/35: 100%|██████████| 337/337 [02:18<00:00,  2.43it/s, loss=1.6271]\n"
     ]
    },
    {
     "name": "stdout",
     "output_type": "stream",
     "text": [
      "\n",
      "Train Metrics:\n",
      "--------------------------------------------------\n",
      "Epoch: 28\n",
      "Train Loss: 1.7219\n",
      "Test Loss: 1.7602\n",
      "Accuracy: 0.8012\n",
      "Precision: 0.8099\n",
      "Recall: 0.8012\n",
      "F1: 0.7841\n",
      "--------------------------------------------------\n"
     ]
    },
    {
     "name": "stderr",
     "output_type": "stream",
     "text": [
      "Epoch 30/35: 100%|██████████| 337/337 [02:18<00:00,  2.43it/s, loss=1.8637]\n"
     ]
    },
    {
     "name": "stdout",
     "output_type": "stream",
     "text": [
      "\n",
      "Train Metrics:\n",
      "--------------------------------------------------\n",
      "Epoch: 29\n",
      "Train Loss: 1.7189\n",
      "Test Loss: 1.7532\n",
      "Accuracy: 0.8101\n",
      "Precision: 0.8170\n",
      "Recall: 0.8101\n",
      "F1: 0.7938\n",
      "--------------------------------------------------\n"
     ]
    },
    {
     "name": "stderr",
     "output_type": "stream",
     "text": [
      "Epoch 31/35: 100%|██████████| 337/337 [02:18<00:00,  2.43it/s, loss=1.7925]\n"
     ]
    },
    {
     "name": "stdout",
     "output_type": "stream",
     "text": [
      "\n",
      "Train Metrics:\n",
      "--------------------------------------------------\n",
      "Epoch: 30\n",
      "Train Loss: 1.7169\n",
      "Test Loss: 1.7530\n",
      "Accuracy: 0.8131\n",
      "Precision: 0.8194\n",
      "Recall: 0.8131\n",
      "F1: 0.7962\n",
      "--------------------------------------------------\n"
     ]
    },
    {
     "name": "stderr",
     "output_type": "stream",
     "text": [
      "Epoch 32/35: 100%|██████████| 337/337 [02:18<00:00,  2.43it/s, loss=1.6178]\n"
     ]
    },
    {
     "name": "stdout",
     "output_type": "stream",
     "text": [
      "\n",
      "Train Metrics:\n",
      "--------------------------------------------------\n",
      "Epoch: 31\n",
      "Train Loss: 1.7142\n",
      "Test Loss: 1.7507\n",
      "Accuracy: 0.8116\n",
      "Precision: 0.8163\n",
      "Recall: 0.8116\n",
      "F1: 0.7959\n",
      "--------------------------------------------------\n"
     ]
    },
    {
     "name": "stderr",
     "output_type": "stream",
     "text": [
      "Epoch 33/35: 100%|██████████| 337/337 [02:17<00:00,  2.45it/s, loss=1.6156]\n"
     ]
    },
    {
     "name": "stdout",
     "output_type": "stream",
     "text": [
      "\n",
      "Train Metrics:\n",
      "--------------------------------------------------\n",
      "Epoch: 32\n",
      "Train Loss: 1.7112\n",
      "Test Loss: 1.7502\n",
      "Accuracy: 0.8131\n",
      "Precision: 0.8203\n",
      "Recall: 0.8131\n",
      "F1: 0.7993\n",
      "--------------------------------------------------\n"
     ]
    },
    {
     "name": "stderr",
     "output_type": "stream",
     "text": [
      "Epoch 34/35: 100%|██████████| 337/337 [02:18<00:00,  2.43it/s, loss=1.6889]\n"
     ]
    },
    {
     "name": "stdout",
     "output_type": "stream",
     "text": [
      "\n",
      "Train Metrics:\n",
      "--------------------------------------------------\n",
      "Epoch: 33\n",
      "Train Loss: 1.7087\n",
      "Test Loss: 1.7487\n",
      "Accuracy: 0.8101\n",
      "Precision: 0.8207\n",
      "Recall: 0.8101\n",
      "F1: 0.7970\n",
      "--------------------------------------------------\n"
     ]
    },
    {
     "name": "stderr",
     "output_type": "stream",
     "text": [
      "Epoch 35/35: 100%|██████████| 337/337 [02:18<00:00,  2.44it/s, loss=1.6818]\n"
     ]
    },
    {
     "name": "stdout",
     "output_type": "stream",
     "text": [
      "\n",
      "Train Metrics:\n",
      "--------------------------------------------------\n",
      "Epoch: 34\n",
      "Train Loss: 1.7068\n",
      "Test Loss: 1.7488\n",
      "Accuracy: 0.8131\n",
      "Precision: 0.8229\n",
      "Recall: 0.8131\n",
      "F1: 0.7999\n",
      "--------------------------------------------------\n"
     ]
    }
   ],
   "source": [
    "trainer.train()"
   ]
  },
  {
   "cell_type": "code",
   "execution_count": 5,
   "id": "3c905bb1-99e8-472c-8ecc-4a58f6032b77",
   "metadata": {},
   "outputs": [
    {
     "name": "stdout",
     "output_type": "stream",
     "text": [
      "\n",
      "Test Metrics:\n",
      "--------------------------------------------------\n",
      "Test Loss: 1.7487\n",
      "Accuracy: 0.8101\n",
      "Precision: 0.8207\n",
      "Recall: 0.8101\n",
      "F1: 0.7970\n",
      "--------------------------------------------------\n"
     ]
    }
   ],
   "source": [
    "import torch\n",
    "trainer.test()\n",
    "torch.save(trainer.model.state_dict(), 'models/soyatrans_mendeley.pth')"
   ]
  }
 ],
 "metadata": {
  "kernelspec": {
   "display_name": "Python (mykernel)",
   "language": "python",
   "name": "mykernel"
  },
  "language_info": {
   "codemirror_mode": {
    "name": "ipython",
    "version": 3
   },
   "file_extension": ".py",
   "mimetype": "text/x-python",
   "name": "python",
   "nbconvert_exporter": "python",
   "pygments_lexer": "ipython3",
   "version": "3.10.12"
  }
 },
 "nbformat": 4,
 "nbformat_minor": 5
}
