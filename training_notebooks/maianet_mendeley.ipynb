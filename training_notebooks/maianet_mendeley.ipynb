{
 "cells": [
  {
   "cell_type": "code",
   "execution_count": null,
   "id": "dee52993-ef68-48c2-a835-7e11d7329482",
   "metadata": {},
   "outputs": [
    {
     "name": "stderr",
     "output_type": "stream",
     "text": [
      "/home/ubuntu/mykernel/lib/python3.10/site-packages/tqdm/auto.py:21: TqdmWarning: IProgress not found. Please update jupyter and ipywidgets. See https://ipywidgets.readthedocs.io/en/stable/user_install.html\n",
      "  from .autonotebook import tqdm as notebook_tqdm\n"
     ]
    }
   ],
   "source": [
    "from dataset import maianet_transform, prepare_dataloaders\n",
    "\n",
    "train_loader, val_loader, test_loader = prepare_dataloaders(\"data3/mendeley\", maianet_transform, batch_size=16, num_workers=4, val_split=0.1, test_split=0.1)"
   ]
  },
  {
   "cell_type": "code",
   "execution_count": null,
   "id": "4477227e-0b6d-4593-bbc3-da028ad14f00",
   "metadata": {},
   "outputs": [],
   "source": [
    "from train import Trainer\n",
    "\n",
    "from maianet import MaiaNet\n",
    "\n",
    "batch_size = 16\n",
    "lr = 2e-4\n",
    "num_epochs = 35\n",
    "num_classes = 11\n",
    "\n",
    "model = MaiaNet(num_classes)\n",
    "trainer = Trainer(model, train_loader, val_loader, test_loader, lr, num_epochs, batch_size=batch_size)"
   ]
  },
  {
   "cell_type": "code",
   "execution_count": 3,
   "id": "650ee9fc-d639-472f-879b-d6b3e1d17449",
   "metadata": {},
   "outputs": [
    {
     "name": "stderr",
     "output_type": "stream",
     "text": [
      "Epoch 1/35: 100%|██████████| 337/337 [01:06<00:00,  5.05it/s, loss=1.7595]\n"
     ]
    },
    {
     "name": "stdout",
     "output_type": "stream",
     "text": [
      "\n",
      "Train Metrics:\n",
      "--------------------------------------------------\n",
      "Epoch: 0\n",
      "Train Loss: 1.9131\n",
      "Test Loss: 1.7838\n",
      "Accuracy: 0.4021\n",
      "Precision: 0.3915\n",
      "Recall: 0.4021\n",
      "F1: 0.3039\n",
      "--------------------------------------------------\n"
     ]
    },
    {
     "name": "stderr",
     "output_type": "stream",
     "text": [
      "Epoch 2/35: 100%|██████████| 337/337 [01:00<00:00,  5.54it/s, loss=1.6943]\n"
     ]
    },
    {
     "name": "stdout",
     "output_type": "stream",
     "text": [
      "\n",
      "Train Metrics:\n",
      "--------------------------------------------------\n",
      "Running experiment with batch_size=16, lr=0.0002\n",
      "Epoch: 1\n",
      "Train Loss: 1.6027\n",
      "Test Loss: 1.5486\n",
      "Accuracy: 0.4926\n",
      "Precision: 0.4338\n",
      "Recall: 0.4926\n",
      "F1: 0.4461\n",
      "--------------------------------------------------\n"
     ]
    },
    {
     "name": "stderr",
     "output_type": "stream",
     "text": [
      "Epoch 3/35: 100%|██████████| 337/337 [01:02<00:00,  5.40it/s, loss=1.0997]\n"
     ]
    },
    {
     "name": "stdout",
     "output_type": "stream",
     "text": [
      "\n",
      "Train Metrics:\n",
      "--------------------------------------------------\n",
      "Epoch: 2\n",
      "Train Loss: 1.4060\n",
      "Test Loss: 1.3955\n",
      "Accuracy: 0.5638\n",
      "Precision: 0.4781\n",
      "Recall: 0.5638\n",
      "F1: 0.4951\n",
      "--------------------------------------------------\n"
     ]
    },
    {
     "name": "stderr",
     "output_type": "stream",
     "text": [
      "Epoch 4/35: 100%|██████████| 337/337 [01:01<00:00,  5.51it/s, loss=0.9291]\n"
     ]
    },
    {
     "name": "stdout",
     "output_type": "stream",
     "text": [
      "\n",
      "Train Metrics:\n",
      "--------------------------------------------------\n",
      "Epoch: 3\n",
      "Train Loss: 1.2800\n",
      "Test Loss: 1.3201\n",
      "Accuracy: 0.5846\n",
      "Precision: 0.4928\n",
      "Recall: 0.5846\n",
      "F1: 0.5098\n",
      "--------------------------------------------------\n"
     ]
    },
    {
     "name": "stderr",
     "output_type": "stream",
     "text": [
      "Epoch 5/35: 100%|██████████| 337/337 [01:02<00:00,  5.42it/s, loss=0.9108]\n"
     ]
    },
    {
     "name": "stdout",
     "output_type": "stream",
     "text": [
      "\n",
      "Train Metrics:\n",
      "--------------------------------------------------\n",
      "Epoch: 4\n",
      "Train Loss: 1.1761\n",
      "Test Loss: 1.1852\n",
      "Accuracy: 0.6246\n",
      "Precision: 0.5702\n",
      "Recall: 0.6246\n",
      "F1: 0.5570\n",
      "--------------------------------------------------\n"
     ]
    },
    {
     "name": "stderr",
     "output_type": "stream",
     "text": [
      "Epoch 6/35: 100%|██████████| 337/337 [01:02<00:00,  5.42it/s, loss=1.6951]\n"
     ]
    },
    {
     "name": "stdout",
     "output_type": "stream",
     "text": [
      "\n",
      "Train Metrics:\n",
      "--------------------------------------------------\n",
      "Epoch: 5\n",
      "Train Loss: 1.0848\n",
      "Test Loss: 1.1048\n",
      "Accuracy: 0.6499\n",
      "Precision: 0.5990\n",
      "Recall: 0.6499\n",
      "F1: 0.5952\n",
      "--------------------------------------------------\n"
     ]
    },
    {
     "name": "stderr",
     "output_type": "stream",
     "text": [
      "Epoch 7/35: 100%|██████████| 337/337 [01:01<00:00,  5.52it/s, loss=1.0105]\n"
     ]
    },
    {
     "name": "stdout",
     "output_type": "stream",
     "text": [
      "\n",
      "Train Metrics:\n",
      "--------------------------------------------------\n",
      "Epoch: 6\n",
      "Train Loss: 1.0102\n",
      "Test Loss: 1.0494\n",
      "Accuracy: 0.6766\n",
      "Precision: 0.6137\n",
      "Recall: 0.6766\n",
      "F1: 0.6319\n",
      "--------------------------------------------------\n"
     ]
    },
    {
     "name": "stderr",
     "output_type": "stream",
     "text": [
      "Epoch 8/35: 100%|██████████| 337/337 [01:02<00:00,  5.43it/s, loss=0.7712]\n"
     ]
    },
    {
     "name": "stdout",
     "output_type": "stream",
     "text": [
      "\n",
      "Train Metrics:\n",
      "--------------------------------------------------\n",
      "Epoch: 7\n",
      "Train Loss: 0.9420\n",
      "Test Loss: 1.0057\n",
      "Accuracy: 0.6825\n",
      "Precision: 0.7113\n",
      "Recall: 0.6825\n",
      "F1: 0.6389\n",
      "--------------------------------------------------\n"
     ]
    },
    {
     "name": "stderr",
     "output_type": "stream",
     "text": [
      "Epoch 9/35: 100%|██████████| 337/337 [01:00<00:00,  5.53it/s, loss=0.7098]\n"
     ]
    },
    {
     "name": "stdout",
     "output_type": "stream",
     "text": [
      "\n",
      "Train Metrics:\n",
      "--------------------------------------------------\n",
      "Epoch: 8\n",
      "Train Loss: 0.8936\n",
      "Test Loss: 0.9574\n",
      "Accuracy: 0.7018\n",
      "Precision: 0.7426\n",
      "Recall: 0.7018\n",
      "F1: 0.6682\n",
      "--------------------------------------------------\n"
     ]
    },
    {
     "name": "stderr",
     "output_type": "stream",
     "text": [
      "Epoch 10/35: 100%|██████████| 337/337 [01:02<00:00,  5.43it/s, loss=0.9935]\n"
     ]
    },
    {
     "name": "stdout",
     "output_type": "stream",
     "text": [
      "\n",
      "Train Metrics:\n",
      "--------------------------------------------------\n",
      "Epoch: 9\n",
      "Train Loss: 0.8413\n",
      "Test Loss: 0.8948\n",
      "Accuracy: 0.7418\n",
      "Precision: 0.7221\n",
      "Recall: 0.7418\n",
      "F1: 0.7159\n",
      "--------------------------------------------------\n"
     ]
    },
    {
     "name": "stderr",
     "output_type": "stream",
     "text": [
      "Epoch 11/35: 100%|██████████| 337/337 [01:00<00:00,  5.54it/s, loss=0.6881]\n"
     ]
    },
    {
     "name": "stdout",
     "output_type": "stream",
     "text": [
      "\n",
      "Train Metrics:\n",
      "--------------------------------------------------\n",
      "Epoch: 10\n",
      "Train Loss: 0.7968\n",
      "Test Loss: 0.9149\n",
      "Accuracy: 0.7285\n",
      "Precision: 0.7637\n",
      "Recall: 0.7285\n",
      "F1: 0.7009\n",
      "--------------------------------------------------\n"
     ]
    },
    {
     "name": "stderr",
     "output_type": "stream",
     "text": [
      "Epoch 12/35: 100%|██████████| 337/337 [01:02<00:00,  5.43it/s, loss=0.6710]\n"
     ]
    },
    {
     "name": "stdout",
     "output_type": "stream",
     "text": [
      "\n",
      "Train Metrics:\n",
      "--------------------------------------------------\n",
      "Epoch: 11\n",
      "Train Loss: 0.7573\n",
      "Test Loss: 0.8293\n",
      "Accuracy: 0.7804\n",
      "Precision: 0.7935\n",
      "Recall: 0.7804\n",
      "F1: 0.7683\n",
      "--------------------------------------------------\n"
     ]
    },
    {
     "name": "stderr",
     "output_type": "stream",
     "text": [
      "Epoch 13/35: 100%|██████████| 337/337 [01:01<00:00,  5.52it/s, loss=0.6316]\n"
     ]
    },
    {
     "name": "stdout",
     "output_type": "stream",
     "text": [
      "\n",
      "Train Metrics:\n",
      "--------------------------------------------------\n",
      "Epoch: 12\n",
      "Train Loss: 0.7220\n",
      "Test Loss: 0.8008\n",
      "Accuracy: 0.7715\n",
      "Precision: 0.7588\n",
      "Recall: 0.7715\n",
      "F1: 0.7448\n",
      "--------------------------------------------------\n"
     ]
    },
    {
     "name": "stderr",
     "output_type": "stream",
     "text": [
      "Epoch 14/35: 100%|██████████| 337/337 [01:02<00:00,  5.42it/s, loss=0.7978]\n"
     ]
    },
    {
     "name": "stdout",
     "output_type": "stream",
     "text": [
      "\n",
      "Train Metrics:\n",
      "--------------------------------------------------\n",
      "Epoch: 13\n",
      "Train Loss: 0.6820\n",
      "Test Loss: 0.7342\n",
      "Accuracy: 0.8056\n",
      "Precision: 0.8029\n",
      "Recall: 0.8056\n",
      "F1: 0.7880\n",
      "--------------------------------------------------\n"
     ]
    },
    {
     "name": "stderr",
     "output_type": "stream",
     "text": [
      "Epoch 15/35: 100%|██████████| 337/337 [01:01<00:00,  5.44it/s, loss=0.5199]\n"
     ]
    },
    {
     "name": "stdout",
     "output_type": "stream",
     "text": [
      "\n",
      "Train Metrics:\n",
      "--------------------------------------------------\n",
      "Epoch: 14\n",
      "Train Loss: 0.6610\n",
      "Test Loss: 0.7132\n",
      "Accuracy: 0.8071\n",
      "Precision: 0.8072\n",
      "Recall: 0.8071\n",
      "F1: 0.7906\n",
      "--------------------------------------------------\n"
     ]
    },
    {
     "name": "stderr",
     "output_type": "stream",
     "text": [
      "Epoch 16/35: 100%|██████████| 337/337 [01:01<00:00,  5.45it/s, loss=0.5693]\n"
     ]
    },
    {
     "name": "stdout",
     "output_type": "stream",
     "text": [
      "\n",
      "Train Metrics:\n",
      "--------------------------------------------------\n",
      "Epoch: 15\n",
      "Train Loss: 0.6261\n",
      "Test Loss: 0.7625\n",
      "Accuracy: 0.7656\n",
      "Precision: 0.7611\n",
      "Recall: 0.7656\n",
      "F1: 0.7446\n",
      "--------------------------------------------------\n"
     ]
    },
    {
     "name": "stderr",
     "output_type": "stream",
     "text": [
      "Epoch 17/35: 100%|██████████| 337/337 [01:02<00:00,  5.41it/s, loss=0.5509]\n"
     ]
    },
    {
     "name": "stdout",
     "output_type": "stream",
     "text": [
      "\n",
      "Train Metrics:\n",
      "--------------------------------------------------\n",
      "Epoch: 16\n",
      "Train Loss: 0.6138\n",
      "Test Loss: 0.6721\n",
      "Accuracy: 0.8116\n",
      "Precision: 0.8127\n",
      "Recall: 0.8116\n",
      "F1: 0.8008\n",
      "--------------------------------------------------\n"
     ]
    },
    {
     "name": "stderr",
     "output_type": "stream",
     "text": [
      "Epoch 18/35: 100%|██████████| 337/337 [01:00<00:00,  5.54it/s, loss=0.5068]\n"
     ]
    },
    {
     "name": "stdout",
     "output_type": "stream",
     "text": [
      "\n",
      "Train Metrics:\n",
      "--------------------------------------------------\n",
      "Epoch: 17\n",
      "Train Loss: 0.5861\n",
      "Test Loss: 0.6610\n",
      "Accuracy: 0.8131\n",
      "Precision: 0.8170\n",
      "Recall: 0.8131\n",
      "F1: 0.7954\n",
      "--------------------------------------------------\n"
     ]
    },
    {
     "name": "stderr",
     "output_type": "stream",
     "text": [
      "Epoch 19/35: 100%|██████████| 337/337 [01:02<00:00,  5.40it/s, loss=0.5466]\n"
     ]
    },
    {
     "name": "stdout",
     "output_type": "stream",
     "text": [
      "\n",
      "Train Metrics:\n",
      "--------------------------------------------------\n",
      "Epoch: 18\n",
      "Train Loss: 0.5703\n",
      "Test Loss: 0.6344\n",
      "Accuracy: 0.8323\n",
      "Precision: 0.8351\n",
      "Recall: 0.8323\n",
      "F1: 0.8278\n",
      "--------------------------------------------------\n"
     ]
    },
    {
     "name": "stderr",
     "output_type": "stream",
     "text": [
      "Epoch 20/35: 100%|██████████| 337/337 [01:01<00:00,  5.52it/s, loss=0.6307]\n"
     ]
    },
    {
     "name": "stdout",
     "output_type": "stream",
     "text": [
      "\n",
      "Train Metrics:\n",
      "--------------------------------------------------\n",
      "Epoch: 19\n",
      "Train Loss: 0.5442\n",
      "Test Loss: 0.6128\n",
      "Accuracy: 0.8472\n",
      "Precision: 0.8480\n",
      "Recall: 0.8472\n",
      "F1: 0.8416\n",
      "--------------------------------------------------\n"
     ]
    },
    {
     "name": "stderr",
     "output_type": "stream",
     "text": [
      "Epoch 21/35: 100%|██████████| 337/337 [01:02<00:00,  5.41it/s, loss=0.3664]\n"
     ]
    },
    {
     "name": "stdout",
     "output_type": "stream",
     "text": [
      "\n",
      "Train Metrics:\n",
      "--------------------------------------------------\n",
      "Epoch: 20\n",
      "Train Loss: 0.5369\n",
      "Test Loss: 0.6085\n",
      "Accuracy: 0.8412\n",
      "Precision: 0.8433\n",
      "Recall: 0.8412\n",
      "F1: 0.8354\n",
      "--------------------------------------------------\n"
     ]
    },
    {
     "name": "stderr",
     "output_type": "stream",
     "text": [
      "Epoch 22/35: 100%|██████████| 337/337 [01:00<00:00,  5.53it/s, loss=0.4766]\n"
     ]
    },
    {
     "name": "stdout",
     "output_type": "stream",
     "text": [
      "\n",
      "Train Metrics:\n",
      "--------------------------------------------------\n",
      "Epoch: 21\n",
      "Train Loss: 0.5153\n",
      "Test Loss: 0.5990\n",
      "Accuracy: 0.8323\n",
      "Precision: 0.8406\n",
      "Recall: 0.8323\n",
      "F1: 0.8228\n",
      "--------------------------------------------------\n"
     ]
    },
    {
     "name": "stderr",
     "output_type": "stream",
     "text": [
      "Epoch 23/35: 100%|██████████| 337/337 [01:02<00:00,  5.41it/s, loss=0.6490]\n"
     ]
    },
    {
     "name": "stdout",
     "output_type": "stream",
     "text": [
      "\n",
      "Train Metrics:\n",
      "--------------------------------------------------\n",
      "Epoch: 22\n",
      "Train Loss: 0.5059\n",
      "Test Loss: 0.5691\n",
      "Accuracy: 0.8501\n",
      "Precision: 0.8531\n",
      "Recall: 0.8501\n",
      "F1: 0.8426\n",
      "--------------------------------------------------\n"
     ]
    },
    {
     "name": "stderr",
     "output_type": "stream",
     "text": [
      "Epoch 24/35: 100%|██████████| 337/337 [01:00<00:00,  5.54it/s, loss=0.3740]\n"
     ]
    },
    {
     "name": "stdout",
     "output_type": "stream",
     "text": [
      "\n",
      "Train Metrics:\n",
      "--------------------------------------------------\n",
      "Epoch: 23\n",
      "Train Loss: 0.4939\n",
      "Test Loss: 0.5493\n",
      "Accuracy: 0.8665\n",
      "Precision: 0.8721\n",
      "Recall: 0.8665\n",
      "F1: 0.8648\n",
      "--------------------------------------------------\n"
     ]
    },
    {
     "name": "stderr",
     "output_type": "stream",
     "text": [
      "Epoch 25/35: 100%|██████████| 337/337 [01:02<00:00,  5.41it/s, loss=0.4539]\n"
     ]
    },
    {
     "name": "stdout",
     "output_type": "stream",
     "text": [
      "\n",
      "Train Metrics:\n",
      "--------------------------------------------------\n",
      "Epoch: 24\n",
      "Train Loss: 0.4812\n",
      "Test Loss: 0.5222\n",
      "Accuracy: 0.8798\n",
      "Precision: 0.8819\n",
      "Recall: 0.8798\n",
      "F1: 0.8773\n",
      "--------------------------------------------------\n"
     ]
    },
    {
     "name": "stderr",
     "output_type": "stream",
     "text": [
      "Epoch 26/35: 100%|██████████| 337/337 [01:02<00:00,  5.42it/s, loss=0.4550]\n"
     ]
    },
    {
     "name": "stdout",
     "output_type": "stream",
     "text": [
      "\n",
      "Train Metrics:\n",
      "--------------------------------------------------\n",
      "Epoch: 25\n",
      "Train Loss: 0.4694\n",
      "Test Loss: 0.5291\n",
      "Accuracy: 0.8694\n",
      "Precision: 0.8779\n",
      "Recall: 0.8694\n",
      "F1: 0.8689\n",
      "--------------------------------------------------\n"
     ]
    },
    {
     "name": "stderr",
     "output_type": "stream",
     "text": [
      "Epoch 27/35: 100%|██████████| 337/337 [01:01<00:00,  5.49it/s, loss=0.5789]\n"
     ]
    },
    {
     "name": "stdout",
     "output_type": "stream",
     "text": [
      "\n",
      "Train Metrics:\n",
      "--------------------------------------------------\n",
      "Epoch: 26\n",
      "Train Loss: 0.4649\n",
      "Test Loss: 0.5179\n",
      "Accuracy: 0.8754\n",
      "Precision: 0.8828\n",
      "Recall: 0.8754\n",
      "F1: 0.8719\n",
      "--------------------------------------------------\n"
     ]
    },
    {
     "name": "stderr",
     "output_type": "stream",
     "text": [
      "Epoch 28/35: 100%|██████████| 337/337 [01:02<00:00,  5.42it/s, loss=0.5120]\n"
     ]
    },
    {
     "name": "stdout",
     "output_type": "stream",
     "text": [
      "\n",
      "Train Metrics:\n",
      "--------------------------------------------------\n",
      "Epoch: 27\n",
      "Train Loss: 0.4470\n",
      "Test Loss: 0.5201\n",
      "Accuracy: 0.8635\n",
      "Precision: 0.8710\n",
      "Recall: 0.8635\n",
      "F1: 0.8588\n",
      "--------------------------------------------------\n"
     ]
    },
    {
     "name": "stderr",
     "output_type": "stream",
     "text": [
      "Epoch 29/35: 100%|██████████| 337/337 [01:00<00:00,  5.53it/s, loss=0.3446]\n"
     ]
    },
    {
     "name": "stdout",
     "output_type": "stream",
     "text": [
      "\n",
      "Train Metrics:\n",
      "--------------------------------------------------\n",
      "Epoch: 28\n",
      "Train Loss: 0.4398\n",
      "Test Loss: 0.4975\n",
      "Accuracy: 0.8694\n",
      "Precision: 0.8752\n",
      "Recall: 0.8694\n",
      "F1: 0.8643\n",
      "--------------------------------------------------\n"
     ]
    },
    {
     "name": "stderr",
     "output_type": "stream",
     "text": [
      "Epoch 30/35: 100%|██████████| 337/337 [01:02<00:00,  5.41it/s, loss=0.2883]\n"
     ]
    },
    {
     "name": "stdout",
     "output_type": "stream",
     "text": [
      "\n",
      "Train Metrics:\n",
      "--------------------------------------------------\n",
      "Epoch: 29\n",
      "Train Loss: 0.4383\n",
      "Test Loss: 0.4920\n",
      "Accuracy: 0.8828\n",
      "Precision: 0.8853\n",
      "Recall: 0.8828\n",
      "F1: 0.8803\n",
      "--------------------------------------------------\n"
     ]
    },
    {
     "name": "stderr",
     "output_type": "stream",
     "text": [
      "Epoch 31/35: 100%|██████████| 337/337 [00:50<00:00,  6.69it/s, loss=0.3662]\n"
     ]
    },
    {
     "name": "stdout",
     "output_type": "stream",
     "text": [
      "\n",
      "Train Metrics:\n",
      "--------------------------------------------------\n",
      "Epoch: 30\n",
      "Train Loss: 0.4256\n",
      "Test Loss: 0.4823\n",
      "Accuracy: 0.8902\n",
      "Precision: 0.8965\n",
      "Recall: 0.8902\n",
      "F1: 0.8869\n",
      "--------------------------------------------------\n"
     ]
    },
    {
     "name": "stderr",
     "output_type": "stream",
     "text": [
      "Epoch 32/35: 100%|██████████| 337/337 [00:28<00:00, 11.70it/s, loss=0.2057]\n"
     ]
    },
    {
     "name": "stdout",
     "output_type": "stream",
     "text": [
      "\n",
      "Train Metrics:\n",
      "--------------------------------------------------\n",
      "Epoch: 31\n",
      "Train Loss: 0.4203\n",
      "Test Loss: 0.4940\n",
      "Accuracy: 0.8724\n",
      "Precision: 0.8835\n",
      "Recall: 0.8724\n",
      "F1: 0.8702\n",
      "--------------------------------------------------\n"
     ]
    },
    {
     "name": "stderr",
     "output_type": "stream",
     "text": [
      "Epoch 33/35: 100%|██████████| 337/337 [00:28<00:00, 11.66it/s, loss=0.5610]\n"
     ]
    },
    {
     "name": "stdout",
     "output_type": "stream",
     "text": [
      "\n",
      "Train Metrics:\n",
      "--------------------------------------------------\n",
      "Epoch: 32\n",
      "Train Loss: 0.4137\n",
      "Test Loss: 0.4969\n",
      "Accuracy: 0.8798\n",
      "Precision: 0.8868\n",
      "Recall: 0.8798\n",
      "F1: 0.8771\n",
      "--------------------------------------------------\n"
     ]
    },
    {
     "name": "stderr",
     "output_type": "stream",
     "text": [
      "Epoch 34/35: 100%|██████████| 337/337 [00:28<00:00, 11.63it/s, loss=0.3261]\n"
     ]
    },
    {
     "name": "stdout",
     "output_type": "stream",
     "text": [
      "\n",
      "Train Metrics:\n",
      "--------------------------------------------------\n",
      "Epoch: 33\n",
      "Train Loss: 0.4057\n",
      "Test Loss: 0.4724\n",
      "Accuracy: 0.8843\n",
      "Precision: 0.8882\n",
      "Recall: 0.8843\n",
      "F1: 0.8826\n",
      "--------------------------------------------------\n"
     ]
    },
    {
     "name": "stderr",
     "output_type": "stream",
     "text": [
      "Epoch 35/35: 100%|██████████| 337/337 [00:28<00:00, 11.68it/s, loss=0.5197]\n"
     ]
    },
    {
     "name": "stdout",
     "output_type": "stream",
     "text": [
      "\n",
      "Train Metrics:\n",
      "--------------------------------------------------\n",
      "Epoch: 34\n",
      "Train Loss: 0.3954\n",
      "Test Loss: 0.4622\n",
      "Accuracy: 0.8917\n",
      "Precision: 0.8949\n",
      "Recall: 0.8917\n",
      "F1: 0.8888\n",
      "--------------------------------------------------\n"
     ]
    }
   ],
   "source": [
    "trainer.train()"
   ]
  },
  {
   "cell_type": "code",
   "execution_count": null,
   "id": "b4925c06-bd07-4d43-85ae-c270ba6b3f7f",
   "metadata": {},
   "outputs": [
    {
     "name": "stdout",
     "output_type": "stream",
     "text": [
      "\n",
      "Test Metrics:\n",
      "--------------------------------------------------\n",
      "Test Loss: 0.4512\n",
      "Accuracy: 0.8887\n",
      "Precision: 0.8939\n",
      "Recall: 0.8887\n",
      "F1: 0.8856\n",
      "--------------------------------------------------\n"
     ]
    }
   ],
   "source": [
    "import torch\n",
    "\n",
    "trainer.test()\n",
    "torch.save(trainer.model.state_dict(), \"models/maianet_mendeley.pth\")"
   ]
  }
 ],
 "metadata": {
  "kernelspec": {
   "display_name": "Python (mykernel)",
   "language": "python",
   "name": "mykernel"
  },
  "language_info": {
   "codemirror_mode": {
    "name": "ipython",
    "version": 3
   },
   "file_extension": ".py",
   "mimetype": "text/x-python",
   "name": "python",
   "nbconvert_exporter": "python",
   "pygments_lexer": "ipython3",
   "version": "3.10.12"
  }
 },
 "nbformat": 4,
 "nbformat_minor": 5
}
