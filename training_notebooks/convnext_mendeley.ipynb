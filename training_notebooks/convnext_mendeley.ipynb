{
 "cells": [
  {
   "cell_type": "code",
   "execution_count": 4,
   "id": "4be470de-020c-4e56-9b8d-1377e2b31e2c",
   "metadata": {},
   "outputs": [
    {
     "name": "stdout",
     "output_type": "stream",
     "text": [
      "Note: you may need to restart the kernel to use updated packages.\n"
     ]
    }
   ],
   "source": [
    "%pip install torch pandas torchvision scikit-learn tqdm kaggle torchmetrics huggingface_hub -q"
   ]
  },
  {
   "cell_type": "code",
   "execution_count": 6,
   "id": "a71ff6d8-54a2-483b-aae2-fdf947305d4a",
   "metadata": {},
   "outputs": [],
   "source": [
    "from huggingface_hub import hf_hub_download\n",
    "import os\n",
    "\n",
    "model_files = [\n",
    "    \"mendeley.zip\"\n",
    "]\n",
    "\n",
    "# Target local directory\n",
    "local_dir = \".\"\n",
    "os.makedirs(local_dir, exist_ok=True)\n",
    "\n",
    "# Download each model\n",
    "for filename in model_files:\n",
    "    hf_hub_download(\n",
    "        repo_id=\"omkar334/agri\",\n",
    "        filename=filename,\n",
    "        local_dir=local_dir,\n",
    "    )\n",
    "\n",
    "!unzip -q mendeley.zip -d data3"
   ]
  },
  {
   "cell_type": "code",
   "execution_count": 11,
   "id": "e9a11f4d-c12d-4e5f-aa6e-d37668f4e409",
   "metadata": {},
   "outputs": [],
   "source": [
    "from dataset import get_dataloaders\n",
    "train_loader_labeled, val_loader_labeled, train_loader_unlabeled = get_dataloaders('data3/mendeley', 16)"
   ]
  },
  {
   "cell_type": "code",
   "execution_count": 12,
   "id": "1f2be036-3f51-4e18-8b72-e7a7b464f302",
   "metadata": {},
   "outputs": [],
   "source": [
    "from convnext import Autoencoder\n",
    "import torch\n",
    "import torch.nn as nn\n",
    "import torch.optim as optim\n",
    "\n",
    "\n",
    "DEVICE = torch.device(\"cuda\" if torch.cuda.is_available() else \"cpu\")\n",
    "\n",
    "model = Autoencoder(11).to(DEVICE)\n",
    "reconstruction_criterion = nn.MSELoss()  # Unsupervised Loss\n",
    "classification_criterion = nn.CrossEntropyLoss()  # Supervised Loss\n",
    "optimizer = optim.Adam(model.parameters(), lr=1e-4)"
   ]
  },
  {
   "cell_type": "code",
   "execution_count": null,
   "id": "ef1b3cd2-7082-40cb-94ac-a018f39a8463",
   "metadata": {},
   "outputs": [
    {
     "name": "stderr",
     "output_type": "stream",
     "text": [
      "                                                             "
     ]
    },
    {
     "name": "stdout",
     "output_type": "stream",
     "text": [
      "Epoch [1/35], Total Loss: 714.1368, Reconstruction Loss: 26.1035, Classification Loss: 688.0333, Accuracy: 0.2678\n"
     ]
    },
    {
     "name": "stderr",
     "output_type": "stream",
     "text": [
      "                                                             "
     ]
    },
    {
     "name": "stdout",
     "output_type": "stream",
     "text": [
      "Epoch [2/35], Total Loss: 663.0012, Reconstruction Loss: 25.3293, Classification Loss: 637.6719, Accuracy: 0.3377\n"
     ]
    },
    {
     "name": "stderr",
     "output_type": "stream",
     "text": [
      "                                                             "
     ]
    },
    {
     "name": "stdout",
     "output_type": "stream",
     "text": [
      "Epoch [3/35], Total Loss: 602.5347, Reconstruction Loss: 25.0346, Classification Loss: 577.5000, Accuracy: 0.4041\n"
     ]
    },
    {
     "name": "stderr",
     "output_type": "stream",
     "text": [
      "                                                             "
     ]
    },
    {
     "name": "stdout",
     "output_type": "stream",
     "text": [
      "Epoch [4/35], Total Loss: 525.2872, Reconstruction Loss: 24.8172, Classification Loss: 500.4700, Accuracy: 0.4809\n"
     ]
    },
    {
     "name": "stderr",
     "output_type": "stream",
     "text": [
      "                                                             "
     ]
    },
    {
     "name": "stdout",
     "output_type": "stream",
     "text": [
      "Epoch [5/35], Total Loss: 394.1712, Reconstruction Loss: 24.6765, Classification Loss: 369.4947, Accuracy: 0.6209\n"
     ]
    },
    {
     "name": "stderr",
     "output_type": "stream",
     "text": [
      "                                                             "
     ]
    },
    {
     "name": "stdout",
     "output_type": "stream",
     "text": [
      "Epoch [6/35], Total Loss: 243.8015, Reconstruction Loss: 24.5533, Classification Loss: 219.2482, Accuracy: 0.7789\n"
     ]
    },
    {
     "name": "stderr",
     "output_type": "stream",
     "text": [
      "                                                             "
     ]
    },
    {
     "name": "stdout",
     "output_type": "stream",
     "text": [
      "Epoch [7/35], Total Loss: 141.3469, Reconstruction Loss: 24.4626, Classification Loss: 116.8843, Accuracy: 0.8813\n"
     ]
    },
    {
     "name": "stderr",
     "output_type": "stream",
     "text": [
      "                                                             "
     ]
    },
    {
     "name": "stdout",
     "output_type": "stream",
     "text": [
      "Epoch [8/35], Total Loss: 90.6617, Reconstruction Loss: 24.4028, Classification Loss: 66.2588, Accuracy: 0.9377\n"
     ]
    },
    {
     "name": "stderr",
     "output_type": "stream",
     "text": [
      "                                                             "
     ]
    },
    {
     "name": "stdout",
     "output_type": "stream",
     "text": [
      "Epoch [9/35], Total Loss: 68.7579, Reconstruction Loss: 24.3541, Classification Loss: 44.4038, Accuracy: 0.9562\n"
     ]
    },
    {
     "name": "stderr",
     "output_type": "stream",
     "text": [
      "                                                              "
     ]
    },
    {
     "name": "stdout",
     "output_type": "stream",
     "text": [
      "Epoch [10/35], Total Loss: 55.8705, Reconstruction Loss: 24.3054, Classification Loss: 31.5651, Accuracy: 0.9742\n"
     ]
    },
    {
     "name": "stderr",
     "output_type": "stream",
     "text": [
      "                                                              "
     ]
    },
    {
     "name": "stdout",
     "output_type": "stream",
     "text": [
      "Epoch [11/35], Total Loss: 46.0644, Reconstruction Loss: 24.2831, Classification Loss: 21.7812, Accuracy: 0.9815\n"
     ]
    },
    {
     "name": "stderr",
     "output_type": "stream",
     "text": [
      "                                                              "
     ]
    },
    {
     "name": "stdout",
     "output_type": "stream",
     "text": [
      "Epoch [12/35], Total Loss: 50.7490, Reconstruction Loss: 24.2617, Classification Loss: 26.4873, Accuracy: 0.9770\n"
     ]
    },
    {
     "name": "stderr",
     "output_type": "stream",
     "text": [
      "                                                              "
     ]
    },
    {
     "name": "stdout",
     "output_type": "stream",
     "text": [
      "Epoch [13/35], Total Loss: 52.6959, Reconstruction Loss: 24.2629, Classification Loss: 28.4330, Accuracy: 0.9714\n"
     ]
    },
    {
     "name": "stderr",
     "output_type": "stream",
     "text": [
      "                                                              "
     ]
    },
    {
     "name": "stdout",
     "output_type": "stream",
     "text": [
      "Epoch [14/35], Total Loss: 41.6377, Reconstruction Loss: 24.2348, Classification Loss: 17.4029, Accuracy: 0.9842\n"
     ]
    },
    {
     "name": "stderr",
     "output_type": "stream",
     "text": [
      "                                                              "
     ]
    },
    {
     "name": "stdout",
     "output_type": "stream",
     "text": [
      "Epoch [15/35], Total Loss: 42.6851, Reconstruction Loss: 24.2273, Classification Loss: 18.4578, Accuracy: 0.9824\n"
     ]
    },
    {
     "name": "stderr",
     "output_type": "stream",
     "text": [
      "                                                              "
     ]
    },
    {
     "name": "stdout",
     "output_type": "stream",
     "text": [
      "Epoch [16/35], Total Loss: 37.7725, Reconstruction Loss: 24.2023, Classification Loss: 13.5702, Accuracy: 0.9853\n"
     ]
    },
    {
     "name": "stderr",
     "output_type": "stream",
     "text": [
      "                                                              "
     ]
    },
    {
     "name": "stdout",
     "output_type": "stream",
     "text": [
      "Epoch [17/35], Total Loss: 43.1390, Reconstruction Loss: 24.1973, Classification Loss: 18.9417, Accuracy: 0.9809\n"
     ]
    },
    {
     "name": "stderr",
     "output_type": "stream",
     "text": [
      "                                                              "
     ]
    },
    {
     "name": "stdout",
     "output_type": "stream",
     "text": [
      "Epoch [18/35], Total Loss: 34.3393, Reconstruction Loss: 24.1363, Classification Loss: 10.2030, Accuracy: 0.9891\n"
     ]
    },
    {
     "name": "stderr",
     "output_type": "stream",
     "text": [
      "                                                              "
     ]
    },
    {
     "name": "stdout",
     "output_type": "stream",
     "text": [
      "Epoch [19/35], Total Loss: 32.8811, Reconstruction Loss: 24.1178, Classification Loss: 8.7634, Accuracy: 0.9900\n"
     ]
    },
    {
     "name": "stderr",
     "output_type": "stream",
     "text": [
      "                                                              "
     ]
    },
    {
     "name": "stdout",
     "output_type": "stream",
     "text": [
      "Epoch [20/35], Total Loss: 32.6262, Reconstruction Loss: 24.0967, Classification Loss: 8.5294, Accuracy: 0.9894\n"
     ]
    },
    {
     "name": "stderr",
     "output_type": "stream",
     "text": [
      "                                                              "
     ]
    },
    {
     "name": "stdout",
     "output_type": "stream",
     "text": [
      "Epoch [21/35], Total Loss: 54.4405, Reconstruction Loss: 24.1539, Classification Loss: 30.2866, Accuracy: 0.9705\n"
     ]
    },
    {
     "name": "stderr",
     "output_type": "stream",
     "text": [
      "                                                              "
     ]
    },
    {
     "name": "stdout",
     "output_type": "stream",
     "text": [
      "Epoch [22/35], Total Loss: 38.8598, Reconstruction Loss: 24.1209, Classification Loss: 14.7389, Accuracy: 0.9850\n"
     ]
    },
    {
     "name": "stderr",
     "output_type": "stream",
     "text": [
      "                                                              "
     ]
    },
    {
     "name": "stdout",
     "output_type": "stream",
     "text": [
      "Epoch [23/35], Total Loss: 35.7974, Reconstruction Loss: 24.0898, Classification Loss: 11.7076, Accuracy: 0.9868\n"
     ]
    },
    {
     "name": "stderr",
     "output_type": "stream",
     "text": [
      "                                                              "
     ]
    },
    {
     "name": "stdout",
     "output_type": "stream",
     "text": [
      "Epoch [24/35], Total Loss: 31.6464, Reconstruction Loss: 24.0639, Classification Loss: 7.5826, Accuracy: 0.9911\n"
     ]
    },
    {
     "name": "stderr",
     "output_type": "stream",
     "text": [
      "                                                              "
     ]
    },
    {
     "name": "stdout",
     "output_type": "stream",
     "text": [
      "Epoch [25/35], Total Loss: 31.1832, Reconstruction Loss: 24.0458, Classification Loss: 7.1374, Accuracy: 0.9902\n"
     ]
    },
    {
     "name": "stderr",
     "output_type": "stream",
     "text": [
      "                                                              "
     ]
    },
    {
     "name": "stdout",
     "output_type": "stream",
     "text": [
      "Epoch [26/35], Total Loss: 32.2272, Reconstruction Loss: 24.0435, Classification Loss: 8.1837, Accuracy: 0.9896\n"
     ]
    },
    {
     "name": "stderr",
     "output_type": "stream",
     "text": [
      "                                                              "
     ]
    },
    {
     "name": "stdout",
     "output_type": "stream",
     "text": [
      "Epoch [27/35], Total Loss: 31.3348, Reconstruction Loss: 24.0370, Classification Loss: 7.2978, Accuracy: 0.9894\n"
     ]
    },
    {
     "name": "stderr",
     "output_type": "stream",
     "text": [
      "Epoch 28/35:  73%|███████▎  | 245/337 [01:23<00:30,  2.98it/s]"
     ]
    }
   ],
   "source": [
    "from train import train_model, validate_model\n",
    "\n",
    "model = train_model(\n",
    "    model,\n",
    "    train_loader_labeled,\n",
    "    train_loader_unlabeled,\n",
    "    reconstruction_criterion,\n",
    "    classification_criterion,\n",
    "    optimizer,\n",
    "    num_epochs=35,\n",
    ")"
   ]
  },
  {
   "cell_type": "code",
   "execution_count": 16,
   "id": "166635ba-574d-40a2-a451-b887d8f7b367",
   "metadata": {},
   "outputs": [],
   "source": [
    "torch.save(model.state_dict(), 'models/convnext_mendeley.pth')"
   ]
  },
  {
   "cell_type": "code",
   "execution_count": 18,
   "id": "3ba39fd7-eb71-41bf-b61c-689dfcea94c4",
   "metadata": {},
   "outputs": [
    {
     "name": "stderr",
     "output_type": "stream",
     "text": [
      "                                                           "
     ]
    },
    {
     "name": "stdout",
     "output_type": "stream",
     "text": [
      "Validation Accuracy: 0.6914\n",
      "Validation Precision: 0.7020\n",
      "Validation Recall: 0.6241\n",
      "Validation F1 Score: 0.6460\n",
      "Number of samples validated on: 256\n"
     ]
    }
   ],
   "source": [
    "validate_model(model, val_loader_labeled, 11)"
   ]
  },
  {
   "cell_type": "code",
   "execution_count": 15,
   "id": "2f37d07b-66d9-49ca-a921-21120f901300",
   "metadata": {},
   "outputs": [],
   "source": [
    "import time"
   ]
  }
 ],
 "metadata": {
  "kernelspec": {
   "display_name": "Python 3 (ipykernel)",
   "language": "python",
   "name": "python3"
  },
  "language_info": {
   "codemirror_mode": {
    "name": "ipython",
    "version": 3
   },
   "file_extension": ".py",
   "mimetype": "text/x-python",
   "name": "python",
   "nbconvert_exporter": "python",
   "pygments_lexer": "ipython3",
   "version": "3.10.12"
  }
 },
 "nbformat": 4,
 "nbformat_minor": 5
}
