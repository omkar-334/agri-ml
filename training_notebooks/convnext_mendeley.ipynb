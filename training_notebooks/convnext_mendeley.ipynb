{
 "cells": [
  {
   "cell_type": "code",
   "execution_count": 1,
   "id": "e9a11f4d-c12d-4e5f-aa6e-d37668f4e409",
   "metadata": {},
   "outputs": [],
   "source": [
    "from dataset import get_dataloaders\n",
    "train_loader_labeled, val_loader_labeled, train_loader_unlabeled = get_dataloaders('data3/mendeley', 16)"
   ]
  },
  {
   "cell_type": "code",
   "execution_count": 2,
   "id": "1f2be036-3f51-4e18-8b72-e7a7b464f302",
   "metadata": {},
   "outputs": [],
   "source": [
    "from convnext import Autoencoder\n",
    "import torch\n",
    "import torch.nn as nn\n",
    "import torch.optim as optim\n",
    "\n",
    "\n",
    "DEVICE = torch.device(\"cuda\" if torch.cuda.is_available() else \"cpu\")\n",
    "\n",
    "model = Autoencoder(11).to(DEVICE)"
   ]
  },
  {
   "cell_type": "code",
   "execution_count": 3,
   "id": "ef1b3cd2-7082-40cb-94ac-a018f39a8463",
   "metadata": {},
   "outputs": [
    {
     "name": "stderr",
     "output_type": "stream",
     "text": [
      "                                                             "
     ]
    },
    {
     "name": "stdout",
     "output_type": "stream",
     "text": [
      "Epoch [1/35], Total Loss: 709.1469, Reconstruction Loss: 27.9685, Classification Loss: 681.1784, Accuracy: 0.2621\n"
     ]
    },
    {
     "name": "stderr",
     "output_type": "stream",
     "text": [
      "                                                             "
     ]
    },
    {
     "name": "stdout",
     "output_type": "stream",
     "text": [
      "Epoch [2/35], Total Loss: 650.0960, Reconstruction Loss: 26.9232, Classification Loss: 623.1727, Accuracy: 0.3323\n"
     ]
    },
    {
     "name": "stderr",
     "output_type": "stream",
     "text": [
      "                                                             "
     ]
    },
    {
     "name": "stdout",
     "output_type": "stream",
     "text": [
      "Epoch [3/35], Total Loss: 572.0640, Reconstruction Loss: 26.3723, Classification Loss: 545.6917, Accuracy: 0.4062\n"
     ]
    },
    {
     "name": "stderr",
     "output_type": "stream",
     "text": [
      "                                                             "
     ]
    },
    {
     "name": "stdout",
     "output_type": "stream",
     "text": [
      "Epoch [4/35], Total Loss: 463.2746, Reconstruction Loss: 25.9408, Classification Loss: 437.3338, Accuracy: 0.5447\n"
     ]
    },
    {
     "name": "stderr",
     "output_type": "stream",
     "text": [
      "                                                             "
     ]
    },
    {
     "name": "stdout",
     "output_type": "stream",
     "text": [
      "Epoch [5/35], Total Loss: 342.8847, Reconstruction Loss: 25.5847, Classification Loss: 317.3000, Accuracy: 0.6654\n"
     ]
    },
    {
     "name": "stderr",
     "output_type": "stream",
     "text": [
      "                                                             "
     ]
    },
    {
     "name": "stdout",
     "output_type": "stream",
     "text": [
      "Epoch [6/35], Total Loss: 217.1850, Reconstruction Loss: 25.2887, Classification Loss: 191.8963, Accuracy: 0.8047\n"
     ]
    },
    {
     "name": "stderr",
     "output_type": "stream",
     "text": [
      "                                                             "
     ]
    },
    {
     "name": "stdout",
     "output_type": "stream",
     "text": [
      "Epoch [7/35], Total Loss: 132.7012, Reconstruction Loss: 25.0474, Classification Loss: 107.6538, Accuracy: 0.8909\n"
     ]
    },
    {
     "name": "stderr",
     "output_type": "stream",
     "text": [
      "                                                             "
     ]
    },
    {
     "name": "stdout",
     "output_type": "stream",
     "text": [
      "Epoch [8/35], Total Loss: 79.8861, Reconstruction Loss: 24.8340, Classification Loss: 55.0522, Accuracy: 0.9483\n"
     ]
    },
    {
     "name": "stderr",
     "output_type": "stream",
     "text": [
      "                                                             "
     ]
    },
    {
     "name": "stdout",
     "output_type": "stream",
     "text": [
      "Epoch [9/35], Total Loss: 66.3866, Reconstruction Loss: 24.6710, Classification Loss: 41.7155, Accuracy: 0.9612\n"
     ]
    },
    {
     "name": "stderr",
     "output_type": "stream",
     "text": [
      "                                                              "
     ]
    },
    {
     "name": "stdout",
     "output_type": "stream",
     "text": [
      "Epoch [10/35], Total Loss: 53.8771, Reconstruction Loss: 24.5442, Classification Loss: 29.3329, Accuracy: 0.9722\n"
     ]
    },
    {
     "name": "stderr",
     "output_type": "stream",
     "text": [
      "                                                              "
     ]
    },
    {
     "name": "stdout",
     "output_type": "stream",
     "text": [
      "Epoch [11/35], Total Loss: 38.7078, Reconstruction Loss: 24.4313, Classification Loss: 14.2765, Accuracy: 0.9889\n"
     ]
    },
    {
     "name": "stderr",
     "output_type": "stream",
     "text": [
      "                                                              "
     ]
    },
    {
     "name": "stdout",
     "output_type": "stream",
     "text": [
      "Epoch [12/35], Total Loss: 49.7983, Reconstruction Loss: 24.3799, Classification Loss: 25.4184, Accuracy: 0.9779\n"
     ]
    },
    {
     "name": "stderr",
     "output_type": "stream",
     "text": [
      "                                                              "
     ]
    },
    {
     "name": "stdout",
     "output_type": "stream",
     "text": [
      "Epoch [13/35], Total Loss: 34.4366, Reconstruction Loss: 24.3010, Classification Loss: 10.1355, Accuracy: 0.9900\n"
     ]
    },
    {
     "name": "stderr",
     "output_type": "stream",
     "text": [
      "                                                              "
     ]
    },
    {
     "name": "stdout",
     "output_type": "stream",
     "text": [
      "Epoch [14/35], Total Loss: 43.1173, Reconstruction Loss: 24.2854, Classification Loss: 18.8319, Accuracy: 0.9824\n"
     ]
    },
    {
     "name": "stderr",
     "output_type": "stream",
     "text": [
      "                                                              "
     ]
    },
    {
     "name": "stdout",
     "output_type": "stream",
     "text": [
      "Epoch [16/35], Total Loss: 31.3285, Reconstruction Loss: 24.1898, Classification Loss: 7.1388, Accuracy: 0.9931\n"
     ]
    },
    {
     "name": "stderr",
     "output_type": "stream",
     "text": [
      "                                                              "
     ]
    },
    {
     "name": "stdout",
     "output_type": "stream",
     "text": [
      "Epoch [17/35], Total Loss: 30.5360, Reconstruction Loss: 24.1729, Classification Loss: 6.3631, Accuracy: 0.9935\n"
     ]
    },
    {
     "name": "stderr",
     "output_type": "stream",
     "text": [
      "                                                              "
     ]
    },
    {
     "name": "stdout",
     "output_type": "stream",
     "text": [
      "Epoch [18/35], Total Loss: 50.0881, Reconstruction Loss: 24.1977, Classification Loss: 25.8903, Accuracy: 0.9764\n"
     ]
    },
    {
     "name": "stderr",
     "output_type": "stream",
     "text": [
      "                                                              "
     ]
    },
    {
     "name": "stdout",
     "output_type": "stream",
     "text": [
      "Epoch [19/35], Total Loss: 35.7538, Reconstruction Loss: 24.1407, Classification Loss: 11.6131, Accuracy: 0.9887\n"
     ]
    },
    {
     "name": "stderr",
     "output_type": "stream",
     "text": [
      "                                                              "
     ]
    },
    {
     "name": "stdout",
     "output_type": "stream",
     "text": [
      "Epoch [20/35], Total Loss: 29.8200, Reconstruction Loss: 24.1062, Classification Loss: 5.7138, Accuracy: 0.9944\n"
     ]
    },
    {
     "name": "stderr",
     "output_type": "stream",
     "text": [
      "                                                              "
     ]
    },
    {
     "name": "stdout",
     "output_type": "stream",
     "text": [
      "Epoch [21/35], Total Loss: 29.0657, Reconstruction Loss: 24.0984, Classification Loss: 4.9674, Accuracy: 0.9939\n"
     ]
    },
    {
     "name": "stderr",
     "output_type": "stream",
     "text": [
      "                                                              "
     ]
    },
    {
     "name": "stdout",
     "output_type": "stream",
     "text": [
      "Epoch [22/35], Total Loss: 28.0046, Reconstruction Loss: 24.0713, Classification Loss: 3.9333, Accuracy: 0.9952\n"
     ]
    },
    {
     "name": "stderr",
     "output_type": "stream",
     "text": [
      "                                                              "
     ]
    },
    {
     "name": "stdout",
     "output_type": "stream",
     "text": [
      "Epoch [23/35], Total Loss: 28.5173, Reconstruction Loss: 24.0640, Classification Loss: 4.4532, Accuracy: 0.9952\n"
     ]
    },
    {
     "name": "stderr",
     "output_type": "stream",
     "text": [
      "                                                              "
     ]
    },
    {
     "name": "stdout",
     "output_type": "stream",
     "text": [
      "Epoch [24/35], Total Loss: 29.1984, Reconstruction Loss: 24.0573, Classification Loss: 5.1411, Accuracy: 0.9955\n"
     ]
    },
    {
     "name": "stderr",
     "output_type": "stream",
     "text": [
      "                                                              "
     ]
    },
    {
     "name": "stdout",
     "output_type": "stream",
     "text": [
      "Epoch [25/35], Total Loss: 73.6051, Reconstruction Loss: 24.1054, Classification Loss: 49.4997, Accuracy: 0.9547\n"
     ]
    },
    {
     "name": "stderr",
     "output_type": "stream",
     "text": [
      "                                                              "
     ]
    },
    {
     "name": "stdout",
     "output_type": "stream",
     "text": [
      "Epoch [26/35], Total Loss: 28.5408, Reconstruction Loss: 24.0319, Classification Loss: 4.5089, Accuracy: 0.9941\n"
     ]
    },
    {
     "name": "stderr",
     "output_type": "stream",
     "text": [
      "                                                              "
     ]
    },
    {
     "name": "stdout",
     "output_type": "stream",
     "text": [
      "Epoch [27/35], Total Loss: 28.0313, Reconstruction Loss: 24.0052, Classification Loss: 4.0260, Accuracy: 0.9950\n"
     ]
    },
    {
     "name": "stderr",
     "output_type": "stream",
     "text": [
      "                                                              "
     ]
    },
    {
     "name": "stdout",
     "output_type": "stream",
     "text": [
      "Epoch [28/35], Total Loss: 27.7943, Reconstruction Loss: 23.9977, Classification Loss: 3.7966, Accuracy: 0.9946\n"
     ]
    },
    {
     "name": "stderr",
     "output_type": "stream",
     "text": [
      "                                                              "
     ]
    },
    {
     "name": "stdout",
     "output_type": "stream",
     "text": [
      "Epoch [29/35], Total Loss: 27.6557, Reconstruction Loss: 23.9899, Classification Loss: 3.6659, Accuracy: 0.9955\n"
     ]
    },
    {
     "name": "stderr",
     "output_type": "stream",
     "text": [
      "                                                              "
     ]
    },
    {
     "name": "stdout",
     "output_type": "stream",
     "text": [
      "Epoch [30/35], Total Loss: 27.3878, Reconstruction Loss: 23.9738, Classification Loss: 3.4140, Accuracy: 0.9952\n"
     ]
    },
    {
     "name": "stderr",
     "output_type": "stream",
     "text": [
      "                                                              "
     ]
    },
    {
     "name": "stdout",
     "output_type": "stream",
     "text": [
      "Epoch [31/35], Total Loss: 27.5699, Reconstruction Loss: 23.9670, Classification Loss: 3.6030, Accuracy: 0.9950\n"
     ]
    },
    {
     "name": "stderr",
     "output_type": "stream",
     "text": [
      "                                                              "
     ]
    },
    {
     "name": "stdout",
     "output_type": "stream",
     "text": [
      "Epoch [32/35], Total Loss: 28.6876, Reconstruction Loss: 23.9773, Classification Loss: 4.7103, Accuracy: 0.9937\n"
     ]
    },
    {
     "name": "stderr",
     "output_type": "stream",
     "text": [
      "                                                              "
     ]
    },
    {
     "name": "stdout",
     "output_type": "stream",
     "text": [
      "Epoch [33/35], Total Loss: 57.9209, Reconstruction Loss: 24.0297, Classification Loss: 33.8912, Accuracy: 0.9694\n"
     ]
    },
    {
     "name": "stderr",
     "output_type": "stream",
     "text": [
      "                                                              "
     ]
    },
    {
     "name": "stdout",
     "output_type": "stream",
     "text": [
      "Epoch [34/35], Total Loss: 30.7392, Reconstruction Loss: 23.9568, Classification Loss: 6.7824, Accuracy: 0.9922\n"
     ]
    },
    {
     "name": "stderr",
     "output_type": "stream",
     "text": [
      "                                                              "
     ]
    },
    {
     "name": "stdout",
     "output_type": "stream",
     "text": [
      "Epoch [35/35], Total Loss: 27.5869, Reconstruction Loss: 23.9448, Classification Loss: 3.6421, Accuracy: 0.9955\n"
     ]
    }
   ],
   "source": [
    "from train import train_model, validate_model\n",
    "\n",
    "model = train_model(\n",
    "    model,\n",
    "    train_loader_labeled,\n",
    "    train_loader_unlabeled,\n",
    "    lr=1e-4,\n",
    "    num_epochs=35,\n",
    ")\n",
    "# Epoch 1/35:  16%|█▌        | 54/337 [01:35<07:59,  1.69s/it]"
   ]
  },
  {
   "cell_type": "code",
   "execution_count": 4,
   "id": "166635ba-574d-40a2-a451-b887d8f7b367",
   "metadata": {},
   "outputs": [],
   "source": [
    "torch.save(model.state_dict(), 'models/convnext_mendeley.pth')"
   ]
  },
  {
   "cell_type": "code",
   "execution_count": 5,
   "id": "3ba39fd7-eb71-41bf-b61c-689dfcea94c4",
   "metadata": {},
   "outputs": [
    {
     "name": "stderr",
     "output_type": "stream",
     "text": [
      "                                                           "
     ]
    },
    {
     "name": "stdout",
     "output_type": "stream",
     "text": [
      "Validation Accuracy: 0.6852\n",
      "Validation Precision: 0.6702\n",
      "Validation Recall: 0.6274\n",
      "Validation F1 Score: 0.6399\n",
      "Number of samples validated on: 270\n"
     ]
    }
   ],
   "source": [
    "validate_model(model, val_loader_labeled, 11)\n",
    "# Validation Accuracy: 0.6914\n",
    "# Validation Precision: 0.7020\n",
    "# Validation Recall: 0.6241\n",
    "# Validation F1 Score: 0.6460\n",
    "# Number of samples validated on: 256"
   ]
  }
 ],
 "metadata": {
  "kernelspec": {
   "display_name": "Python (mykernel)",
   "language": "python",
   "name": "mykernel"
  },
  "language_info": {
   "codemirror_mode": {
    "name": "ipython",
    "version": 3
   },
   "file_extension": ".py",
   "mimetype": "text/x-python",
   "name": "python",
   "nbconvert_exporter": "python",
   "pygments_lexer": "ipython3",
   "version": "3.10.12"
  }
 },
 "nbformat": 4,
 "nbformat_minor": 5
}
