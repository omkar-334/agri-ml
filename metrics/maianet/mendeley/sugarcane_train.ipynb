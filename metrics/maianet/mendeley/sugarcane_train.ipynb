{
 "cells": [
  {
   "cell_type": "code",
   "execution_count": 1,
   "id": "6ea79405-3e58-4040-9d4b-79697654f227",
   "metadata": {},
   "outputs": [
    {
     "name": "stdout",
     "output_type": "stream",
     "text": [
      "Note: you may need to restart the kernel to use updated packages.\n"
     ]
    }
   ],
   "source": [
    "%pip install torch pandas torchvision scikit-learn tqdm kaggle -q"
   ]
  },
  {
   "cell_type": "code",
   "execution_count": 2,
   "id": "b990dab2-2199-4cc7-b547-bd3ad9a34014",
   "metadata": {},
   "outputs": [
    {
     "name": "stdout",
     "output_type": "stream",
     "text": [
      "\u001b[1;31mE: \u001b[0mCould not open lock file /var/lib/apt/lists/lock - open (13: Permission denied)\u001b[0m\n",
      "\u001b[1;31mE: \u001b[0mUnable to lock directory /var/lib/apt/lists/\u001b[0m\n",
      "\u001b[1;33mW: \u001b[0mProblem unlinking the file /var/cache/apt/pkgcache.bin - RemoveCaches (13: Permission denied)\u001b[0m\n",
      "\u001b[1;33mW: \u001b[0mProblem unlinking the file /var/cache/apt/srcpkgcache.bin - RemoveCaches (13: Permission denied)\u001b[0m\n",
      "\u001b[1;31mE: \u001b[0mCould not open lock file /var/lib/dpkg/lock-frontend - open (13: Permission denied)\u001b[0m\n",
      "\u001b[1;31mE: \u001b[0mUnable to acquire the dpkg frontend lock (/var/lib/dpkg/lock-frontend), are you root?\u001b[0m\n"
     ]
    }
   ],
   "source": [
    "!apt update -qq\n",
    "!apt install -qq unzip\n",
    "!unzip -q data.zip -d data"
   ]
  },
  {
   "cell_type": "code",
   "execution_count": 4,
   "id": "6620ca06-f014-4cdb-a636-0f1de07297b8",
   "metadata": {},
   "outputs": [],
   "source": [
    "import os\n",
    "import shutil\n",
    "\n",
    "import pandas as pd\n",
    "\n",
    "# Define paths\n",
    "data_root = \"data\"\n",
    "images_dir = os.path.join(data_root, \"images\")\n",
    "\n",
    "# Create images directory if it doesn't exist\n",
    "os.makedirs(images_dir, exist_ok=True)\n",
    "\n",
    "# List to store image paths and labels\n",
    "dataset = []\n",
    "\n",
    "# Loop through each subfolder\n",
    "for subfolder in os.listdir(data_root):\n",
    "    subfolder_path = os.path.join(data_root, subfolder)\n",
    "\n",
    "    # Ensure it's a directory\n",
    "    if os.path.isdir(subfolder_path) and subfolder != \"images\":\n",
    "        # Loop through images inside the subfolder\n",
    "        for image in os.listdir(subfolder_path):\n",
    "            old_image_path = os.path.join(subfolder_path, image)\n",
    "\n",
    "            # Ensure it's a file (image)\n",
    "            if os.path.isfile(old_image_path):\n",
    "                # Define new image path in \"data/images\" directory\n",
    "                new_image_path = os.path.join(images_dir, image)\n",
    "\n",
    "                # If filename already exists, rename it to avoid conflicts\n",
    "                if os.path.exists(new_image_path):\n",
    "                    base, ext = os.path.splitext(image)\n",
    "                    counter = 1\n",
    "                    while os.path.exists(new_image_path):\n",
    "                        new_image_path = os.path.join(images_dir, f\"{base}_{counter}{ext}\")\n",
    "                        counter += 1\n",
    "\n",
    "                # Move image\n",
    "                shutil.move(old_image_path, new_image_path)\n",
    "\n",
    "                # Append to dataset with updated path and original label\n",
    "                dataset.append({\"image_path\": new_image_path, \"label\": subfolder})\n",
    "\n",
    "        # Optionally remove empty subfolder after moving images\n",
    "        os.rmdir(subfolder_path)\n",
    "\n",
    "df = pd.DataFrame(dataset)\n",
    "df = df.rename(columns={\"image_path\": \"image_id\"})\n",
    "df[\"image_id\"] = df[\"image_id\"].str.replace(\"data/images/\", \"\", regex=False)\n",
    "\n",
    "from sklearn.preprocessing import LabelEncoder\n",
    "\n",
    "label_encoder = LabelEncoder()\n",
    "df[\"label\"] = label_encoder.fit_transform(df[\"label\"])\n",
    "\n",
    "df.to_csv(os.path.join(data_root, \"dataset.csv\"), index=False)\n",
    "\n",
    "label_mapping = dict(zip(label_encoder.classes_, label_encoder.transform(label_encoder.classes_)))"
   ]
  },
  {
   "cell_type": "code",
   "execution_count": null,
   "id": "614b360e-ba07-4375-99b9-c2400c5e5072",
   "metadata": {},
   "outputs": [],
   "source": [
    "# To load the dataset again:\n",
    "# import pandas as pd\n",
    "# df = pd.read_csv('/workspace/data/dataset.csv')"
   ]
  },
  {
   "cell_type": "code",
   "execution_count": 5,
   "id": "2a451a03-5a36-402a-b608-b9c09b038421",
   "metadata": {},
   "outputs": [
    {
     "data": {
      "text/plain": [
       "1    1722\n",
       "7    1194\n",
       "6     663\n",
       "5     652\n",
       "0     471\n",
       "3     346\n",
       "8     316\n",
       "2     314\n",
       "4     297\n",
       "Name: label, dtype: int64"
      ]
     },
     "execution_count": 5,
     "metadata": {},
     "output_type": "execute_result"
    }
   ],
   "source": [
    "df[\"label\"].value_counts()"
   ]
  },
  {
   "cell_type": "code",
   "execution_count": 9,
   "id": "f81fb4c6-d8a9-4472-b4c4-998d440bc51c",
   "metadata": {},
   "outputs": [
    {
     "name": "stdout",
     "output_type": "stream",
     "text": [
      "1    297\n",
      "4    297\n",
      "5    297\n",
      "6    297\n",
      "8    297\n",
      "2    297\n",
      "3    297\n",
      "7    297\n",
      "0    297\n",
      "Name: label, dtype: int64\n"
     ]
    }
   ],
   "source": [
    "import pandas as pd\n",
    "\n",
    "# Assuming you already have the DataFrame `df`\n",
    "# and that the column name is actually 'label'\n",
    "\n",
    "min_count = df['label'].value_counts().min()\n",
    "\n",
    "# Group by label and take a random sample of size min_count from each class\n",
    "df_balanced = df.groupby('label').sample(n=min_count, random_state=42)\n",
    "\n",
    "# Shuffle the resulting balanced dataset\n",
    "df_balanced = df_balanced.sample(frac=1, random_state=42).reset_index(drop=True)\n",
    "\n",
    "# Check new class distribution\n",
    "print(df_balanced['label'].value_counts())\n"
   ]
  },
  {
   "cell_type": "code",
   "execution_count": 10,
   "id": "b1282e13-654a-4974-b4b9-3cf848b99bc1",
   "metadata": {},
   "outputs": [],
   "source": [
    "import os\n",
    "\n",
    "import pandas as pd\n",
    "import torch\n",
    "from sklearn.model_selection import train_test_split\n",
    "from torch.utils.data import DataLoader\n",
    "\n",
    "device = torch.device(\"cuda\" if torch.cuda.is_available() else \"cpu\")\n",
    "\n",
    "from dataset import Dataset\n"
   ]
  },
  {
   "cell_type": "code",
   "execution_count": 19,
   "id": "b2ba8c31-2cf8-4315-a109-bb206a542f04",
   "metadata": {},
   "outputs": [],
   "source": [
    "train_df, temp_df = train_test_split(df_balanced, test_size=0.2, random_state=42, stratify=df_balanced[\"label\"])\n",
    "val_df, test_df = train_test_split(temp_df, test_size=0.5, random_state=42, stratify=temp_df[\"label\"])\n",
    "\n",
    "# Change the path to the directory where the images are stored\n",
    "path = \"data/images\"\n",
    "train_dataset = Dataset(train_df, path)\n",
    "test_dataset = Dataset(test_df, path)\n",
    "val_dataset = Dataset(val_df, path)"
   ]
  },
  {
   "cell_type": "code",
   "execution_count": 24,
   "id": "4477227e-0b6d-4593-bbc3-da028ad14f00",
   "metadata": {},
   "outputs": [],
   "source": [
    "import itertools\n",
    "\n",
    "from model import MaiaNet\n",
    "from train import Trainer\n",
    "\n",
    "batch_size = 16\n",
    "lr = 2e-4\n",
    "num_epochs = 35\n",
    "num_classes = 9\n",
    "\n",
    "\n",
    "def run_experiment(batch_size, lr):\n",
    "    train_loader = DataLoader(train_dataset, batch_size=batch_size, shuffle=True)\n",
    "    val_loader = DataLoader(val_dataset, batch_size=batch_size, shuffle=False)\n",
    "    test_loader = DataLoader(test_dataset, batch_size=batch_size, shuffle=False)\n",
    "\n",
    "    model = MaiaNet(num_classes)\n",
    "    trainer = Trainer(model, train_loader, val_loader, test_loader, lr, num_epochs, batch_size=batch_size)\n",
    "\n",
    "    trainer.train()\n",
    "    trainer.test()\n",
    "    torch.save(trainer.model.state_dict(), 'maianet.pth')"
   ]
  },
  {
   "cell_type": "code",
   "execution_count": null,
   "id": "650ee9fc-d639-472f-879b-d6b3e1d17449",
   "metadata": {
    "scrolled": true
   },
   "outputs": [
    {
     "name": "stderr",
     "output_type": "stream",
     "text": [
      "Epoch 1/35: 100%|██████████| 134/134 [01:49<00:00,  1.22it/s, loss=2.2222]\n"
     ]
    },
    {
     "name": "stdout",
     "output_type": "stream",
     "text": [
      "\n",
      "Train Metrics:\n",
      "--------------------------------------------------\n",
      "Epoch: 0\n",
      "Train Loss: 2.1983\n",
      "Test Loss: 2.1830\n",
      "Accuracy: 0.1573\n",
      "Precision: 0.0366\n",
      "Recall: 0.1573\n",
      "F1: 0.0569\n",
      "--------------------------------------------------\n"
     ]
    },
    {
     "name": "stderr",
     "output_type": "stream",
     "text": [
      "Epoch 3/35: 100%|██████████| 134/134 [01:51<00:00,  1.21it/s, loss=2.1533]\n"
     ]
    },
    {
     "name": "stdout",
     "output_type": "stream",
     "text": [
      "\n",
      "Train Metrics:\n",
      "--------------------------------------------------\n",
      "Epoch: 2\n",
      "Train Loss: 2.1453\n",
      "Test Loss: 2.1310\n",
      "Accuracy: 0.1985\n",
      "Precision: 0.0586\n",
      "Recall: 0.1985\n",
      "F1: 0.0875\n",
      "--------------------------------------------------\n"
     ]
    },
    {
     "name": "stderr",
     "output_type": "stream",
     "text": [
      "Epoch 4/35: 100%|██████████| 134/134 [01:50<00:00,  1.22it/s, loss=2.1335]\n"
     ]
    },
    {
     "name": "stdout",
     "output_type": "stream",
     "text": [
      "\n",
      "Train Metrics:\n",
      "--------------------------------------------------\n",
      "Epoch: 3\n",
      "Train Loss: 2.1199\n",
      "Test Loss: 2.1018\n",
      "Accuracy: 0.2697\n",
      "Precision: 0.1282\n",
      "Recall: 0.2697\n",
      "F1: 0.1496\n",
      "--------------------------------------------------\n"
     ]
    },
    {
     "name": "stderr",
     "output_type": "stream",
     "text": [
      "Epoch 5/35: 100%|██████████| 134/134 [01:49<00:00,  1.22it/s, loss=2.0750]\n"
     ]
    },
    {
     "name": "stdout",
     "output_type": "stream",
     "text": [
      "\n",
      "Train Metrics:\n",
      "--------------------------------------------------\n",
      "Epoch: 4\n",
      "Train Loss: 2.0918\n",
      "Test Loss: 2.0805\n",
      "Accuracy: 0.2285\n",
      "Precision: 0.3161\n",
      "Recall: 0.2285\n",
      "F1: 0.1725\n",
      "--------------------------------------------------\n"
     ]
    },
    {
     "name": "stderr",
     "output_type": "stream",
     "text": [
      "Epoch 6/35: 100%|██████████| 134/134 [01:49<00:00,  1.22it/s, loss=1.9261]\n"
     ]
    },
    {
     "name": "stdout",
     "output_type": "stream",
     "text": [
      "\n",
      "Train Metrics:\n",
      "--------------------------------------------------\n",
      "Epoch: 5\n",
      "Train Loss: 2.0684\n",
      "Test Loss: 2.0547\n",
      "Accuracy: 0.2959\n",
      "Precision: 0.2264\n",
      "Recall: 0.2959\n",
      "F1: 0.1987\n",
      "--------------------------------------------------\n"
     ]
    },
    {
     "name": "stderr",
     "output_type": "stream",
     "text": [
      "Epoch 7/35: 100%|██████████| 134/134 [01:50<00:00,  1.21it/s, loss=2.1388]\n"
     ]
    },
    {
     "name": "stdout",
     "output_type": "stream",
     "text": [
      "\n",
      "Train Metrics:\n",
      "--------------------------------------------------\n",
      "Epoch: 6\n",
      "Train Loss: 2.0454\n",
      "Test Loss: 2.0307\n",
      "Accuracy: 0.2996\n",
      "Precision: 0.2397\n",
      "Recall: 0.2996\n",
      "F1: 0.1902\n",
      "--------------------------------------------------\n"
     ]
    },
    {
     "name": "stderr",
     "output_type": "stream",
     "text": [
      "Epoch 8/35: 100%|██████████| 134/134 [01:50<00:00,  1.21it/s, loss=1.8948]\n"
     ]
    },
    {
     "name": "stdout",
     "output_type": "stream",
     "text": [
      "\n",
      "Train Metrics:\n",
      "--------------------------------------------------\n",
      "Epoch: 7\n",
      "Train Loss: 2.0231\n",
      "Test Loss: 2.0087\n",
      "Accuracy: 0.3596\n",
      "Precision: 0.4082\n",
      "Recall: 0.3596\n",
      "F1: 0.2956\n",
      "--------------------------------------------------\n"
     ]
    },
    {
     "name": "stderr",
     "output_type": "stream",
     "text": [
      "Epoch 9/35: 100%|██████████| 134/134 [01:50<00:00,  1.22it/s, loss=2.0363]\n"
     ]
    },
    {
     "name": "stdout",
     "output_type": "stream",
     "text": [
      "\n",
      "Train Metrics:\n",
      "--------------------------------------------------\n",
      "Epoch: 8\n",
      "Train Loss: 2.0014\n",
      "Test Loss: 1.9885\n",
      "Accuracy: 0.3184\n",
      "Precision: 0.3430\n",
      "Recall: 0.3184\n",
      "F1: 0.2011\n",
      "--------------------------------------------------\n"
     ]
    },
    {
     "name": "stderr",
     "output_type": "stream",
     "text": [
      "Epoch 10/35: 100%|██████████| 134/134 [01:50<00:00,  1.22it/s, loss=1.9235]\n"
     ]
    },
    {
     "name": "stdout",
     "output_type": "stream",
     "text": [
      "\n",
      "Train Metrics:\n",
      "--------------------------------------------------\n",
      "Epoch: 9\n",
      "Train Loss: 1.9827\n",
      "Test Loss: 1.9730\n",
      "Accuracy: 0.4270\n",
      "Precision: 0.4250\n",
      "Recall: 0.4270\n",
      "F1: 0.3228\n",
      "--------------------------------------------------\n"
     ]
    },
    {
     "name": "stderr",
     "output_type": "stream",
     "text": [
      "Epoch 11/35: 100%|██████████| 134/134 [01:50<00:00,  1.21it/s, loss=2.0864]\n"
     ]
    },
    {
     "name": "stdout",
     "output_type": "stream",
     "text": [
      "\n",
      "Train Metrics:\n",
      "--------------------------------------------------\n",
      "Epoch: 10\n",
      "Train Loss: 1.9612\n",
      "Test Loss: 1.9530\n",
      "Accuracy: 0.4195\n",
      "Precision: 0.3959\n",
      "Recall: 0.4195\n",
      "F1: 0.3420\n",
      "--------------------------------------------------\n"
     ]
    },
    {
     "name": "stderr",
     "output_type": "stream",
     "text": [
      "Epoch 12/35: 100%|██████████| 134/134 [01:50<00:00,  1.22it/s, loss=1.8784]\n"
     ]
    },
    {
     "name": "stdout",
     "output_type": "stream",
     "text": [
      "\n",
      "Train Metrics:\n",
      "--------------------------------------------------\n",
      "Epoch: 11\n",
      "Train Loss: 1.9424\n",
      "Test Loss: 1.9354\n",
      "Accuracy: 0.3558\n",
      "Precision: 0.4715\n",
      "Recall: 0.3558\n",
      "F1: 0.2868\n",
      "--------------------------------------------------\n"
     ]
    },
    {
     "name": "stderr",
     "output_type": "stream",
     "text": [
      "Epoch 13/35: 100%|██████████| 134/134 [01:50<00:00,  1.21it/s, loss=2.0358]\n"
     ]
    },
    {
     "name": "stdout",
     "output_type": "stream",
     "text": [
      "\n",
      "Train Metrics:\n",
      "--------------------------------------------------\n",
      "Epoch: 12\n",
      "Train Loss: 1.9269\n",
      "Test Loss: 1.9183\n",
      "Accuracy: 0.4082\n",
      "Precision: 0.3517\n",
      "Recall: 0.4082\n",
      "F1: 0.3158\n",
      "--------------------------------------------------\n"
     ]
    },
    {
     "name": "stderr",
     "output_type": "stream",
     "text": [
      "Epoch 14/35: 100%|██████████| 134/134 [01:50<00:00,  1.22it/s, loss=1.8496]\n"
     ]
    },
    {
     "name": "stdout",
     "output_type": "stream",
     "text": [
      "\n",
      "Train Metrics:\n",
      "--------------------------------------------------\n",
      "Epoch: 13\n",
      "Train Loss: 1.9073\n",
      "Test Loss: 1.8935\n",
      "Accuracy: 0.4345\n",
      "Precision: 0.2930\n",
      "Recall: 0.4345\n",
      "F1: 0.3269\n",
      "--------------------------------------------------\n"
     ]
    },
    {
     "name": "stderr",
     "output_type": "stream",
     "text": [
      "Epoch 15/35:  48%|████▊     | 64/134 [00:52<00:57,  1.22it/s, loss=1.8434]"
     ]
    }
   ],
   "source": [
    "# for batch_size, lr in itertools.product(batch_sizes, lrs):\n",
    "#     print(f\"\\nRunning experiment with batch_size={batch_size}, lr={lr}\")\n",
    "run_experiment(batch_size, lr)"
   ]
  }
 ],
 "metadata": {
  "kernelspec": {
   "display_name": "Python 3 (ipykernel)",
   "language": "python",
   "name": "python3"
  },
  "language_info": {
   "codemirror_mode": {
    "name": "ipython",
    "version": 3
   },
   "file_extension": ".py",
   "mimetype": "text/x-python",
   "name": "python",
   "nbconvert_exporter": "python",
   "pygments_lexer": "ipython3",
   "version": "3.10.12"
  }
 },
 "nbformat": 4,
 "nbformat_minor": 5
}
