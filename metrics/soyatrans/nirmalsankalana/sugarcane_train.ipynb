{
 "cells": [
  {
   "cell_type": "code",
   "execution_count": 1,
   "id": "6ea79405-3e58-4040-9d4b-79697654f227",
   "metadata": {},
   "outputs": [
    {
     "name": "stdout",
     "output_type": "stream",
     "text": [
      "Note: you may need to restart the kernel to use updated packages.\n"
     ]
    }
   ],
   "source": [
    "%pip install torch pandas torchvision scikit-learn tqdm kaggle timm -q"
   ]
  },
  {
   "cell_type": "code",
   "execution_count": 2,
   "id": "78d482ea-0e22-4b07-a205-1d259fb90a5c",
   "metadata": {},
   "outputs": [],
   "source": [
    "# upload kaggle.json first.\n",
    "!mkdir -p ~/.kaggle\n",
    "!mv kaggle.json ~/.kaggle/\n",
    "!chmod 600 ~/.kaggle/kaggle.json"
   ]
  },
  {
   "cell_type": "code",
   "execution_count": 3,
   "id": "b990dab2-2199-4cc7-b547-bd3ad9a34014",
   "metadata": {},
   "outputs": [
    {
     "name": "stdout",
     "output_type": "stream",
     "text": [
      "\u001b[1;31mE: \u001b[0mCould not open lock file /var/lib/apt/lists/lock - open (13: Permission denied)\u001b[0m\n",
      "\u001b[1;31mE: \u001b[0mUnable to lock directory /var/lib/apt/lists/\u001b[0m\n",
      "\u001b[1;33mW: \u001b[0mProblem unlinking the file /var/cache/apt/pkgcache.bin - RemoveCaches (13: Permission denied)\u001b[0m\n",
      "\u001b[1;33mW: \u001b[0mProblem unlinking the file /var/cache/apt/srcpkgcache.bin - RemoveCaches (13: Permission denied)\u001b[0m\n",
      "\u001b[1;31mE: \u001b[0mCould not open lock file /var/lib/dpkg/lock-frontend - open (13: Permission denied)\u001b[0m\n",
      "\u001b[1;31mE: \u001b[0mUnable to acquire the dpkg frontend lock (/var/lib/dpkg/lock-frontend), are you root?\u001b[0m\n",
      "Dataset URL: https://www.kaggle.com/datasets/nirmalsankalana/sugarcane-leaf-disease-dataset\n",
      "License(s): CC0-1.0\n"
     ]
    }
   ],
   "source": [
    "# !apt update -qq\n",
    "# !apt install -qq unzip\n",
    "!kaggle datasets download nirmalsankalana/sugarcane-leaf-disease-dataset\n",
    "!unzip -q sugarcane-leaf-disease-dataset.zip -d data"
   ]
  },
  {
   "cell_type": "code",
   "execution_count": 4,
   "id": "6620ca06-f014-4cdb-a636-0f1de07297b8",
   "metadata": {},
   "outputs": [],
   "source": [
    "import os\n",
    "import shutil\n",
    "\n",
    "import pandas as pd\n",
    "\n",
    "# Define paths\n",
    "data_root = \"data\"\n",
    "images_dir = os.path.join(data_root, \"images\")\n",
    "\n",
    "# Create images directory if it doesn't exist\n",
    "os.makedirs(images_dir, exist_ok=True)\n",
    "\n",
    "# List to store image paths and labels\n",
    "dataset = []\n",
    "\n",
    "# Loop through each subfolder\n",
    "for subfolder in os.listdir(data_root):\n",
    "    subfolder_path = os.path.join(data_root, subfolder)\n",
    "\n",
    "    # Ensure it's a directory\n",
    "    if os.path.isdir(subfolder_path) and subfolder != \"images\":\n",
    "        # Loop through images inside the subfolder\n",
    "        for image in os.listdir(subfolder_path):\n",
    "            old_image_path = os.path.join(subfolder_path, image)\n",
    "\n",
    "            # Ensure it's a file (image)\n",
    "            if os.path.isfile(old_image_path):\n",
    "                # Define new image path in \"data/images\" directory\n",
    "                new_image_path = os.path.join(images_dir, image)\n",
    "\n",
    "                # If filename already exists, rename it to avoid conflicts\n",
    "                if os.path.exists(new_image_path):\n",
    "                    base, ext = os.path.splitext(image)\n",
    "                    counter = 1\n",
    "                    while os.path.exists(new_image_path):\n",
    "                        new_image_path = os.path.join(images_dir, f\"{base}_{counter}{ext}\")\n",
    "                        counter += 1\n",
    "\n",
    "                # Move image\n",
    "                shutil.move(old_image_path, new_image_path)\n",
    "\n",
    "                # Append to dataset with updated path and original label\n",
    "                dataset.append({\"image_path\": new_image_path, \"label\": subfolder})\n",
    "\n",
    "        # Optionally remove empty subfolder after moving images\n",
    "        os.rmdir(subfolder_path)\n",
    "\n",
    "df = pd.DataFrame(dataset)\n",
    "df = df.rename(columns={\"image_path\": \"image_id\"})\n",
    "df[\"image_id\"] = df[\"image_id\"].str.replace(\"data/images/\", \"\", regex=False)\n",
    "\n",
    "from sklearn.preprocessing import LabelEncoder\n",
    "\n",
    "label_encoder = LabelEncoder()\n",
    "df[\"label\"] = label_encoder.fit_transform(df[\"label\"])\n",
    "\n",
    "df.to_csv(os.path.join(data_root, \"dataset.csv\"), index=False)\n",
    "\n",
    "label_mapping = dict(zip(label_encoder.classes_, label_encoder.transform(label_encoder.classes_)))"
   ]
  },
  {
   "cell_type": "code",
   "execution_count": 1,
   "id": "614b360e-ba07-4375-99b9-c2400c5e5072",
   "metadata": {},
   "outputs": [],
   "source": [
    "# To load the dataset again:\n",
    "import pandas as pd\n",
    "df = pd.read_csv('data/dataset.csv')"
   ]
  },
  {
   "cell_type": "code",
   "execution_count": 2,
   "id": "2a451a03-5a36-402a-b608-b9c09b038421",
   "metadata": {},
   "outputs": [
    {
     "data": {
      "text/plain": [
       "0    522\n",
       "2    518\n",
       "3    514\n",
       "4    505\n",
       "1    462\n",
       "Name: label, dtype: int64"
      ]
     },
     "execution_count": 2,
     "metadata": {},
     "output_type": "execute_result"
    }
   ],
   "source": [
    "df[\"label\"].value_counts()"
   ]
  },
  {
   "cell_type": "code",
   "execution_count": 3,
   "id": "b1282e13-654a-4974-b4b9-3cf848b99bc1",
   "metadata": {},
   "outputs": [],
   "source": [
    "import os\n",
    "\n",
    "import pandas as pd\n",
    "import torch\n",
    "from PIL import Image\n",
    "from sklearn.model_selection import train_test_split\n",
    "from torch.utils.data import DataLoader\n",
    "\n",
    "device = torch.device(\"cuda\" if torch.cuda.is_available() else \"cpu\")\n",
    "\n",
    "from dataset import Dataset\n"
   ]
  },
  {
   "cell_type": "code",
   "execution_count": 4,
   "id": "b2ba8c31-2cf8-4315-a109-bb206a542f04",
   "metadata": {},
   "outputs": [],
   "source": [
    "train_df, temp_df = train_test_split(df, test_size=0.2, random_state=42, stratify=df[\"label\"])\n",
    "val_df, test_df = train_test_split(temp_df, test_size=0.5, random_state=42, stratify=temp_df[\"label\"])\n",
    "\n",
    "# Change the path to the directory where the images are stored\n",
    "path = \"data/images\"\n",
    "train_dataset = Dataset(train_df, path)\n",
    "test_dataset = Dataset(test_df, path)\n",
    "val_dataset = Dataset(val_df, path)"
   ]
  },
  {
   "cell_type": "code",
   "execution_count": 6,
   "id": "4477227e-0b6d-4593-bbc3-da028ad14f00",
   "metadata": {},
   "outputs": [
    {
     "name": "stderr",
     "output_type": "stream",
     "text": [
      "/home/ubuntu/.local/lib/python3.10/site-packages/tqdm/auto.py:21: TqdmWarning: IProgress not found. Please update jupyter and ipywidgets. See https://ipywidgets.readthedocs.io/en/stable/user_install.html\n",
      "  from .autonotebook import tqdm as notebook_tqdm\n",
      "/home/ubuntu/.local/lib/python3.10/site-packages/timm/models/layers/__init__.py:48: FutureWarning: Importing from timm.models.layers is deprecated, please import via timm.layers\n",
      "  warnings.warn(f\"Importing from {__name__} is deprecated, please import via timm.layers\", FutureWarning)\n"
     ]
    }
   ],
   "source": [
    "batch_size = 16\n",
    "lr = 2e-4\n",
    "num_epochs = 35\n",
    "num_classes = 5\n",
    "\n",
    "from model import SoyaTrans\n",
    "from train import Trainer\n",
    "\n",
    "\n",
    "def run_experiment(batch_size, lr):\n",
    "    train_loader = DataLoader(train_dataset, batch_size=batch_size, shuffle=True)\n",
    "    val_loader = DataLoader(val_dataset, batch_size=batch_size, shuffle=False)\n",
    "    test_loader = DataLoader(test_dataset, batch_size=batch_size, shuffle=False)\n",
    "\n",
    "    model = SoyaTrans(num_classes)\n",
    "    trainer = Trainer(model, train_loader, val_loader, test_loader, lr, num_epochs, batch_size=batch_size)\n",
    "\n",
    "    trainer.train()\n",
    "    trainer.test()\n",
    "    torch.save(trainer.model.state_dict(), 'soyatrans.pth')"
   ]
  },
  {
   "cell_type": "code",
   "execution_count": 7,
   "id": "650ee9fc-d639-472f-879b-d6b3e1d17449",
   "metadata": {
    "scrolled": true
   },
   "outputs": [
    {
     "name": "stderr",
     "output_type": "stream",
     "text": [
      "/usr/lib/python3/dist-packages/torchvision/models/_utils.py:208: UserWarning: The parameter 'pretrained' is deprecated since 0.13 and may be removed in the future, please use 'weights' instead.\n",
      "  warnings.warn(\n",
      "/usr/lib/python3/dist-packages/torchvision/models/_utils.py:223: UserWarning: Arguments other than a weight enum or `None` for 'weights' are deprecated since 0.13 and may be removed in the future. The current behavior is equivalent to passing `weights=VGG16_Weights.IMAGENET1K_V1`. You can also use `weights=VGG16_Weights.DEFAULT` to get the most up-to-date weights.\n",
      "  warnings.warn(msg)\n",
      "/usr/lib/python3/dist-packages/torch/functional.py:539: UserWarning: torch.meshgrid: in an upcoming release, it will be required to pass the indexing argument. (Triggered internally at ./aten/src/ATen/native/TensorShape.cpp:3637.)\n",
      "  return _VF.meshgrid(tensors, **kwargs)  # type: ignore[attr-defined]\n",
      "Epoch 1/35: 100%|██████████| 126/126 [00:54<00:00,  2.31it/s, loss=1.2807]\n"
     ]
    },
    {
     "name": "stdout",
     "output_type": "stream",
     "text": [
      "\n",
      "Train Metrics:\n",
      "--------------------------------------------------\n",
      "Epoch: 0\n",
      "Train Loss: 1.5114\n",
      "Test Loss: 1.4444\n",
      "Accuracy: 0.4524\n",
      "Precision: 0.2720\n",
      "Recall: 0.4524\n",
      "F1: 0.3386\n",
      "--------------------------------------------------\n"
     ]
    },
    {
     "name": "stderr",
     "output_type": "stream",
     "text": [
      "Epoch 2/35: 100%|██████████| 126/126 [00:53<00:00,  2.36it/s, loss=1.2256]\n"
     ]
    },
    {
     "name": "stdout",
     "output_type": "stream",
     "text": [
      "\n",
      "Train Metrics:\n",
      "--------------------------------------------------\n",
      "Running experiment with batch_size=16, lr=0.0002\n",
      "Epoch: 1\n",
      "Train Loss: 1.3717\n",
      "Test Loss: 1.3071\n",
      "Accuracy: 0.6190\n",
      "Precision: 0.6675\n",
      "Recall: 0.6190\n",
      "F1: 0.5868\n",
      "--------------------------------------------------\n"
     ]
    },
    {
     "name": "stderr",
     "output_type": "stream",
     "text": [
      "Epoch 3/35: 100%|██████████| 126/126 [00:53<00:00,  2.36it/s, loss=1.2547]\n"
     ]
    },
    {
     "name": "stdout",
     "output_type": "stream",
     "text": [
      "\n",
      "Train Metrics:\n",
      "--------------------------------------------------\n",
      "Epoch: 2\n",
      "Train Loss: 1.1983\n",
      "Test Loss: 1.1797\n",
      "Accuracy: 0.7381\n",
      "Precision: 0.7564\n",
      "Recall: 0.7381\n",
      "F1: 0.7219\n",
      "--------------------------------------------------\n"
     ]
    },
    {
     "name": "stderr",
     "output_type": "stream",
     "text": [
      "Epoch 4/35: 100%|██████████| 126/126 [00:52<00:00,  2.38it/s, loss=0.9680]\n"
     ]
    },
    {
     "name": "stdout",
     "output_type": "stream",
     "text": [
      "\n",
      "Train Metrics:\n",
      "--------------------------------------------------\n",
      "Epoch: 3\n",
      "Train Loss: 1.1422\n",
      "Test Loss: 1.2265\n",
      "Accuracy: 0.6825\n",
      "Precision: 0.7394\n",
      "Recall: 0.6825\n",
      "F1: 0.6766\n",
      "--------------------------------------------------\n"
     ]
    },
    {
     "name": "stderr",
     "output_type": "stream",
     "text": [
      "Epoch 5/35: 100%|██████████| 126/126 [00:53<00:00,  2.37it/s, loss=0.9486]\n"
     ]
    },
    {
     "name": "stdout",
     "output_type": "stream",
     "text": [
      "\n",
      "Train Metrics:\n",
      "--------------------------------------------------\n",
      "Epoch: 4\n",
      "Train Loss: 1.1107\n",
      "Test Loss: 1.1325\n",
      "Accuracy: 0.7579\n",
      "Precision: 0.7655\n",
      "Recall: 0.7579\n",
      "F1: 0.7567\n",
      "--------------------------------------------------\n"
     ]
    },
    {
     "name": "stderr",
     "output_type": "stream",
     "text": [
      "Epoch 6/35: 100%|██████████| 126/126 [00:53<00:00,  2.37it/s, loss=1.1276]\n"
     ]
    },
    {
     "name": "stdout",
     "output_type": "stream",
     "text": [
      "\n",
      "Train Metrics:\n",
      "--------------------------------------------------\n",
      "Epoch: 5\n",
      "Train Loss: 1.0668\n",
      "Test Loss: 1.0973\n",
      "Accuracy: 0.8095\n",
      "Precision: 0.8244\n",
      "Recall: 0.8095\n",
      "F1: 0.8077\n",
      "--------------------------------------------------\n"
     ]
    },
    {
     "name": "stderr",
     "output_type": "stream",
     "text": [
      "Epoch 7/35: 100%|██████████| 126/126 [00:53<00:00,  2.37it/s, loss=1.0323]\n"
     ]
    },
    {
     "name": "stdout",
     "output_type": "stream",
     "text": [
      "\n",
      "Train Metrics:\n",
      "--------------------------------------------------\n",
      "Epoch: 6\n",
      "Train Loss: 1.0451\n",
      "Test Loss: 1.0660\n",
      "Accuracy: 0.8532\n",
      "Precision: 0.8564\n",
      "Recall: 0.8532\n",
      "F1: 0.8528\n",
      "--------------------------------------------------\n"
     ]
    },
    {
     "name": "stderr",
     "output_type": "stream",
     "text": [
      "Epoch 8/35: 100%|██████████| 126/126 [00:54<00:00,  2.32it/s, loss=0.9925]\n"
     ]
    },
    {
     "name": "stdout",
     "output_type": "stream",
     "text": [
      "\n",
      "Train Metrics:\n",
      "--------------------------------------------------\n",
      "Epoch: 7\n",
      "Train Loss: 1.0256\n",
      "Test Loss: 1.0773\n",
      "Accuracy: 0.8373\n",
      "Precision: 0.8615\n",
      "Recall: 0.8373\n",
      "F1: 0.8355\n",
      "--------------------------------------------------\n"
     ]
    },
    {
     "name": "stderr",
     "output_type": "stream",
     "text": [
      "Epoch 9/35: 100%|██████████| 126/126 [00:53<00:00,  2.34it/s, loss=1.0977]\n"
     ]
    },
    {
     "name": "stdout",
     "output_type": "stream",
     "text": [
      "\n",
      "Train Metrics:\n",
      "--------------------------------------------------\n",
      "Epoch: 8\n",
      "Train Loss: 1.0103\n",
      "Test Loss: 1.0255\n",
      "Accuracy: 0.8849\n",
      "Precision: 0.8881\n",
      "Recall: 0.8849\n",
      "F1: 0.8849\n",
      "--------------------------------------------------\n"
     ]
    },
    {
     "name": "stderr",
     "output_type": "stream",
     "text": [
      "Epoch 10/35: 100%|██████████| 126/126 [00:54<00:00,  2.30it/s, loss=0.9338]\n"
     ]
    },
    {
     "name": "stdout",
     "output_type": "stream",
     "text": [
      "\n",
      "Train Metrics:\n",
      "--------------------------------------------------\n",
      "Epoch: 9\n",
      "Train Loss: 0.9948\n",
      "Test Loss: 1.0144\n",
      "Accuracy: 0.9087\n",
      "Precision: 0.9136\n",
      "Recall: 0.9087\n",
      "F1: 0.9081\n",
      "--------------------------------------------------\n"
     ]
    },
    {
     "name": "stderr",
     "output_type": "stream",
     "text": [
      "Epoch 11/35: 100%|██████████| 126/126 [00:53<00:00,  2.33it/s, loss=0.9476]\n"
     ]
    },
    {
     "name": "stdout",
     "output_type": "stream",
     "text": [
      "\n",
      "Train Metrics:\n",
      "--------------------------------------------------\n",
      "Epoch: 10\n",
      "Train Loss: 0.9843\n",
      "Test Loss: 1.0016\n",
      "Accuracy: 0.9087\n",
      "Precision: 0.9094\n",
      "Recall: 0.9087\n",
      "F1: 0.9081\n",
      "--------------------------------------------------\n"
     ]
    },
    {
     "name": "stderr",
     "output_type": "stream",
     "text": [
      "Epoch 12/35: 100%|██████████| 126/126 [00:54<00:00,  2.32it/s, loss=0.9135]\n"
     ]
    },
    {
     "name": "stdout",
     "output_type": "stream",
     "text": [
      "\n",
      "Train Metrics:\n",
      "--------------------------------------------------\n",
      "Epoch: 11\n",
      "Train Loss: 0.9679\n",
      "Test Loss: 1.0003\n",
      "Accuracy: 0.9127\n",
      "Precision: 0.9152\n",
      "Recall: 0.9127\n",
      "F1: 0.9125\n",
      "--------------------------------------------------\n"
     ]
    },
    {
     "name": "stderr",
     "output_type": "stream",
     "text": [
      "Epoch 13/35: 100%|██████████| 126/126 [00:54<00:00,  2.33it/s, loss=0.9069]\n"
     ]
    },
    {
     "name": "stdout",
     "output_type": "stream",
     "text": [
      "\n",
      "Train Metrics:\n",
      "--------------------------------------------------\n",
      "Epoch: 12\n",
      "Train Loss: 0.9647\n",
      "Test Loss: 0.9796\n",
      "Accuracy: 0.9325\n",
      "Precision: 0.9336\n",
      "Recall: 0.9325\n",
      "F1: 0.9321\n",
      "--------------------------------------------------\n"
     ]
    },
    {
     "name": "stderr",
     "output_type": "stream",
     "text": [
      "Epoch 14/35: 100%|██████████| 126/126 [00:54<00:00,  2.31it/s, loss=1.0214]\n"
     ]
    },
    {
     "name": "stdout",
     "output_type": "stream",
     "text": [
      "\n",
      "Train Metrics:\n",
      "--------------------------------------------------\n",
      "Epoch: 13\n",
      "Train Loss: 0.9614\n",
      "Test Loss: 0.9878\n",
      "Accuracy: 0.9246\n",
      "Precision: 0.9258\n",
      "Recall: 0.9246\n",
      "F1: 0.9242\n",
      "--------------------------------------------------\n"
     ]
    },
    {
     "name": "stderr",
     "output_type": "stream",
     "text": [
      "Epoch 15/35: 100%|██████████| 126/126 [00:55<00:00,  2.27it/s, loss=0.9717]\n"
     ]
    },
    {
     "name": "stdout",
     "output_type": "stream",
     "text": [
      "\n",
      "Train Metrics:\n",
      "--------------------------------------------------\n",
      "Epoch: 14\n",
      "Train Loss: 0.9567\n",
      "Test Loss: 0.9948\n",
      "Accuracy: 0.9246\n",
      "Precision: 0.9293\n",
      "Recall: 0.9246\n",
      "F1: 0.9245\n",
      "--------------------------------------------------\n"
     ]
    },
    {
     "name": "stderr",
     "output_type": "stream",
     "text": [
      "Epoch 16/35: 100%|██████████| 126/126 [00:54<00:00,  2.31it/s, loss=0.9085]\n"
     ]
    },
    {
     "name": "stdout",
     "output_type": "stream",
     "text": [
      "\n",
      "Train Metrics:\n",
      "--------------------------------------------------\n",
      "Epoch: 15\n",
      "Train Loss: 0.9484\n",
      "Test Loss: 0.9791\n",
      "Accuracy: 0.9286\n",
      "Precision: 0.9298\n",
      "Recall: 0.9286\n",
      "F1: 0.9288\n",
      "--------------------------------------------------\n"
     ]
    },
    {
     "name": "stderr",
     "output_type": "stream",
     "text": [
      "Epoch 17/35: 100%|██████████| 126/126 [00:54<00:00,  2.30it/s, loss=0.9803]\n"
     ]
    },
    {
     "name": "stdout",
     "output_type": "stream",
     "text": [
      "\n",
      "Train Metrics:\n",
      "--------------------------------------------------\n",
      "Epoch: 16\n",
      "Train Loss: 0.9450\n",
      "Test Loss: 0.9668\n",
      "Accuracy: 0.9405\n",
      "Precision: 0.9411\n",
      "Recall: 0.9405\n",
      "F1: 0.9406\n",
      "--------------------------------------------------\n"
     ]
    },
    {
     "name": "stderr",
     "output_type": "stream",
     "text": [
      "Epoch 18/35: 100%|██████████| 126/126 [00:54<00:00,  2.31it/s, loss=0.9968]\n"
     ]
    },
    {
     "name": "stdout",
     "output_type": "stream",
     "text": [
      "\n",
      "Train Metrics:\n",
      "--------------------------------------------------\n",
      "Epoch: 17\n",
      "Train Loss: 0.9413\n",
      "Test Loss: 0.9789\n",
      "Accuracy: 0.9365\n",
      "Precision: 0.9400\n",
      "Recall: 0.9365\n",
      "F1: 0.9366\n",
      "--------------------------------------------------\n"
     ]
    },
    {
     "name": "stderr",
     "output_type": "stream",
     "text": [
      "Epoch 19/35: 100%|██████████| 126/126 [00:54<00:00,  2.30it/s, loss=0.9547]\n"
     ]
    },
    {
     "name": "stdout",
     "output_type": "stream",
     "text": [
      "\n",
      "Train Metrics:\n",
      "--------------------------------------------------\n",
      "Epoch: 18\n",
      "Train Loss: 0.9395\n",
      "Test Loss: 0.9637\n",
      "Accuracy: 0.9444\n",
      "Precision: 0.9455\n",
      "Recall: 0.9444\n",
      "F1: 0.9445\n",
      "--------------------------------------------------\n"
     ]
    },
    {
     "name": "stderr",
     "output_type": "stream",
     "text": [
      "Epoch 20/35: 100%|██████████| 126/126 [00:54<00:00,  2.31it/s, loss=0.9082]\n"
     ]
    },
    {
     "name": "stdout",
     "output_type": "stream",
     "text": [
      "\n",
      "Train Metrics:\n",
      "--------------------------------------------------\n",
      "Epoch: 19\n",
      "Train Loss: 0.9350\n",
      "Test Loss: 0.9575\n",
      "Accuracy: 0.9563\n",
      "Precision: 0.9576\n",
      "Recall: 0.9563\n",
      "F1: 0.9563\n",
      "--------------------------------------------------\n"
     ]
    },
    {
     "name": "stderr",
     "output_type": "stream",
     "text": [
      "Epoch 21/35: 100%|██████████| 126/126 [00:54<00:00,  2.31it/s, loss=0.9081]\n"
     ]
    },
    {
     "name": "stdout",
     "output_type": "stream",
     "text": [
      "\n",
      "Train Metrics:\n",
      "--------------------------------------------------\n",
      "Epoch: 20\n",
      "Train Loss: 0.9333\n",
      "Test Loss: 0.9655\n",
      "Accuracy: 0.9444\n",
      "Precision: 0.9460\n",
      "Recall: 0.9444\n",
      "F1: 0.9447\n",
      "--------------------------------------------------\n"
     ]
    },
    {
     "name": "stderr",
     "output_type": "stream",
     "text": [
      "Epoch 22/35: 100%|██████████| 126/126 [00:54<00:00,  2.30it/s, loss=0.9144]\n"
     ]
    },
    {
     "name": "stdout",
     "output_type": "stream",
     "text": [
      "\n",
      "Train Metrics:\n",
      "--------------------------------------------------\n",
      "Epoch: 21\n",
      "Train Loss: 0.9310\n",
      "Test Loss: 0.9638\n",
      "Accuracy: 0.9444\n",
      "Precision: 0.9462\n",
      "Recall: 0.9444\n",
      "F1: 0.9447\n",
      "--------------------------------------------------\n"
     ]
    },
    {
     "name": "stderr",
     "output_type": "stream",
     "text": [
      "Epoch 23/35: 100%|██████████| 126/126 [00:55<00:00,  2.27it/s, loss=0.9129]\n"
     ]
    },
    {
     "name": "stdout",
     "output_type": "stream",
     "text": [
      "\n",
      "Train Metrics:\n",
      "--------------------------------------------------\n",
      "Epoch: 22\n",
      "Train Loss: 0.9307\n",
      "Test Loss: 0.9614\n",
      "Accuracy: 0.9484\n",
      "Precision: 0.9488\n",
      "Recall: 0.9484\n",
      "F1: 0.9485\n",
      "--------------------------------------------------\n"
     ]
    },
    {
     "name": "stderr",
     "output_type": "stream",
     "text": [
      "Epoch 24/35: 100%|██████████| 126/126 [00:55<00:00,  2.27it/s, loss=0.9120]\n"
     ]
    },
    {
     "name": "stdout",
     "output_type": "stream",
     "text": [
      "\n",
      "Train Metrics:\n",
      "--------------------------------------------------\n",
      "Epoch: 23\n",
      "Train Loss: 0.9278\n",
      "Test Loss: 0.9585\n",
      "Accuracy: 0.9524\n",
      "Precision: 0.9527\n",
      "Recall: 0.9524\n",
      "F1: 0.9524\n",
      "--------------------------------------------------\n"
     ]
    },
    {
     "name": "stderr",
     "output_type": "stream",
     "text": [
      "Epoch 25/35: 100%|██████████| 126/126 [00:54<00:00,  2.31it/s, loss=0.9431]\n"
     ]
    },
    {
     "name": "stdout",
     "output_type": "stream",
     "text": [
      "\n",
      "Train Metrics:\n",
      "--------------------------------------------------\n",
      "Epoch: 24\n",
      "Train Loss: 0.9262\n",
      "Test Loss: 0.9565\n",
      "Accuracy: 0.9484\n",
      "Precision: 0.9498\n",
      "Recall: 0.9484\n",
      "F1: 0.9485\n",
      "--------------------------------------------------\n"
     ]
    },
    {
     "name": "stderr",
     "output_type": "stream",
     "text": [
      "Epoch 27/35: 100%|██████████| 126/126 [00:54<00:00,  2.30it/s, loss=0.9215]\n"
     ]
    },
    {
     "name": "stdout",
     "output_type": "stream",
     "text": [
      "\n",
      "Train Metrics:\n",
      "--------------------------------------------------\n",
      "Epoch: 26\n",
      "Train Loss: 0.9243\n",
      "Test Loss: 0.9529\n",
      "Accuracy: 0.9484\n",
      "Precision: 0.9498\n",
      "Recall: 0.9484\n",
      "F1: 0.9485\n",
      "--------------------------------------------------\n"
     ]
    },
    {
     "name": "stderr",
     "output_type": "stream",
     "text": [
      "Epoch 28/35: 100%|██████████| 126/126 [00:55<00:00,  2.29it/s, loss=0.9075]\n"
     ]
    },
    {
     "name": "stdout",
     "output_type": "stream",
     "text": [
      "\n",
      "Train Metrics:\n",
      "--------------------------------------------------\n",
      "Epoch: 27\n",
      "Train Loss: 0.9235\n",
      "Test Loss: 0.9540\n",
      "Accuracy: 0.9524\n",
      "Precision: 0.9525\n",
      "Recall: 0.9524\n",
      "F1: 0.9524\n",
      "--------------------------------------------------\n"
     ]
    },
    {
     "name": "stderr",
     "output_type": "stream",
     "text": [
      "Epoch 29/35: 100%|██████████| 126/126 [00:55<00:00,  2.28it/s, loss=0.9096]\n"
     ]
    },
    {
     "name": "stdout",
     "output_type": "stream",
     "text": [
      "\n",
      "Train Metrics:\n",
      "--------------------------------------------------\n",
      "Epoch: 28\n",
      "Train Loss: 0.9227\n",
      "Test Loss: 0.9526\n",
      "Accuracy: 0.9563\n",
      "Precision: 0.9566\n",
      "Recall: 0.9563\n",
      "F1: 0.9564\n",
      "--------------------------------------------------\n"
     ]
    },
    {
     "name": "stderr",
     "output_type": "stream",
     "text": [
      "Epoch 30/35: 100%|██████████| 126/126 [00:55<00:00,  2.28it/s, loss=0.9209]\n"
     ]
    },
    {
     "name": "stdout",
     "output_type": "stream",
     "text": [
      "\n",
      "Train Metrics:\n",
      "--------------------------------------------------\n",
      "Epoch: 29\n",
      "Train Loss: 0.9222\n",
      "Test Loss: 0.9564\n",
      "Accuracy: 0.9444\n",
      "Precision: 0.9450\n",
      "Recall: 0.9444\n",
      "F1: 0.9446\n",
      "--------------------------------------------------\n"
     ]
    },
    {
     "name": "stderr",
     "output_type": "stream",
     "text": [
      "Epoch 31/35: 100%|██████████| 126/126 [00:55<00:00,  2.28it/s, loss=0.9077]\n"
     ]
    },
    {
     "name": "stdout",
     "output_type": "stream",
     "text": [
      "\n",
      "Train Metrics:\n",
      "--------------------------------------------------\n",
      "Epoch: 30\n",
      "Train Loss: 0.9219\n",
      "Test Loss: 0.9522\n",
      "Accuracy: 0.9563\n",
      "Precision: 0.9572\n",
      "Recall: 0.9563\n",
      "F1: 0.9564\n",
      "--------------------------------------------------\n"
     ]
    },
    {
     "name": "stderr",
     "output_type": "stream",
     "text": [
      "Epoch 32/35: 100%|██████████| 126/126 [00:55<00:00,  2.28it/s, loss=0.9062]\n"
     ]
    },
    {
     "name": "stdout",
     "output_type": "stream",
     "text": [
      "\n",
      "Train Metrics:\n",
      "--------------------------------------------------\n",
      "Epoch: 31\n",
      "Train Loss: 0.9210\n",
      "Test Loss: 0.9538\n",
      "Accuracy: 0.9484\n",
      "Precision: 0.9498\n",
      "Recall: 0.9484\n",
      "F1: 0.9485\n",
      "--------------------------------------------------\n"
     ]
    },
    {
     "name": "stderr",
     "output_type": "stream",
     "text": [
      "Epoch 33/35: 100%|██████████| 126/126 [00:55<00:00,  2.28it/s, loss=0.9677]\n"
     ]
    },
    {
     "name": "stdout",
     "output_type": "stream",
     "text": [
      "\n",
      "Train Metrics:\n",
      "--------------------------------------------------\n",
      "Epoch: 32\n",
      "Train Loss: 0.9212\n",
      "Test Loss: 0.9533\n",
      "Accuracy: 0.9484\n",
      "Precision: 0.9489\n",
      "Recall: 0.9484\n",
      "F1: 0.9485\n",
      "--------------------------------------------------\n"
     ]
    },
    {
     "name": "stderr",
     "output_type": "stream",
     "text": [
      "Epoch 34/35: 100%|██████████| 126/126 [00:55<00:00,  2.29it/s, loss=0.9066]\n"
     ]
    },
    {
     "name": "stdout",
     "output_type": "stream",
     "text": [
      "\n",
      "Train Metrics:\n",
      "--------------------------------------------------\n",
      "Epoch: 33\n",
      "Train Loss: 0.9204\n",
      "Test Loss: 0.9528\n",
      "Accuracy: 0.9524\n",
      "Precision: 0.9528\n",
      "Recall: 0.9524\n",
      "F1: 0.9525\n",
      "--------------------------------------------------\n"
     ]
    },
    {
     "name": "stderr",
     "output_type": "stream",
     "text": [
      "Epoch 35/35: 100%|██████████| 126/126 [00:54<00:00,  2.30it/s, loss=0.9097]\n"
     ]
    },
    {
     "name": "stdout",
     "output_type": "stream",
     "text": [
      "\n",
      "Train Metrics:\n",
      "--------------------------------------------------\n",
      "Epoch: 34\n",
      "Train Loss: 0.9198\n",
      "Test Loss: 0.9539\n",
      "Accuracy: 0.9524\n",
      "Precision: 0.9527\n",
      "Recall: 0.9524\n",
      "F1: 0.9524\n",
      "--------------------------------------------------\n",
      "\n",
      "Test Metrics:\n",
      "--------------------------------------------------\n",
      "Test Loss: 0.9522\n",
      "Accuracy: 0.9563\n",
      "Precision: 0.9572\n",
      "Recall: 0.9563\n",
      "F1: 0.9564\n",
      "--------------------------------------------------\n"
     ]
    }
   ],
   "source": [
    "# import itertools\n",
    "# for batch_size, lr in itertools.product(batch_sizes, lrs):\n",
    "    # print(f\"\\nRunning experiment with batch_size={batch_size}, lr={lr}\")\n",
    "    # run_experiment(batch_size, lr)\n",
    "\n",
    "run_experiment(batch_size, lr)"
   ]
  }
 ],
 "metadata": {
  "kernelspec": {
   "display_name": "Python 3 (ipykernel)",
   "language": "python",
   "name": "python3"
  },
  "language_info": {
   "codemirror_mode": {
    "name": "ipython",
    "version": 3
   },
   "file_extension": ".py",
   "mimetype": "text/x-python",
   "name": "python",
   "nbconvert_exporter": "python",
   "pygments_lexer": "ipython3",
   "version": "3.10.12"
  }
 },
 "nbformat": 4,
 "nbformat_minor": 5
}
